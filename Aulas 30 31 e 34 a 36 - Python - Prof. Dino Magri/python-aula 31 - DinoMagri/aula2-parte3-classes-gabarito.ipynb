{
 "cells": [
  {
   "cell_type": "markdown",
   "metadata": {},
   "source": [
    "## Classes e Objetos"
   ]
  },
  {
   "cell_type": "code",
   "execution_count": null,
   "metadata": {},
   "outputs": [],
   "source": [
    "class Pessoa:\n",
    "    def __init__(self, nome, idade):\n",
    "        self.nome = nome\n",
    "        self.idade = idade"
   ]
  },
  {
   "cell_type": "code",
   "execution_count": null,
   "metadata": {},
   "outputs": [],
   "source": [
    "maria = Pessoa()"
   ]
  },
  {
   "cell_type": "code",
   "execution_count": null,
   "metadata": {},
   "outputs": [],
   "source": [
    "maria = Pessoa('Maria', 30)"
   ]
  },
  {
   "cell_type": "code",
   "execution_count": null,
   "metadata": {},
   "outputs": [],
   "source": [
    "maria.nome"
   ]
  },
  {
   "cell_type": "code",
   "execution_count": null,
   "metadata": {},
   "outputs": [],
   "source": [
    "maria.idade"
   ]
  },
  {
   "cell_type": "code",
   "execution_count": null,
   "metadata": {},
   "outputs": [],
   "source": [
    "maria.idade = 31"
   ]
  },
  {
   "cell_type": "code",
   "execution_count": null,
   "metadata": {},
   "outputs": [],
   "source": [
    "print(maria.idade)"
   ]
  },
  {
   "cell_type": "markdown",
   "metadata": {},
   "source": [
    "### Exercício\n",
    "\n",
    "- Modifique a classe Pessoa adicionando os seguintes atributos.\n",
    "- Apenas os atributos nome e idade são obrigatórios.\n",
    "- O método recuperar_info() deve imprimir todos os atributos.\n",
    "- Os métodos falar() e andar retornar a seguinte string:\n",
    "    - ```\"{} está andando\"```\n",
    "    - ```\"{} está falando\"```\n",
    "\n",
    "- Para testar, realize a instância da classe Pessoa para os objetos (variáveis) maria e pedro.\n",
    "\n",
    "![](exercicio.PNG)"
   ]
  },
  {
   "cell_type": "code",
   "execution_count": null,
   "metadata": {},
   "outputs": [],
   "source": [
    "class Pessoa:\n",
    "    def __init__(self, nome, idade):\n",
    "        self.nome = nome\n",
    "        self.idade = idade\n",
    "        self.peso = None\n",
    "        self.altura = None\n",
    "        \n",
    "    def falar(self):\n",
    "        return f\"{self.nome} está falando\"\n",
    "    \n",
    "    def andar(self):\n",
    "        return f\"{self.nome} está andando\"\n",
    "    \n",
    "    def recuperar_infos(self):\n",
    "        return f\"\"\"\n",
    "        Informações - {self.nome}\n",
    "        =========================\n",
    "        Idade - {self.idade}\n",
    "        Peso - {self.peso}\n",
    "        Altura - {self.altura}\n",
    "        \"\"\""
   ]
  },
  {
   "cell_type": "code",
   "execution_count": null,
   "metadata": {},
   "outputs": [],
   "source": [
    "# Criar instância da classe Pessoa no objeto maria\n",
    "maria = Pessoa('Maria', 25)"
   ]
  },
  {
   "cell_type": "code",
   "execution_count": null,
   "metadata": {},
   "outputs": [],
   "source": [
    "# Execute o método recuperar_infos()\n",
    "print(maria.recuperar_infos())"
   ]
  },
  {
   "cell_type": "code",
   "execution_count": null,
   "metadata": {},
   "outputs": [],
   "source": [
    "# Altere os valores de peso e altura\n",
    "maria.peso = 65.5\n",
    "maria.altura = 1.72"
   ]
  },
  {
   "cell_type": "code",
   "execution_count": null,
   "metadata": {},
   "outputs": [],
   "source": [
    "# Execute novamente o método recuperar_infos()\n",
    "print(maria.recuperar_infos())"
   ]
  },
  {
   "cell_type": "code",
   "execution_count": null,
   "metadata": {},
   "outputs": [],
   "source": [
    "# Criar instância da classe Pessoa no objeto pedro\n",
    "pedro = Pessoa('Pedro', 30)"
   ]
  },
  {
   "cell_type": "code",
   "execution_count": null,
   "metadata": {},
   "outputs": [],
   "source": [
    "# Execute o método recuperar_infos()\n",
    "print(pedro.recuperar_infos())"
   ]
  },
  {
   "cell_type": "code",
   "execution_count": null,
   "metadata": {},
   "outputs": [],
   "source": [
    "# Altere os valores de peso e altura\n",
    "pedro.peso = 85.5\n",
    "pedro.altura = 1.83"
   ]
  },
  {
   "cell_type": "code",
   "execution_count": null,
   "metadata": {},
   "outputs": [],
   "source": [
    "# Execute novamente o método recuperar_infos()\n",
    "print(pedro.recuperar_infos())"
   ]
  },
  {
   "cell_type": "code",
   "execution_count": null,
   "metadata": {},
   "outputs": [],
   "source": []
  }
 ],
 "metadata": {
  "kernelspec": {
   "display_name": "Python 3",
   "language": "python",
   "name": "python3"
  },
  "language_info": {
   "codemirror_mode": {
    "name": "ipython",
    "version": 3
   },
   "file_extension": ".py",
   "mimetype": "text/x-python",
   "name": "python",
   "nbconvert_exporter": "python",
   "pygments_lexer": "ipython3",
   "version": "3.7.2"
  }
 },
 "nbformat": 4,
 "nbformat_minor": 2
}
