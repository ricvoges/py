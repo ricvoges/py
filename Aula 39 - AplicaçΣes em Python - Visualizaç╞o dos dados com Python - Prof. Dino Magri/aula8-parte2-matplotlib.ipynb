{
 "cells": [
  {
   "cell_type": "markdown",
   "metadata": {},
   "source": [
    "# Matplotlib"
   ]
  },
  {
   "cell_type": "code",
   "execution_count": null,
   "metadata": {},
   "outputs": [],
   "source": [
    "import numpy as np\n",
    "import matplotlib.pyplot as plt"
   ]
  },
  {
   "cell_type": "code",
   "execution_count": null,
   "metadata": {},
   "outputs": [],
   "source": [
    "x = [1, 2, 3, 4, 5]"
   ]
  },
  {
   "cell_type": "code",
   "execution_count": null,
   "metadata": {},
   "outputs": [],
   "source": [
    "y = [1, 4, 9, 16, 25]"
   ]
  },
  {
   "cell_type": "code",
   "execution_count": null,
   "metadata": {},
   "outputs": [],
   "source": [
    "x, y"
   ]
  },
  {
   "cell_type": "markdown",
   "metadata": {},
   "source": [
    "Podemos utilizar o ```;``` no final do comando de plotagem para ocultar as saídas parecidas com  ```<matplotlib.collections.PathCollection at 0x23b63367a58>```"
   ]
  },
  {
   "cell_type": "code",
   "execution_count": null,
   "metadata": {},
   "outputs": [],
   "source": [
    "# Antes\n",
    "plt.scatter(x, y)"
   ]
  },
  {
   "cell_type": "code",
   "execution_count": null,
   "metadata": {},
   "outputs": [],
   "source": [
    "# Depois\n",
    "plt.scatter(x, y);"
   ]
  },
  {
   "cell_type": "markdown",
   "metadata": {},
   "source": [
    "## Plots e subplots\n",
    "\n",
    "**<span style=\"color:blue\">[PERGUNTA]:</span> Como posso aumentar o tamanho da figura?**\n",
    "\n",
    "Muitas vezes, o tamanho padrão é muito pequeno. Podemos adicionar o argumento ```figsize``` e especificar a largura e altura que queremos. A medida é em polegadas e o padrão é ```[6.4, 4.8]```"
   ]
  },
  {
   "cell_type": "code",
   "execution_count": null,
   "metadata": {},
   "outputs": [],
   "source": [
    "plt.figure(figsize=(20, 10))\n",
    "plt.scatter(x, y)"
   ]
  },
  {
   "cell_type": "markdown",
   "metadata": {},
   "source": [
    "**<span style=\"color:blue\">[PERGUNTA]:</span> O que é uma subplot? Como podemos criar e navegar nas subplots?**\n",
    "    \n",
    "Subplots são grupos de pequenos eixos que existem dentro de uma única figura.\n",
    "\n",
    "Podemos criar as subplots em qualquer forma.\n",
    "\n",
    "Vamos criar uma 2 x 2."
   ]
  },
  {
   "cell_type": "code",
   "execution_count": null,
   "metadata": {},
   "outputs": [],
   "source": [
    "plt.subplots(2, 2);\n",
    "plt.tight_layout()"
   ]
  },
  {
   "cell_type": "markdown",
   "metadata": {},
   "source": [
    "Para acessar e trabalhar em cada uma das subplots, temos que criar objetos que representam cada uma delas."
   ]
  },
  {
   "cell_type": "code",
   "execution_count": null,
   "metadata": {},
   "outputs": [],
   "source": [
    "fig, axes = plt.subplots(2, 2)\n",
    "fig.set_figwidth(20)\n",
    "fig.set_figheight(10)\n",
    "axes[0, 0].scatter(x, y)\n",
    "axes[0, 1].plot(x, y)\n",
    "axes[1, 0].plot(y)\n",
    "axes[1, 1].plot(x);"
   ]
  },
  {
   "cell_type": "markdown",
   "metadata": {},
   "source": [
    "Podemos compartilhar os eixos:"
   ]
  },
  {
   "cell_type": "code",
   "execution_count": null,
   "metadata": {},
   "outputs": [],
   "source": [
    "fig, axes = plt.subplots(2, 2, sharex=True, sharey=True, figsize=(20, 10))\n",
    "#print(axes)\n",
    "axes[0, 0].scatter(x, y)\n",
    "axes[0, 1].plot(x, y)\n",
    "axes[1, 0].plot(y)\n",
    "axes[1, 1].plot(x);"
   ]
  },
  {
   "cell_type": "markdown",
   "metadata": {},
   "source": [
    "Também podemos desempactar as subplots diretamente em variáveis, ao invés de utilizar o indice."
   ]
  },
  {
   "cell_type": "code",
   "execution_count": null,
   "metadata": {},
   "outputs": [],
   "source": [
    "fig, ((ax1, ax2), (ax3, ax4)) = plt.subplots(2, 2, sharex=True, sharey=True, figsize=(20, 10))\n",
    "#print(axes)\n",
    "ax1.scatter(x, y, marker='o', s=10)\n",
    "ax1.set_title('Scatter')\n",
    "\n",
    "ax2.plot(x, y, color='green', linestyle='-.', linewidth=4)\n",
    "\n",
    "ax3.plot(y, marker='o', markersize=10)\n",
    "ax3.plot(x)\n",
    "\n",
    "\n",
    "ax4.plot(x)\n",
    "ax4.set_title('Linha', fontsize=15)\n",
    "\n",
    "fig.suptitle('Conjuntos de subplots', fontsize=30);"
   ]
  },
  {
   "cell_type": "markdown",
   "metadata": {},
   "source": [
    "Note que cada método de plotagem implementa os parâmetros de maneira diferente, portanto é importante estudar as documentações corretamente para obter o resultado desejado."
   ]
  },
  {
   "cell_type": "code",
   "execution_count": null,
   "metadata": {},
   "outputs": [],
   "source": []
  }
 ],
 "metadata": {
  "kernelspec": {
   "display_name": "Python 3",
   "language": "python",
   "name": "python3"
  },
  "language_info": {
   "codemirror_mode": {
    "name": "ipython",
    "version": 3
   },
   "file_extension": ".py",
   "mimetype": "text/x-python",
   "name": "python",
   "nbconvert_exporter": "python",
   "pygments_lexer": "ipython3",
   "version": "3.7.2"
  }
 },
 "nbformat": 4,
 "nbformat_minor": 2
}
