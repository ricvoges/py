{
 "cells": [
  {
   "cell_type": "markdown",
   "metadata": {},
   "source": [
    "# O básico sobre tratamento de exceções\n",
    "\n",
    "\n",
    "Erros detectados durante a execução são chamados de exceções e não são necessariamente fatais. A maioria das exceções não são lidadas pelos programas, entretanto, um resultado de mensagens de erros são ilustradas abaixo:"
   ]
  },
  {
   "cell_type": "code",
   "execution_count": null,
   "metadata": {},
   "outputs": [],
   "source": [
    "10 *(1/0)"
   ]
  },
  {
   "cell_type": "code",
   "execution_count": null,
   "metadata": {},
   "outputs": [],
   "source": [
    "4 + spam*3"
   ]
  },
  {
   "cell_type": "code",
   "execution_count": null,
   "metadata": {},
   "outputs": [],
   "source": [
    "'2' + 2"
   ]
  },
  {
   "cell_type": "markdown",
   "metadata": {},
   "source": [
    "Podemos controlar o fluxo de execução quando algo inesperado ocorrer em nosso código."
   ]
  },
  {
   "cell_type": "code",
   "execution_count": null,
   "metadata": {},
   "outputs": [],
   "source": [
    "produtos = [\"ipda\", \"cel\", \"note\"]\n",
    "print(produtos[1])"
   ]
  },
  {
   "cell_type": "code",
   "execution_count": null,
   "metadata": {},
   "outputs": [],
   "source": [
    "print(produtos[3])"
   ]
  },
  {
   "cell_type": "markdown",
   "metadata": {},
   "source": [
    "Para contornar esse erro, podemos utilizar o par try/catch. "
   ]
  },
  {
   "cell_type": "code",
   "execution_count": null,
   "metadata": {},
   "outputs": [],
   "source": [
    "try:\n",
    "    print(produtos[3])\n",
    "except:\n",
    "    print(\"O vetor não possui a posição desejada\")"
   ]
  },
  {
   "cell_type": "markdown",
   "metadata": {},
   "source": [
    "Desta forma o erro não aparece, porém caso o erro seja de outro tipo, como:"
   ]
  },
  {
   "cell_type": "code",
   "execution_count": null,
   "metadata": {},
   "outputs": [],
   "source": [
    "produtos[3+'1']"
   ]
  },
  {
   "cell_type": "code",
   "execution_count": null,
   "metadata": {},
   "outputs": [],
   "source": [
    "try:\n",
    "    print(produtos[3+'1'])\n",
    "except:\n",
    "    print(\"O vetor não possui a posição desejada\")"
   ]
  },
  {
   "cell_type": "markdown",
   "metadata": {},
   "source": [
    "Note que a saída será a mesma que definimos anteriormente. Portanto precisamos expecificar qual é o tipo no ```except```, assim temos certeza que o programa apresentar a exceção correta."
   ]
  },
  {
   "cell_type": "code",
   "execution_count": null,
   "metadata": {},
   "outputs": [],
   "source": [
    "try:\n",
    "    print(produtos[3+'1'])\n",
    "except IndexError:\n",
    "    print(\"O vetor não possui a posição desejada\")"
   ]
  },
  {
   "cell_type": "markdown",
   "metadata": {},
   "source": [
    "Para ter mais de uma except, é só adicionar o outro tipo abaixo:"
   ]
  },
  {
   "cell_type": "code",
   "execution_count": null,
   "metadata": {},
   "outputs": [],
   "source": [
    "try:\n",
    "    print(produtos[3+'1'])\n",
    "except IndexError:\n",
    "    print(\"O vetor não possui a posição desejada\")\n",
    "except TypeError:\n",
    "    print(\"Erro de Tipo\")"
   ]
  },
  {
   "cell_type": "markdown",
   "metadata": {},
   "source": [
    "### Tabela com os tipos de exceção existentes\n",
    "\n",
    "Alguns tipos existentes de Erro estão listados na tabela abaixo:\n",
    "\n",
    "Classe | Descrição\n",
    "--- | ---\n",
    "Exception | Base classe para a maioria dos tipos de erros.\n",
    "AttributeError | Aparece quando um objeto não tem o membro desejado. Por exemplo, objeto.teste, se teste não existir, aparece essa exceção.\n",
    "EOFError | Aparece quando um final de arquivo é alcançado pelo console ou pelo arquivo.\n",
    "IOError | Aparece quando ocorre alguma operação de erro de I/O (por exemplo, abrir um arquivo).\n",
    "IndexError | Aparece se o index de um sequencia está for a dos limites.\n",
    "KeyError | Aparece se uma chave não existente é requisitada para um dicionário ou set.\n",
    "KeyboardInterrupt | Aparece se o usuário digitar Ctrl-C enquanto o programa está executando\n",
    "NameError | Aparece se um identificador não existente é utilizado\n",
    "TypeError | Aparece quando um tipo errado do parâmetro é enviado para a função\n",
    "ValueError | Aparece quando um parâmetro tem valor invalido, por exemplo, sqtr(-5)\n",
    "ZeroDivisionError | Aparece quando qualquer divisão utiliza 0 como divisor\n",
    "\n",
    "\n",
    "Mais sobre tratamento de exceções em: https://docs.python.org/3/tutorial/errors.html"
   ]
  },
  {
   "cell_type": "markdown",
   "metadata": {},
   "source": [
    "## Exceções no Tweepy\n",
    "\n",
    "As exceções estão disponíveis no módulo tweepy diretamente, o que significa que não é necessário importar ```tweepy.error```. Por exemplo, ```tweepy.error.TweepError``` está disponível por ```tweepy.TweepError```.\n",
    "\n",
    "* ```exception TweepError``` - Erro comumente utilizado, ele aparece por diversos motivos. O código do erro pode ser acessado por ```TweepError.message[0]['code']```. Os códigos estão descritos na [página de códigos de erros da API do Twitter](https://dev.twitter.com/overview/api/response-codes).\n",
    "* ```exception RateLimitError``` - Erro acontece quando o Twitter aplica algum limite, facilitando o tratamento do mesmo.\n",
    "\n",
    "\n",
    "Referência: http://tweepy2.readthedocs.io/en/latest/api.html?highlight=tweepy.TweepError#tweepy-error-exceptions\n",
    "\n",
    "Exemplo de código:\n",
    "\n",
    "```python\n",
    "try:\n",
    "    novos_tweets = api.search(q='Python')\n",
    "    \n",
    "except tweepy.TweepError as e:\n",
    "    print(\"Erro:\", (e))\n",
    "```\n",
    "\n",
    "Abra o notebook [aula4-parte4-pesquisar-tweets.ipynb](aula4-parte4-pesquisar-tweets.ipynb) e altere uma das chaves de acesso para fazer o teste. Note que quando executar o while, a seguinte saída irá aparecer:\n",
    "\n",
    "```\n",
    "Erro: [{'code': 32, 'message': 'Could not authenticate you.'}]\n",
    "```"
   ]
  },
  {
   "cell_type": "markdown",
   "metadata": {
    "collapsed": true
   },
   "source": [
    "### Outros exemplos"
   ]
  },
  {
   "cell_type": "code",
   "execution_count": null,
   "metadata": {},
   "outputs": [],
   "source": [
    "import tweepy\n",
    "\n",
    "try:\n",
    "    print(a)\n",
    "except ZeroDivisionError:\n",
    "    print(\"Divisão por zero\")\n",
    "except NameError:\n",
    "    print(\"Variável não existe\")\n",
    "except Exception as e:\n",
    "    print(e)"
   ]
  },
  {
   "cell_type": "code",
   "execution_count": null,
   "metadata": {},
   "outputs": [],
   "source": []
  },
  {
   "cell_type": "code",
   "execution_count": null,
   "metadata": {},
   "outputs": [],
   "source": []
  }
 ],
 "metadata": {
  "kernelspec": {
   "display_name": "Python 3",
   "language": "python",
   "name": "python3"
  },
  "language_info": {
   "codemirror_mode": {
    "name": "ipython",
    "version": 3
   },
   "file_extension": ".py",
   "mimetype": "text/x-python",
   "name": "python",
   "nbconvert_exporter": "python",
   "pygments_lexer": "ipython3",
   "version": "3.7.2"
  }
 },
 "nbformat": 4,
 "nbformat_minor": 1
}
