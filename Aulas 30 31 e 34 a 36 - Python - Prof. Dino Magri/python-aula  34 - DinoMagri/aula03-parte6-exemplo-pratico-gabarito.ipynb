{
 "cells": [
  {
   "cell_type": "markdown",
   "metadata": {},
   "source": [
    "# Exemplo Prático\n",
    "\n",
    "Iremos utilizar o arquivo ```capitais.csv``` que é um arquivo que tem todas as capitais do Brasil, bem como a população e a área de cada capital (km2).\n",
    "\n",
    "Vamos carregar esse arquivo na variável ```capitais```."
   ]
  },
  {
   "cell_type": "code",
   "execution_count": null,
   "metadata": {},
   "outputs": [],
   "source": [
    "import pandas as pd"
   ]
  },
  {
   "cell_type": "code",
   "execution_count": null,
   "metadata": {},
   "outputs": [],
   "source": [
    "capitais = pd.read_csv('capitais.csv', sep=',')"
   ]
  },
  {
   "cell_type": "code",
   "execution_count": null,
   "metadata": {},
   "outputs": [],
   "source": [
    "# Imprime os 5 primeiros elementos do dataframe\n",
    "capitais.head()"
   ]
  },
  {
   "cell_type": "markdown",
   "metadata": {},
   "source": [
    "Note que o índice que foi gerado é o padrão e não o default. Para defirmos a coluna ```municipio``` como sendo o índice, precisamos passar o parâmetro "
   ]
  },
  {
   "cell_type": "code",
   "execution_count": null,
   "metadata": {},
   "outputs": [],
   "source": [
    "capitais = pd.read_csv('capitais.csv', sep=',', index_col='municipio')"
   ]
  },
  {
   "cell_type": "code",
   "execution_count": null,
   "metadata": {},
   "outputs": [],
   "source": [
    "capitais.head()"
   ]
  },
  {
   "cell_type": "markdown",
   "metadata": {},
   "source": [
    "Agora sim! Como podemos dimensionar o nosso conjunto de dados? Imprima a quantidade de linhas e colunas."
   ]
  },
  {
   "cell_type": "code",
   "execution_count": null,
   "metadata": {},
   "outputs": [],
   "source": [
    "# Qual comando podemos utilizar para imprimir a quantidade de linhas e colunas?\n",
    "capitais.shape"
   ]
  },
  {
   "cell_type": "code",
   "execution_count": null,
   "metadata": {},
   "outputs": [],
   "source": [
    "capitais.columns"
   ]
  },
  {
   "cell_type": "markdown",
   "metadata": {},
   "source": [
    "Para acessar uma coluna, podemos acessar da mesma maneira como fizemos com dicionários, passando o rótulo."
   ]
  },
  {
   "cell_type": "code",
   "execution_count": null,
   "metadata": {},
   "outputs": [],
   "source": [
    "capitais[\"populacao 2015\"].head()"
   ]
  },
  {
   "cell_type": "markdown",
   "metadata": {},
   "source": [
    "Caso especificarmos uma coluna que não está listado no DataFrame, o erro ```KeyError``` irá aparecer. Por exemplo:\n",
    "\n",
    "```python\n",
    "capitais[\"populacao 2015\"]['sao Paulo']\n",
    "```\n",
    "\n",
    "A saída será:\n",
    "\n",
    "```python\n",
    "KeyError: 'sao Paulo'\n",
    "\n",
    "During handling of the above exception, another exception occurred:\n",
    "\n",
    "KeyError                                  Traceback (most recent call last)\n",
    "<ipython-input-34-5258a20fa59e> in <module>()\n",
    "----> 1 capitais[\"populacao 2015\"]['sao Paulo']\n",
    "```"
   ]
  },
  {
   "cell_type": "markdown",
   "metadata": {},
   "source": [
    "Podemos tratar esse erro, utilizando o método ```.get```."
   ]
  },
  {
   "cell_type": "code",
   "execution_count": null,
   "metadata": {},
   "outputs": [],
   "source": [
    "capitais[\"populacao 2015\"].get('sao Paulo', 'Não encontrou')"
   ]
  },
  {
   "cell_type": "code",
   "execution_count": null,
   "metadata": {},
   "outputs": [],
   "source": [
    "capitais[\"populacao 2015\"].get('São Paulo', 'Não encontrou') # Se encontrar a chave, ele devolve o valor."
   ]
  },
  {
   "cell_type": "markdown",
   "metadata": {},
   "source": [
    "Outra forma de acessar os atributos de uma DF é utilizar o operador ponto.\n",
    "\n",
    "Vale lembra que essa forma só funciona se o índice do elemento é um identificador válido Python. Por exemplo:\n",
    "\n",
    "```python\n",
    "capitais[\"populacao 2015\"]\n",
    "```\n",
    "\n",
    "Se a chave for ```populacao 2015``` não irá funcionar, pois não é um identificador válido, afinal existe um espaço entre as duas palavras, o que não é aceito."
   ]
  },
  {
   "cell_type": "code",
   "execution_count": null,
   "metadata": {},
   "outputs": [],
   "source": [
    "capitais.area_km2.head()"
   ]
  },
  {
   "cell_type": "code",
   "execution_count": null,
   "metadata": {},
   "outputs": [],
   "source": [
    "capitais.populacao 2015"
   ]
  },
  {
   "cell_type": "markdown",
   "metadata": {},
   "source": [
    "Um identificador válido dever basicamente começar com letra e não ter espaços em bracos e alguns caracteres especiais. Segue a referência: https://docs.python.org/3/reference/lexical_analysis.html#identifiers\n",
    "\n",
    "Podemos resolver esse problema, renomeando essa coluna. Vamos utilizar o método ```rename``` que recebe por parâmetro ```columns``` ou ```index``` para trocar o nome das colunas ou das linhas.\n",
    "\n",
    "Ambos retornam um novo dataframe, desta forma podemos salvar na mesma variável."
   ]
  },
  {
   "cell_type": "code",
   "execution_count": null,
   "metadata": {},
   "outputs": [],
   "source": [
    "capitais = capitais.rename(columns={'populacao 2015' : 'populacao_2015'})"
   ]
  },
  {
   "cell_type": "code",
   "execution_count": null,
   "metadata": {},
   "outputs": [],
   "source": [
    "capitais.head()"
   ]
  },
  {
   "cell_type": "code",
   "execution_count": null,
   "metadata": {},
   "outputs": [],
   "source": [
    "capitais.populacao_2015.head()"
   ]
  },
  {
   "cell_type": "markdown",
   "metadata": {},
   "source": [
    "## Exercícios\n",
    "\n",
    "Utilizando o DataFrame ```capitais```, faça os exercícios abaixo."
   ]
  },
  {
   "cell_type": "markdown",
   "metadata": {},
   "source": [
    "**```Exercício 1 - Selecione todas as capitais que tenham área maior que 400 km2. Quantas foram?```**"
   ]
  },
  {
   "cell_type": "code",
   "execution_count": null,
   "metadata": {},
   "outputs": [],
   "source": [
    "qtde = len(capitais[capitais.area_km2 > 400])\n",
    "print(qtde)"
   ]
  },
  {
   "cell_type": "code",
   "execution_count": null,
   "metadata": {},
   "outputs": [],
   "source": [
    "capitais[capitais.area_km2 > 400]"
   ]
  },
  {
   "cell_type": "markdown",
   "metadata": {},
   "source": [
    "**```Exercício 2 - Selecione as capitais que tenham população maior que 2 milhões.```**"
   ]
  },
  {
   "cell_type": "code",
   "execution_count": null,
   "metadata": {},
   "outputs": [],
   "source": [
    "capitais[capitais.populacao_2015 > 2000000]"
   ]
  },
  {
   "cell_type": "markdown",
   "metadata": {},
   "source": [
    "**```Exercício 3 - Selecione os itens que tenham população maior que 1 milhão e area menor que 500 km2```**"
   ]
  },
  {
   "cell_type": "code",
   "execution_count": null,
   "metadata": {},
   "outputs": [],
   "source": [
    "capitais[(capitais.populacao_2015 > 1000000) & (capitais.area_km2 < 500)]"
   ]
  },
  {
   "cell_type": "markdown",
   "metadata": {},
   "source": [
    "**```Exercício 4 - Selecione os itens que tenham população maior que 5 milhões ou area maior que 5000 km2```**"
   ]
  },
  {
   "cell_type": "code",
   "execution_count": null,
   "metadata": {},
   "outputs": [],
   "source": [
    "capitais[(capitais.populacao_2015 > 5000000) | (capitais.area_km2 > 5000)]"
   ]
  },
  {
   "cell_type": "code",
   "execution_count": null,
   "metadata": {},
   "outputs": [],
   "source": []
  }
 ],
 "metadata": {
  "kernelspec": {
   "display_name": "Python 3",
   "language": "python",
   "name": "python3"
  },
  "language_info": {
   "codemirror_mode": {
    "name": "ipython",
    "version": 3
   },
   "file_extension": ".py",
   "mimetype": "text/x-python",
   "name": "python",
   "nbconvert_exporter": "python",
   "pygments_lexer": "ipython3",
   "version": "3.7.2"
  }
 },
 "nbformat": 4,
 "nbformat_minor": 1
}
