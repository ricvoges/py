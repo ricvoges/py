{
 "cells": [
  {
   "cell_type": "code",
   "execution_count": 1,
   "metadata": {},
   "outputs": [],
   "source": [
    "import tweepy"
   ]
  },
  {
   "cell_type": "code",
   "execution_count": 88,
   "metadata": {},
   "outputs": [],
   "source": [
    "consumer_key = '4AnVDSuZIwPikZBwTBUZGCUk1'\n",
    "consumer_secret = 'Nv81tAgwi7e9LouqW90Xszx9OsymoVHGkB6TamW0UzJwLBTd8d'\n",
    "access_token = '1172686263557742593-cfwrCIVJUphjEmZTCgzaMJ8zCoWNs5'\n",
    "access_token_secret = 'aOqEYLfXnXKLju78qddN5TyzQgBiw2stEMFDgYBzM4yYo'\n"
   ]
  },
  {
   "cell_type": "code",
   "execution_count": 89,
   "metadata": {},
   "outputs": [],
   "source": [
    "autorizar = tweepy.OAuthHandler(consumer_key,consumer_secret)\n"
   ]
  },
  {
   "cell_type": "code",
   "execution_count": 90,
   "metadata": {},
   "outputs": [],
   "source": [
    "autorizar.set_access_token(access_token,access_token_secret)"
   ]
  },
  {
   "cell_type": "code",
   "execution_count": 91,
   "metadata": {},
   "outputs": [],
   "source": [
    "api = tweepy.API(autorizar)\n"
   ]
  },
  {
   "cell_type": "code",
   "execution_count": 92,
   "metadata": {},
   "outputs": [
    {
     "data": {
      "text/plain": [
       "Status(_api=<tweepy.api.API object at 0x000001E84F1DD940>, _json={'created_at': 'Thu Sep 19 12:23:57 +0000 2019', 'id': 1174660395811950592, 'id_str': '1174660395811950592', 'text': 'Big Data Programing', 'truncated': False, 'entities': {'hashtags': [], 'symbols': [], 'user_mentions': [], 'urls': []}, 'source': '<a href=\"https://fia.com.br\" rel=\"nofollow\">PythonVoges1</a>', 'in_reply_to_status_id': None, 'in_reply_to_status_id_str': None, 'in_reply_to_user_id': None, 'in_reply_to_user_id_str': None, 'in_reply_to_screen_name': None, 'user': {'id': 1172686263557742593, 'id_str': '1172686263557742593', 'name': 'Ricardo Sa', 'screen_name': 'ricvoges', 'location': '', 'description': '', 'url': None, 'entities': {'description': {'urls': []}}, 'protected': False, 'followers_count': 0, 'friends_count': 10, 'listed_count': 0, 'created_at': 'Sat Sep 14 01:39:38 +0000 2019', 'favourites_count': 0, 'utc_offset': None, 'time_zone': None, 'geo_enabled': False, 'verified': False, 'statuses_count': 1, 'lang': None, 'contributors_enabled': False, 'is_translator': False, 'is_translation_enabled': False, 'profile_background_color': 'F5F8FA', 'profile_background_image_url': None, 'profile_background_image_url_https': None, 'profile_background_tile': False, 'profile_image_url': 'http://abs.twimg.com/sticky/default_profile_images/default_profile_normal.png', 'profile_image_url_https': 'https://abs.twimg.com/sticky/default_profile_images/default_profile_normal.png', 'profile_link_color': '1DA1F2', 'profile_sidebar_border_color': 'C0DEED', 'profile_sidebar_fill_color': 'DDEEF6', 'profile_text_color': '333333', 'profile_use_background_image': True, 'has_extended_profile': False, 'default_profile': True, 'default_profile_image': True, 'following': False, 'follow_request_sent': False, 'notifications': False, 'translator_type': 'none'}, 'geo': None, 'coordinates': None, 'place': None, 'contributors': None, 'is_quote_status': False, 'retweet_count': 0, 'favorite_count': 0, 'favorited': False, 'retweeted': False, 'lang': 'tl'}, created_at=datetime.datetime(2019, 9, 19, 12, 23, 57), id=1174660395811950592, id_str='1174660395811950592', text='Big Data Programing', truncated=False, entities={'hashtags': [], 'symbols': [], 'user_mentions': [], 'urls': []}, source='PythonVoges1', source_url='https://fia.com.br', in_reply_to_status_id=None, in_reply_to_status_id_str=None, in_reply_to_user_id=None, in_reply_to_user_id_str=None, in_reply_to_screen_name=None, author=User(_api=<tweepy.api.API object at 0x000001E84F1DD940>, _json={'id': 1172686263557742593, 'id_str': '1172686263557742593', 'name': 'Ricardo Sa', 'screen_name': 'ricvoges', 'location': '', 'description': '', 'url': None, 'entities': {'description': {'urls': []}}, 'protected': False, 'followers_count': 0, 'friends_count': 10, 'listed_count': 0, 'created_at': 'Sat Sep 14 01:39:38 +0000 2019', 'favourites_count': 0, 'utc_offset': None, 'time_zone': None, 'geo_enabled': False, 'verified': False, 'statuses_count': 1, 'lang': None, 'contributors_enabled': False, 'is_translator': False, 'is_translation_enabled': False, 'profile_background_color': 'F5F8FA', 'profile_background_image_url': None, 'profile_background_image_url_https': None, 'profile_background_tile': False, 'profile_image_url': 'http://abs.twimg.com/sticky/default_profile_images/default_profile_normal.png', 'profile_image_url_https': 'https://abs.twimg.com/sticky/default_profile_images/default_profile_normal.png', 'profile_link_color': '1DA1F2', 'profile_sidebar_border_color': 'C0DEED', 'profile_sidebar_fill_color': 'DDEEF6', 'profile_text_color': '333333', 'profile_use_background_image': True, 'has_extended_profile': False, 'default_profile': True, 'default_profile_image': True, 'following': False, 'follow_request_sent': False, 'notifications': False, 'translator_type': 'none'}, id=1172686263557742593, id_str='1172686263557742593', name='Ricardo Sa', screen_name='ricvoges', location='', description='', url=None, entities={'description': {'urls': []}}, protected=False, followers_count=0, friends_count=10, listed_count=0, created_at=datetime.datetime(2019, 9, 14, 1, 39, 38), favourites_count=0, utc_offset=None, time_zone=None, geo_enabled=False, verified=False, statuses_count=1, lang=None, contributors_enabled=False, is_translator=False, is_translation_enabled=False, profile_background_color='F5F8FA', profile_background_image_url=None, profile_background_image_url_https=None, profile_background_tile=False, profile_image_url='http://abs.twimg.com/sticky/default_profile_images/default_profile_normal.png', profile_image_url_https='https://abs.twimg.com/sticky/default_profile_images/default_profile_normal.png', profile_link_color='1DA1F2', profile_sidebar_border_color='C0DEED', profile_sidebar_fill_color='DDEEF6', profile_text_color='333333', profile_use_background_image=True, has_extended_profile=False, default_profile=True, default_profile_image=True, following=False, follow_request_sent=False, notifications=False, translator_type='none'), user=User(_api=<tweepy.api.API object at 0x000001E84F1DD940>, _json={'id': 1172686263557742593, 'id_str': '1172686263557742593', 'name': 'Ricardo Sa', 'screen_name': 'ricvoges', 'location': '', 'description': '', 'url': None, 'entities': {'description': {'urls': []}}, 'protected': False, 'followers_count': 0, 'friends_count': 10, 'listed_count': 0, 'created_at': 'Sat Sep 14 01:39:38 +0000 2019', 'favourites_count': 0, 'utc_offset': None, 'time_zone': None, 'geo_enabled': False, 'verified': False, 'statuses_count': 1, 'lang': None, 'contributors_enabled': False, 'is_translator': False, 'is_translation_enabled': False, 'profile_background_color': 'F5F8FA', 'profile_background_image_url': None, 'profile_background_image_url_https': None, 'profile_background_tile': False, 'profile_image_url': 'http://abs.twimg.com/sticky/default_profile_images/default_profile_normal.png', 'profile_image_url_https': 'https://abs.twimg.com/sticky/default_profile_images/default_profile_normal.png', 'profile_link_color': '1DA1F2', 'profile_sidebar_border_color': 'C0DEED', 'profile_sidebar_fill_color': 'DDEEF6', 'profile_text_color': '333333', 'profile_use_background_image': True, 'has_extended_profile': False, 'default_profile': True, 'default_profile_image': True, 'following': False, 'follow_request_sent': False, 'notifications': False, 'translator_type': 'none'}, id=1172686263557742593, id_str='1172686263557742593', name='Ricardo Sa', screen_name='ricvoges', location='', description='', url=None, entities={'description': {'urls': []}}, protected=False, followers_count=0, friends_count=10, listed_count=0, created_at=datetime.datetime(2019, 9, 14, 1, 39, 38), favourites_count=0, utc_offset=None, time_zone=None, geo_enabled=False, verified=False, statuses_count=1, lang=None, contributors_enabled=False, is_translator=False, is_translation_enabled=False, profile_background_color='F5F8FA', profile_background_image_url=None, profile_background_image_url_https=None, profile_background_tile=False, profile_image_url='http://abs.twimg.com/sticky/default_profile_images/default_profile_normal.png', profile_image_url_https='https://abs.twimg.com/sticky/default_profile_images/default_profile_normal.png', profile_link_color='1DA1F2', profile_sidebar_border_color='C0DEED', profile_sidebar_fill_color='DDEEF6', profile_text_color='333333', profile_use_background_image=True, has_extended_profile=False, default_profile=True, default_profile_image=True, following=False, follow_request_sent=False, notifications=False, translator_type='none'), geo=None, coordinates=None, place=None, contributors=None, is_quote_status=False, retweet_count=0, favorite_count=0, favorited=False, retweeted=False, lang='tl')"
      ]
     },
     "execution_count": 92,
     "metadata": {},
     "output_type": "execute_result"
    }
   ],
   "source": [
    "api.update_status(status=\"Big Data Programing\")"
   ]
  },
  {
   "cell_type": "code",
   "execution_count": 7,
   "metadata": {},
   "outputs": [
    {
     "data": {
      "text/plain": [
       "Status(_api=<tweepy.api.API object at 0x000001E84AA52DD8>, _json={'created_at': 'Wed Sep 18 22:33:13 +0000 2019', 'id': 1174451336789856256, 'id_str': '1174451336789856256', 'text': 'Big Data with Python', 'truncated': False, 'entities': {'hashtags': [], 'symbols': [], 'user_mentions': [], 'urls': []}, 'source': '<a href=\"https://fia.com.br\" rel=\"nofollow\">PythonVoges1</a>', 'in_reply_to_status_id': None, 'in_reply_to_status_id_str': None, 'in_reply_to_user_id': None, 'in_reply_to_user_id_str': None, 'in_reply_to_screen_name': None, 'user': {'id': 1172686263557742593, 'id_str': '1172686263557742593', 'name': 'Ricardo Sa', 'screen_name': 'ricvoges', 'location': '', 'description': '', 'url': None, 'entities': {'description': {'urls': []}}, 'protected': False, 'followers_count': 0, 'friends_count': 10, 'listed_count': 0, 'created_at': 'Sat Sep 14 01:39:38 +0000 2019', 'favourites_count': 0, 'utc_offset': None, 'time_zone': None, 'geo_enabled': False, 'verified': False, 'statuses_count': 2, 'lang': None, 'contributors_enabled': False, 'is_translator': False, 'is_translation_enabled': False, 'profile_background_color': 'F5F8FA', 'profile_background_image_url': None, 'profile_background_image_url_https': None, 'profile_background_tile': False, 'profile_image_url': 'http://abs.twimg.com/sticky/default_profile_images/default_profile_normal.png', 'profile_image_url_https': 'https://abs.twimg.com/sticky/default_profile_images/default_profile_normal.png', 'profile_link_color': '1DA1F2', 'profile_sidebar_border_color': 'C0DEED', 'profile_sidebar_fill_color': 'DDEEF6', 'profile_text_color': '333333', 'profile_use_background_image': True, 'has_extended_profile': False, 'default_profile': True, 'default_profile_image': True, 'following': False, 'follow_request_sent': False, 'notifications': False, 'translator_type': 'none'}, 'geo': None, 'coordinates': None, 'place': None, 'contributors': None, 'is_quote_status': False, 'retweet_count': 0, 'favorite_count': 0, 'favorited': False, 'retweeted': False, 'lang': 'cy'}, created_at=datetime.datetime(2019, 9, 18, 22, 33, 13), id=1174451336789856256, id_str='1174451336789856256', text='Big Data with Python', truncated=False, entities={'hashtags': [], 'symbols': [], 'user_mentions': [], 'urls': []}, source='PythonVoges1', source_url='https://fia.com.br', in_reply_to_status_id=None, in_reply_to_status_id_str=None, in_reply_to_user_id=None, in_reply_to_user_id_str=None, in_reply_to_screen_name=None, author=User(_api=<tweepy.api.API object at 0x000001E84AA52DD8>, _json={'id': 1172686263557742593, 'id_str': '1172686263557742593', 'name': 'Ricardo Sa', 'screen_name': 'ricvoges', 'location': '', 'description': '', 'url': None, 'entities': {'description': {'urls': []}}, 'protected': False, 'followers_count': 0, 'friends_count': 10, 'listed_count': 0, 'created_at': 'Sat Sep 14 01:39:38 +0000 2019', 'favourites_count': 0, 'utc_offset': None, 'time_zone': None, 'geo_enabled': False, 'verified': False, 'statuses_count': 2, 'lang': None, 'contributors_enabled': False, 'is_translator': False, 'is_translation_enabled': False, 'profile_background_color': 'F5F8FA', 'profile_background_image_url': None, 'profile_background_image_url_https': None, 'profile_background_tile': False, 'profile_image_url': 'http://abs.twimg.com/sticky/default_profile_images/default_profile_normal.png', 'profile_image_url_https': 'https://abs.twimg.com/sticky/default_profile_images/default_profile_normal.png', 'profile_link_color': '1DA1F2', 'profile_sidebar_border_color': 'C0DEED', 'profile_sidebar_fill_color': 'DDEEF6', 'profile_text_color': '333333', 'profile_use_background_image': True, 'has_extended_profile': False, 'default_profile': True, 'default_profile_image': True, 'following': False, 'follow_request_sent': False, 'notifications': False, 'translator_type': 'none'}, id=1172686263557742593, id_str='1172686263557742593', name='Ricardo Sa', screen_name='ricvoges', location='', description='', url=None, entities={'description': {'urls': []}}, protected=False, followers_count=0, friends_count=10, listed_count=0, created_at=datetime.datetime(2019, 9, 14, 1, 39, 38), favourites_count=0, utc_offset=None, time_zone=None, geo_enabled=False, verified=False, statuses_count=2, lang=None, contributors_enabled=False, is_translator=False, is_translation_enabled=False, profile_background_color='F5F8FA', profile_background_image_url=None, profile_background_image_url_https=None, profile_background_tile=False, profile_image_url='http://abs.twimg.com/sticky/default_profile_images/default_profile_normal.png', profile_image_url_https='https://abs.twimg.com/sticky/default_profile_images/default_profile_normal.png', profile_link_color='1DA1F2', profile_sidebar_border_color='C0DEED', profile_sidebar_fill_color='DDEEF6', profile_text_color='333333', profile_use_background_image=True, has_extended_profile=False, default_profile=True, default_profile_image=True, following=False, follow_request_sent=False, notifications=False, translator_type='none'), user=User(_api=<tweepy.api.API object at 0x000001E84AA52DD8>, _json={'id': 1172686263557742593, 'id_str': '1172686263557742593', 'name': 'Ricardo Sa', 'screen_name': 'ricvoges', 'location': '', 'description': '', 'url': None, 'entities': {'description': {'urls': []}}, 'protected': False, 'followers_count': 0, 'friends_count': 10, 'listed_count': 0, 'created_at': 'Sat Sep 14 01:39:38 +0000 2019', 'favourites_count': 0, 'utc_offset': None, 'time_zone': None, 'geo_enabled': False, 'verified': False, 'statuses_count': 2, 'lang': None, 'contributors_enabled': False, 'is_translator': False, 'is_translation_enabled': False, 'profile_background_color': 'F5F8FA', 'profile_background_image_url': None, 'profile_background_image_url_https': None, 'profile_background_tile': False, 'profile_image_url': 'http://abs.twimg.com/sticky/default_profile_images/default_profile_normal.png', 'profile_image_url_https': 'https://abs.twimg.com/sticky/default_profile_images/default_profile_normal.png', 'profile_link_color': '1DA1F2', 'profile_sidebar_border_color': 'C0DEED', 'profile_sidebar_fill_color': 'DDEEF6', 'profile_text_color': '333333', 'profile_use_background_image': True, 'has_extended_profile': False, 'default_profile': True, 'default_profile_image': True, 'following': False, 'follow_request_sent': False, 'notifications': False, 'translator_type': 'none'}, id=1172686263557742593, id_str='1172686263557742593', name='Ricardo Sa', screen_name='ricvoges', location='', description='', url=None, entities={'description': {'urls': []}}, protected=False, followers_count=0, friends_count=10, listed_count=0, created_at=datetime.datetime(2019, 9, 14, 1, 39, 38), favourites_count=0, utc_offset=None, time_zone=None, geo_enabled=False, verified=False, statuses_count=2, lang=None, contributors_enabled=False, is_translator=False, is_translation_enabled=False, profile_background_color='F5F8FA', profile_background_image_url=None, profile_background_image_url_https=None, profile_background_tile=False, profile_image_url='http://abs.twimg.com/sticky/default_profile_images/default_profile_normal.png', profile_image_url_https='https://abs.twimg.com/sticky/default_profile_images/default_profile_normal.png', profile_link_color='1DA1F2', profile_sidebar_border_color='C0DEED', profile_sidebar_fill_color='DDEEF6', profile_text_color='333333', profile_use_background_image=True, has_extended_profile=False, default_profile=True, default_profile_image=True, following=False, follow_request_sent=False, notifications=False, translator_type='none'), geo=None, coordinates=None, place=None, contributors=None, is_quote_status=False, retweet_count=0, favorite_count=0, favorited=False, retweeted=False, lang='cy')"
      ]
     },
     "execution_count": 7,
     "metadata": {},
     "output_type": "execute_result"
    }
   ],
   "source": [
    "api.update_status(status=\"Big Data with Python!\")"
   ]
  },
  {
   "cell_type": "code",
   "execution_count": 9,
   "metadata": {},
   "outputs": [],
   "source": [
    "info = api.update_status(status=\"Programing with Py!\")\n"
   ]
  },
  {
   "cell_type": "code",
   "execution_count": 10,
   "metadata": {},
   "outputs": [
    {
     "name": "stdout",
     "output_type": "stream",
     "text": [
      "<class 'tweepy.models.Status'>\n"
     ]
    }
   ],
   "source": [
    "print(type(info))"
   ]
  },
  {
   "cell_type": "code",
   "execution_count": 12,
   "metadata": {},
   "outputs": [
    {
     "data": {
      "text/plain": [
       "1174451867411275778"
      ]
     },
     "execution_count": 12,
     "metadata": {},
     "output_type": "execute_result"
    }
   ],
   "source": [
    "info.id"
   ]
  },
  {
   "cell_type": "code",
   "execution_count": 13,
   "metadata": {},
   "outputs": [
    {
     "data": {
      "text/plain": [
       "'Programing with Py!'"
      ]
     },
     "execution_count": 13,
     "metadata": {},
     "output_type": "execute_result"
    }
   ],
   "source": [
    "info.text"
   ]
  },
  {
   "cell_type": "code",
   "execution_count": 18,
   "metadata": {},
   "outputs": [
    {
     "data": {
      "text/plain": [
       "'Ricardo Sa'"
      ]
     },
     "execution_count": 18,
     "metadata": {},
     "output_type": "execute_result"
    }
   ],
   "source": [
    "info.user.name"
   ]
  },
  {
   "cell_type": "code",
   "execution_count": 19,
   "metadata": {},
   "outputs": [
    {
     "data": {
      "text/plain": [
       "'ricvoges'"
      ]
     },
     "execution_count": 19,
     "metadata": {},
     "output_type": "execute_result"
    }
   ],
   "source": [
    "info.user.screen_name"
   ]
  },
  {
   "cell_type": "code",
   "execution_count": 20,
   "metadata": {},
   "outputs": [
    {
     "data": {
      "text/plain": [
       "<function dict.update>"
      ]
     },
     "execution_count": 20,
     "metadata": {},
     "output_type": "execute_result"
    }
   ],
   "source": [
    "info.entities.update\n"
   ]
  },
  {
   "cell_type": "code",
   "execution_count": 21,
   "metadata": {},
   "outputs": [
    {
     "data": {
      "text/plain": [
       "'F5F8FA'"
      ]
     },
     "execution_count": 21,
     "metadata": {},
     "output_type": "execute_result"
    }
   ],
   "source": [
    "info.user.profile_background_color"
   ]
  },
  {
   "cell_type": "code",
   "execution_count": 22,
   "metadata": {},
   "outputs": [
    {
     "data": {
      "text/plain": [
       "'http://abs.twimg.com/sticky/default_profile_images/default_profile_normal.png'"
      ]
     },
     "execution_count": 22,
     "metadata": {},
     "output_type": "execute_result"
    }
   ],
   "source": [
    "info.user.profile_image_url"
   ]
  },
  {
   "cell_type": "code",
   "execution_count": 24,
   "metadata": {},
   "outputs": [
    {
     "data": {
      "text/plain": [
       "1174451867411275778"
      ]
     },
     "execution_count": 24,
     "metadata": {},
     "output_type": "execute_result"
    }
   ],
   "source": [
    "info._json['id']"
   ]
  },
  {
   "cell_type": "code",
   "execution_count": 25,
   "metadata": {},
   "outputs": [
    {
     "data": {
      "text/plain": [
       "Status(_api=<tweepy.api.API object at 0x000001E84AA52DD8>, _json={'created_at': 'Wed Sep 18 22:35:20 +0000 2019', 'id': 1174451867411275778, 'id_str': '1174451867411275778', 'text': 'Programing with Py!', 'truncated': False, 'entities': {'hashtags': [], 'symbols': [], 'user_mentions': [], 'urls': []}, 'source': '<a href=\"https://fia.com.br\" rel=\"nofollow\">PythonVoges1</a>', 'in_reply_to_status_id': None, 'in_reply_to_status_id_str': None, 'in_reply_to_user_id': None, 'in_reply_to_user_id_str': None, 'in_reply_to_screen_name': None, 'user': {'id': 1172686263557742593, 'id_str': '1172686263557742593', 'name': 'Ricardo Sa', 'screen_name': 'ricvoges', 'location': '', 'description': '', 'url': None, 'entities': {'description': {'urls': []}}, 'protected': False, 'followers_count': 0, 'friends_count': 10, 'listed_count': 0, 'created_at': 'Sat Sep 14 01:39:38 +0000 2019', 'favourites_count': 0, 'utc_offset': None, 'time_zone': None, 'geo_enabled': False, 'verified': False, 'statuses_count': 3, 'lang': None, 'contributors_enabled': False, 'is_translator': False, 'is_translation_enabled': False, 'profile_background_color': 'F5F8FA', 'profile_background_image_url': None, 'profile_background_image_url_https': None, 'profile_background_tile': False, 'profile_image_url': 'http://abs.twimg.com/sticky/default_profile_images/default_profile_normal.png', 'profile_image_url_https': 'https://abs.twimg.com/sticky/default_profile_images/default_profile_normal.png', 'profile_link_color': '1DA1F2', 'profile_sidebar_border_color': 'C0DEED', 'profile_sidebar_fill_color': 'DDEEF6', 'profile_text_color': '333333', 'profile_use_background_image': True, 'has_extended_profile': False, 'default_profile': True, 'default_profile_image': True, 'following': False, 'follow_request_sent': False, 'notifications': False, 'translator_type': 'none'}, 'geo': None, 'coordinates': None, 'place': None, 'contributors': None, 'is_quote_status': False, 'retweet_count': 0, 'favorite_count': 0, 'favorited': False, 'retweeted': False, 'lang': 'en'}, created_at=datetime.datetime(2019, 9, 18, 22, 35, 20), id=1174451867411275778, id_str='1174451867411275778', text='Programing with Py!', truncated=False, entities={'hashtags': [], 'symbols': [], 'user_mentions': [], 'urls': []}, source='PythonVoges1', source_url='https://fia.com.br', in_reply_to_status_id=None, in_reply_to_status_id_str=None, in_reply_to_user_id=None, in_reply_to_user_id_str=None, in_reply_to_screen_name=None, author=User(_api=<tweepy.api.API object at 0x000001E84AA52DD8>, _json={'id': 1172686263557742593, 'id_str': '1172686263557742593', 'name': 'Ricardo Sa', 'screen_name': 'ricvoges', 'location': '', 'description': '', 'url': None, 'entities': {'description': {'urls': []}}, 'protected': False, 'followers_count': 0, 'friends_count': 10, 'listed_count': 0, 'created_at': 'Sat Sep 14 01:39:38 +0000 2019', 'favourites_count': 0, 'utc_offset': None, 'time_zone': None, 'geo_enabled': False, 'verified': False, 'statuses_count': 3, 'lang': None, 'contributors_enabled': False, 'is_translator': False, 'is_translation_enabled': False, 'profile_background_color': 'F5F8FA', 'profile_background_image_url': None, 'profile_background_image_url_https': None, 'profile_background_tile': False, 'profile_image_url': 'http://abs.twimg.com/sticky/default_profile_images/default_profile_normal.png', 'profile_image_url_https': 'https://abs.twimg.com/sticky/default_profile_images/default_profile_normal.png', 'profile_link_color': '1DA1F2', 'profile_sidebar_border_color': 'C0DEED', 'profile_sidebar_fill_color': 'DDEEF6', 'profile_text_color': '333333', 'profile_use_background_image': True, 'has_extended_profile': False, 'default_profile': True, 'default_profile_image': True, 'following': False, 'follow_request_sent': False, 'notifications': False, 'translator_type': 'none'}, id=1172686263557742593, id_str='1172686263557742593', name='Ricardo Sa', screen_name='ricvoges', location='', description='', url=None, entities={'description': {'urls': []}}, protected=False, followers_count=0, friends_count=10, listed_count=0, created_at=datetime.datetime(2019, 9, 14, 1, 39, 38), favourites_count=0, utc_offset=None, time_zone=None, geo_enabled=False, verified=False, statuses_count=3, lang=None, contributors_enabled=False, is_translator=False, is_translation_enabled=False, profile_background_color='F5F8FA', profile_background_image_url=None, profile_background_image_url_https=None, profile_background_tile=False, profile_image_url='http://abs.twimg.com/sticky/default_profile_images/default_profile_normal.png', profile_image_url_https='https://abs.twimg.com/sticky/default_profile_images/default_profile_normal.png', profile_link_color='1DA1F2', profile_sidebar_border_color='C0DEED', profile_sidebar_fill_color='DDEEF6', profile_text_color='333333', profile_use_background_image=True, has_extended_profile=False, default_profile=True, default_profile_image=True, following=False, follow_request_sent=False, notifications=False, translator_type='none'), user=User(_api=<tweepy.api.API object at 0x000001E84AA52DD8>, _json={'id': 1172686263557742593, 'id_str': '1172686263557742593', 'name': 'Ricardo Sa', 'screen_name': 'ricvoges', 'location': '', 'description': '', 'url': None, 'entities': {'description': {'urls': []}}, 'protected': False, 'followers_count': 0, 'friends_count': 10, 'listed_count': 0, 'created_at': 'Sat Sep 14 01:39:38 +0000 2019', 'favourites_count': 0, 'utc_offset': None, 'time_zone': None, 'geo_enabled': False, 'verified': False, 'statuses_count': 3, 'lang': None, 'contributors_enabled': False, 'is_translator': False, 'is_translation_enabled': False, 'profile_background_color': 'F5F8FA', 'profile_background_image_url': None, 'profile_background_image_url_https': None, 'profile_background_tile': False, 'profile_image_url': 'http://abs.twimg.com/sticky/default_profile_images/default_profile_normal.png', 'profile_image_url_https': 'https://abs.twimg.com/sticky/default_profile_images/default_profile_normal.png', 'profile_link_color': '1DA1F2', 'profile_sidebar_border_color': 'C0DEED', 'profile_sidebar_fill_color': 'DDEEF6', 'profile_text_color': '333333', 'profile_use_background_image': True, 'has_extended_profile': False, 'default_profile': True, 'default_profile_image': True, 'following': False, 'follow_request_sent': False, 'notifications': False, 'translator_type': 'none'}, id=1172686263557742593, id_str='1172686263557742593', name='Ricardo Sa', screen_name='ricvoges', location='', description='', url=None, entities={'description': {'urls': []}}, protected=False, followers_count=0, friends_count=10, listed_count=0, created_at=datetime.datetime(2019, 9, 14, 1, 39, 38), favourites_count=0, utc_offset=None, time_zone=None, geo_enabled=False, verified=False, statuses_count=3, lang=None, contributors_enabled=False, is_translator=False, is_translation_enabled=False, profile_background_color='F5F8FA', profile_background_image_url=None, profile_background_image_url_https=None, profile_background_tile=False, profile_image_url='http://abs.twimg.com/sticky/default_profile_images/default_profile_normal.png', profile_image_url_https='https://abs.twimg.com/sticky/default_profile_images/default_profile_normal.png', profile_link_color='1DA1F2', profile_sidebar_border_color='C0DEED', profile_sidebar_fill_color='DDEEF6', profile_text_color='333333', profile_use_background_image=True, has_extended_profile=False, default_profile=True, default_profile_image=True, following=False, follow_request_sent=False, notifications=False, translator_type='none'), geo=None, coordinates=None, place=None, contributors=None, is_quote_status=False, retweet_count=0, favorite_count=0, favorited=False, retweeted=False, lang='en')"
      ]
     },
     "execution_count": 25,
     "metadata": {},
     "output_type": "execute_result"
    }
   ],
   "source": [
    "api.destroy_status(id=info.id)"
   ]
  },
  {
   "cell_type": "code",
   "execution_count": 29,
   "metadata": {},
   "outputs": [],
   "source": [
    "x = api.update_with_media(filename = 'fia.jpg', status='FIA')\n",
    "#shift + tab\n",
    "#C:\\Users\\ricardo.sa\\FIA\\Python\\Aulas 30 31 e 34 a 36 - Python - Prof. Dino Magri\\python-aula 31 - DinoMagri\n"
   ]
  },
  {
   "cell_type": "code",
   "execution_count": null,
   "metadata": {},
   "outputs": [],
   "source": []
  },
  {
   "cell_type": "code",
   "execution_count": null,
   "metadata": {},
   "outputs": [],
   "source": []
  },
  {
   "cell_type": "code",
   "execution_count": 32,
   "metadata": {},
   "outputs": [],
   "source": [
    "tweets_publicos = api.home_timeline()"
   ]
  },
  {
   "cell_type": "code",
   "execution_count": 33,
   "metadata": {},
   "outputs": [
    {
     "data": {
      "text/plain": [
       "18"
      ]
     },
     "execution_count": 33,
     "metadata": {},
     "output_type": "execute_result"
    }
   ],
   "source": [
    "len (tweets_publicos)"
   ]
  },
  {
   "cell_type": "code",
   "execution_count": 34,
   "metadata": {},
   "outputs": [
    {
     "data": {
      "text/plain": [
       "tweepy.models.ResultSet"
      ]
     },
     "execution_count": 34,
     "metadata": {},
     "output_type": "execute_result"
    }
   ],
   "source": [
    "type(tweets_publicos)"
   ]
  },
  {
   "cell_type": "code",
   "execution_count": 36,
   "metadata": {},
   "outputs": [
    {
     "data": {
      "text/plain": [
       "'FIA https://t.co/2CsNrQiMTI'"
      ]
     },
     "execution_count": 36,
     "metadata": {},
     "output_type": "execute_result"
    }
   ],
   "source": [
    "tweets_publicos[0].text"
   ]
  },
  {
   "cell_type": "code",
   "execution_count": 37,
   "metadata": {},
   "outputs": [
    {
     "data": {
      "text/plain": [
       "'FIA https://t.co/81yNqOt2Ua'"
      ]
     },
     "execution_count": 37,
     "metadata": {},
     "output_type": "execute_result"
    }
   ],
   "source": [
    "tweets_publicos[1].text"
   ]
  },
  {
   "cell_type": "code",
   "execution_count": 40,
   "metadata": {},
   "outputs": [
    {
     "name": "stdout",
     "output_type": "stream",
     "text": [
      "FIA https://t.co/2CsNrQiMTI\n",
      "FIA https://t.co/81yNqOt2Ua\n",
      "É mais eficiente do que apreender maconha nas estradas, em depósitos ou na esquina. Vendida no mercado, ela fortale… https://t.co/PGpMwBCg56\n",
      "Seguimos a orientação do PR @jairbolsonaro de sermos duros contra o crime organizado e contra o tráfico de drogas.… https://t.co/VMnLEsnar9\n"
     ]
    }
   ],
   "source": [
    "print(tweets_publicos[0].text)\n",
    "print(tweets_publicos[1].text)\n",
    "print(tweets_publicos[2].text)\n",
    "print(tweets_publicos[3].text)\n"
   ]
  },
  {
   "cell_type": "code",
   "execution_count": 43,
   "metadata": {},
   "outputs": [
    {
     "name": "stdout",
     "output_type": "stream",
     "text": [
      " --> FIA https://t.co/2CsNrQiMTI \n",
      "\n"
     ]
    }
   ],
   "source": [
    "#meus twitters\n",
    "for i, tweet in enumerate(tweets_publicos):\n",
    "        print(f\" --> {tweet.text} \\n\")\n",
    "        break\n",
    "\n"
   ]
  },
  {
   "cell_type": "code",
   "execution_count": 44,
   "metadata": {},
   "outputs": [
    {
     "name": "stdout",
     "output_type": "stream",
     "text": [
      " --> FIA https://t.co/2CsNrQiMTI \n",
      "\n",
      " --> FIA https://t.co/81yNqOt2Ua \n",
      "\n",
      " --> É mais eficiente do que apreender maconha nas estradas, em depósitos ou na esquina. Vendida no mercado, ela fortale… https://t.co/PGpMwBCg56 \n",
      "\n",
      " --> Seguimos a orientação do PR @jairbolsonaro de sermos duros contra o crime organizado e contra o tráfico de drogas.… https://t.co/VMnLEsnar9 \n",
      "\n",
      " --> RT @docmbl: Nosso filme conta com detalhes sobre o impeachment de Dilma Rousseff. Assista e tire suas próprias decisões. Já disponível nas… \n",
      "\n",
      " --> RT @docmbl: Em uma entrevista no The Noite, @DaniloGentili questiona diretores do filme \"Não Vai Ter Golpe\", @kimpkat e @FernandoHoliday  s… \n",
      "\n",
      " --> Big Data with Python \n",
      "\n",
      " --> Big Data \n",
      "\n",
      " --> Prefeita de Paris, Anne Hidalgo, feliz em receber nossa grande presidenta @dilmabr, declara solidariedade à luta do… https://t.co/beAKSNGwko \n",
      "\n",
      " --> - Em nosso Governo, pela segunda vez, a mais baixa taxa de juros da história do Brasil.\n",
      "- É a Economia dando certo. https://t.co/92Cewj3a5O \n",
      "\n",
      " --> https://t.co/G4cX8yFTWh \n",
      "\n",
      " --> https://t.co/o0gDblBQzI \n",
      "\n",
      " --> No Brasil de Bolsonaro, quem deveria zelar pela lei viola Constituição e tem a desfaçatez de se apresentar como pal… https://t.co/fggkInPgJt \n",
      "\n",
      " --> no @Estadao\n",
      "Governo teme impacto de PEC que amplia despesas da União com Fundeb https://t.co/ED2HRb2sWu via @UOLNoticias @UOL \n",
      "\n",
      " --> na @folha\n",
      "Copom reduz taxa básica de juros para 5,5% ao ano https://t.co/8kgwbee6gK via @UOLNoticias @UOL \n",
      "\n",
      " --> na @folha\n",
      "Mesmo com viagem sob dúvidas, Bolsonaro define temas para discurso na ONU https://t.co/ul3mOolQMK via @UOLNoticias @UOL \n",
      "\n",
      " --> na @folha\n",
      "\n",
      "Maioria de novos empregos paga até dois salários mínimos, diz Ipea https://t.co/YSFa9Uidg3 via @UOLNoticias @UOL \n",
      "\n",
      " --> AO VIVO! Até as 19h20 https://t.co/5zijK3Tahu \n",
      "\n"
     ]
    }
   ],
   "source": [
    "#meus twitters\n",
    "for i, tweet in enumerate(tweets_publicos):\n",
    "        print(f\" --> {tweet.text} \\n\")\n",
    "        \n"
   ]
  },
  {
   "cell_type": "code",
   "execution_count": null,
   "metadata": {},
   "outputs": [],
   "source": []
  },
  {
   "cell_type": "code",
   "execution_count": 45,
   "metadata": {},
   "outputs": [
    {
     "name": "stdout",
     "output_type": "stream",
     "text": [
      " 1--> FIA https://t.co/2CsNrQiMTI \n",
      "\n",
      " 2--> FIA https://t.co/81yNqOt2Ua \n",
      "\n",
      " 3--> É mais eficiente do que apreender maconha nas estradas, em depósitos ou na esquina. Vendida no mercado, ela fortale… https://t.co/PGpMwBCg56 \n",
      "\n",
      " 4--> Seguimos a orientação do PR @jairbolsonaro de sermos duros contra o crime organizado e contra o tráfico de drogas.… https://t.co/VMnLEsnar9 \n",
      "\n",
      " 5--> RT @docmbl: Nosso filme conta com detalhes sobre o impeachment de Dilma Rousseff. Assista e tire suas próprias decisões. Já disponível nas… \n",
      "\n",
      " 6--> RT @docmbl: Em uma entrevista no The Noite, @DaniloGentili questiona diretores do filme \"Não Vai Ter Golpe\", @kimpkat e @FernandoHoliday  s… \n",
      "\n",
      " 7--> Big Data with Python \n",
      "\n",
      " 8--> Big Data \n",
      "\n",
      " 9--> Prefeita de Paris, Anne Hidalgo, feliz em receber nossa grande presidenta @dilmabr, declara solidariedade à luta do… https://t.co/beAKSNGwko \n",
      "\n",
      " 10--> - Em nosso Governo, pela segunda vez, a mais baixa taxa de juros da história do Brasil.\n",
      "- É a Economia dando certo. https://t.co/92Cewj3a5O \n",
      "\n",
      " 11--> https://t.co/G4cX8yFTWh \n",
      "\n",
      " 12--> https://t.co/o0gDblBQzI \n",
      "\n",
      " 13--> No Brasil de Bolsonaro, quem deveria zelar pela lei viola Constituição e tem a desfaçatez de se apresentar como pal… https://t.co/fggkInPgJt \n",
      "\n",
      " 14--> no @Estadao\n",
      "Governo teme impacto de PEC que amplia despesas da União com Fundeb https://t.co/ED2HRb2sWu via @UOLNoticias @UOL \n",
      "\n",
      " 15--> na @folha\n",
      "Copom reduz taxa básica de juros para 5,5% ao ano https://t.co/8kgwbee6gK via @UOLNoticias @UOL \n",
      "\n",
      " 16--> na @folha\n",
      "Mesmo com viagem sob dúvidas, Bolsonaro define temas para discurso na ONU https://t.co/ul3mOolQMK via @UOLNoticias @UOL \n",
      "\n",
      " 17--> na @folha\n",
      "\n",
      "Maioria de novos empregos paga até dois salários mínimos, diz Ipea https://t.co/YSFa9Uidg3 via @UOLNoticias @UOL \n",
      "\n",
      " 18--> AO VIVO! Até as 19h20 https://t.co/5zijK3Tahu \n",
      "\n"
     ]
    }
   ],
   "source": [
    "#meus twitters\n",
    "for i, tweet in enumerate(tweets_publicos, start=1):\n",
    "        print(f\" {i}--> {tweet.text} \\n\")"
   ]
  },
  {
   "cell_type": "code",
   "execution_count": null,
   "metadata": {},
   "outputs": [],
   "source": []
  },
  {
   "cell_type": "code",
   "execution_count": 48,
   "metadata": {},
   "outputs": [
    {
     "name": "stdout",
     "output_type": "stream",
     "text": [
      " 1--> Ricardo Sa \n",
      "\n",
      " 2--> Ricardo Sa \n",
      "\n",
      " 3--> Sergio Moro \n",
      "\n",
      " 4--> Sergio Moro \n",
      "\n",
      " 5--> Kim Kataguiri \n",
      "\n",
      " 6--> Kim Kataguiri \n",
      "\n",
      " 7--> Ricardo Sa \n",
      "\n",
      " 8--> Ricardo Sa \n",
      "\n",
      " 9--> Gleisi Lula Hoffmann \n",
      "\n",
      " 10--> Jair M. Bolsonaro \n",
      "\n",
      " 11--> Donald J. Trump \n",
      "\n",
      " 12--> Donald J. Trump \n",
      "\n",
      " 13--> Gleisi Lula Hoffmann \n",
      "\n",
      " 14--> Reinaldo Azevedo \n",
      "\n",
      " 15--> Reinaldo Azevedo \n",
      "\n",
      " 16--> Reinaldo Azevedo \n",
      "\n",
      " 17--> Reinaldo Azevedo \n",
      "\n",
      " 18--> Reinaldo Azevedo \n",
      "\n"
     ]
    }
   ],
   "source": [
    "#meus twitters\n",
    "for i, tweet in enumerate(tweets_publicos, start=1):\n",
    "        print(f\" {i}--> {tweet.user.name} \\n\")"
   ]
  },
  {
   "cell_type": "code",
   "execution_count": 54,
   "metadata": {},
   "outputs": [],
   "source": [
    "tweets_user = api.user_timeline()"
   ]
  },
  {
   "cell_type": "code",
   "execution_count": 55,
   "metadata": {},
   "outputs": [
    {
     "name": "stdout",
     "output_type": "stream",
     "text": [
      "FIA https://t.co/2CsNrQiMTI\n",
      "1174456964459507713\n",
      "Ricardo Sa\n",
      "2019-09-14 01:39:38\n",
      "--------18\n",
      "FIA https://t.co/81yNqOt2Ua\n",
      "1174456435046006784\n",
      "Ricardo Sa\n",
      "2019-09-14 01:39:38\n",
      "--------18\n",
      "Big Data with Python\n",
      "1174451336789856256\n",
      "Ricardo Sa\n",
      "2019-09-14 01:39:38\n",
      "--------18\n",
      "Big Data\n",
      "1174448387103608832\n",
      "Ricardo Sa\n",
      "2019-09-14 01:39:38\n",
      "--------18\n"
     ]
    }
   ],
   "source": [
    "for tweet in tweets_user:\n",
    "    print(tweet.text)\n",
    "    print(tweet.id)\n",
    "    print(tweet.user.name)\n",
    "    print(tweet.user.created_at)\n",
    "    print(f\"--------{i}\")"
   ]
  },
  {
   "cell_type": "code",
   "execution_count": null,
   "metadata": {},
   "outputs": [],
   "source": []
  },
  {
   "cell_type": "code",
   "execution_count": 62,
   "metadata": {},
   "outputs": [],
   "source": [
    "tweets_user = api.user_timeline(screen_name = \"revistasuper\", count=30)"
   ]
  },
  {
   "cell_type": "code",
   "execution_count": null,
   "metadata": {},
   "outputs": [],
   "source": []
  },
  {
   "cell_type": "code",
   "execution_count": 63,
   "metadata": {},
   "outputs": [
    {
     "name": "stdout",
     "output_type": "stream",
     "text": [
      "Pesquisa belga afirma que ninguém está imune dos prejuízos da poluição – nem mesmo um feto ainda na barriga da mãe.\n",
      "https://t.co/Tkv5RId6Y1\n",
      "1174463361557434369\n",
      "Superinteressante\n",
      "2008-11-07 22:32:55\n",
      "-------- 1\n",
      "Pesquisa belga afirma que ninguém está imune dos prejuízos da poluição – nem mesmo um feto ainda na barriga da mãe.\n",
      "https://t.co/Tkv5RHVvzr\n",
      "1174463360223465472\n",
      "Superinteressante\n",
      "2008-11-07 22:32:55\n",
      "-------- 2\n",
      "Fazer escolhas impulsivas parece uma opção menos razoável quando se está bem alimentado.\n",
      "https://t.co/8DvdvtGDbE\n",
      "1174445995838582784\n",
      "Superinteressante\n",
      "2008-11-07 22:32:55\n",
      "-------- 3\n",
      "Grandes cidades na Amazônia, comércio com os incas, guerra química entre canibais. E navegadores espanhóis que esti… https://t.co/twIR4svgkb\n",
      "1174385094607462405\n",
      "Superinteressante\n",
      "2008-11-07 22:32:55\n",
      "-------- 4\n",
      "Ela dura 639 anos (sim você leu direito). Na prática, porém, há um limite psicológico para a distância máxima entre… https://t.co/CKDEyPbFGr\n",
      "1174360180688998401\n",
      "Superinteressante\n",
      "2008-11-07 22:32:55\n",
      "-------- 5\n",
      "Jean-Jacques Rousseau: “Para conhecer os homens é preciso vê-los agir”: https://t.co/Mgliy8Zj44… https://t.co/rdz2pHVMpo\n",
      "1174325955336142848\n",
      "Superinteressante\n",
      "2008-11-07 22:32:55\n",
      "-------- 6\n",
      "Conheça o Big O, um híbrido que roda jogos de PC, PS4, Xbox One e Nintendo Switch: https://t.co/7bqaatGuoa https://t.co/D6Qr4YbXLJ\n",
      "1174307332429205504\n",
      "Superinteressante\n",
      "2008-11-07 22:32:55\n",
      "-------- 7\n",
      "Nesse ano,Theodor Adorno trabalhou dobrado! Leia aqui sobre as 24 músicas lançadas no ano mais prolífico da maior b… https://t.co/tgStsjiLlV\n",
      "1174144760925368321\n",
      "Superinteressante\n",
      "2008-11-07 22:32:55\n",
      "-------- 8\n",
      "Ele teve paralisia infantil, foi expulso de várias academias, treinou policiais e bombeiros - e criou uma indústria… https://t.co/cnArgiXBVF\n",
      "1174137966127534080\n",
      "Superinteressante\n",
      "2008-11-07 22:32:55\n",
      "-------- 9\n",
      "Esqueça Atlântida. O verdadeiro continente perdido se chama Grande Adria — e ele está bem debaixo da Europa\n",
      "https://t.co/NooU9wNrfA\n",
      "1174118337405706240\n",
      "Superinteressante\n",
      "2008-11-07 22:32:55\n",
      "-------- 10\n",
      "Pesquisadores brasileiros revisaram estudos sobre o assunto e lançaram um Guia explicando esse problema que afeta 4… https://t.co/sEJEpnR4Mj\n",
      "1174100972412424192\n",
      "Superinteressante\n",
      "2008-11-07 22:32:55\n",
      "-------- 11\n",
      "Neurocientistas confirmam: a beleza está mesmo nos olhos de quem vê: https://t.co/9xo8p4AOhf https://t.co/SDq9AXycET\n",
      "1174083607930912769\n",
      "Superinteressante\n",
      "2008-11-07 22:32:55\n",
      "-------- 12\n",
      "Voltaire: \"Se Deus não existisse, seria necessário inventá-lo\": https://t.co/CX2BAPuy3w #GuiaSUPERdaFilosofia https://t.co/TJ5hj3DiCS\n",
      "1174022706754392066\n",
      "Superinteressante\n",
      "2008-11-07 22:32:55\n",
      "-------- 13\n",
      "Quanto petróleo é necessário para fazer 1 litro de gasolina? https://t.co/w2DKwJs3Q6 https://t.co/PXcxXZzbu6\n",
      "1174002421971992578\n",
      "Superinteressante\n",
      "2008-11-07 22:32:55\n",
      "-------- 14\n",
      "Narcisistas tendem a ser mais resistentes a admitir erros. O problema é que isso pode atrapalhar consideravelmente… https://t.co/XuhBowJ3LG\n",
      "1173974174274150400\n",
      "Superinteressante\n",
      "2008-11-07 22:32:55\n",
      "-------- 15\n",
      "Na dúvida, prefira um ar condicionado. Nosso organismo resiste mais à queda do que ao aumento da temperatura intern… https://t.co/qUC0xGEcao\n",
      "1173944944676835328\n",
      "Superinteressante\n",
      "2008-11-07 22:32:55\n",
      "-------- 16\n",
      "Você já assistiu a Bacurau? A chamada “distopia brasileira” está contagiando o país inteiro, mas, antes dela, vário… https://t.co/DrtEU4eUzO\n",
      "1173775578438295552\n",
      "Superinteressante\n",
      "2008-11-07 22:32:55\n",
      "-------- 17\n",
      "Pesquisa feita com mais 13 mil mulheres dos EUA escancara uma realidade assustadora.\n",
      "https://t.co/tYrFq3xs3D\n",
      "1173756200778747904\n",
      "Superinteressante\n",
      "2008-11-07 22:32:55\n",
      "-------- 18\n",
      "Depois de descobrirem o primeiro asteroide interestelar, cientistas agora detectaram um cometa forasteiro — e ele p… https://t.co/HmtLAYV9Pd\n",
      "1173753684087328768\n",
      "Superinteressante\n",
      "2008-11-07 22:32:55\n",
      "-------- 19\n",
      "Mas calma, não vem nenhum apocalipse zumbi por aí. A movimentação é restrita, resultado da decomposição do corpo e… https://t.co/Qbbbzt9C1R\n",
      "1173721220233273344\n",
      "Superinteressante\n",
      "2008-11-07 22:32:55\n",
      "-------- 20\n",
      "Na busca por raças \"puras\", cruza-se mãe com filhote ou irmão com irmã. E, quanto menos variação genética, maior o… https://t.co/KcR2T8Giuv\n",
      "1173660318955974656\n",
      "Superinteressante\n",
      "2008-11-07 22:32:55\n",
      "-------- 21\n",
      "Ela traiu ou não traiu? Leia a resposta aqui e aumente seu grau de brasilidade ;)\n",
      "\n",
      "https://t.co/vm7C0Tzk1j\n",
      "1173627666483818498\n",
      "Superinteressante\n",
      "2008-11-07 22:32:55\n",
      "-------- 22\n",
      "Em parceria com uma ONG, médicos do Reino Unido começaram a recomendar jardinagem para quem sofre de depressão e an… https://t.co/u6DmZEK82d\n",
      "1173601179386961921\n",
      "Superinteressante\n",
      "2008-11-07 22:32:55\n",
      "-------- 23\n",
      "Reid era pastor – e fazia sermões famosos por serem emotivos. Quando não estava no púlpito, filosofava em defesa do… https://t.co/69cCjkQQ9J\n",
      "1173582556970856448\n",
      "Superinteressante\n",
      "2008-11-07 22:32:55\n",
      "-------- 24\n",
      "O cartel de Medellín industrializou o narcotráfico e fez chover cocaína nos EUA. Seduziu boa parte da sociedade col… https://t.co/J4DEPudYh9\n",
      "1173416462129782784\n",
      "Superinteressante\n",
      "2008-11-07 22:32:55\n",
      "-------- 25\n",
      "A surpreendente história das pesquisas científicas sobre a vida debaixo dos lençóis.\n",
      "https://t.co/hlpmXBNz4d\n",
      "1173391044458598400\n",
      "Superinteressante\n",
      "2008-11-07 22:32:55\n",
      "-------- 26\n",
      "#SuperLidas A duração de um dia no planeta dos anéis é muito mais misteriosa do que parece – mas um grupo americano… https://t.co/wflQwsWZJc\n",
      "1173336938159329280\n",
      "Superinteressante\n",
      "2008-11-07 22:32:55\n",
      "-------- 27\n",
      "Numa única tabela, os cientistas conseguiram organizar todo o conhecimento da física de partículas e entender como… https://t.co/1k24JBdzwN\n",
      "1173317560315645952\n",
      "Superinteressante\n",
      "2008-11-07 22:32:55\n",
      "-------- 28\n",
      "A história tem mais a ver com o irmão do Thor do que com gatos pretos ou motosserras. https://t.co/hRutDVQVpP\n",
      "1173299189461213184\n",
      "Superinteressante\n",
      "2008-11-07 22:32:55\n",
      "-------- 29\n",
      "#SuperLidas A muito antecipada missão da Índia quase deu certo. A perda do contato com a sonda, porém, provocou lág… https://t.co/U8LwuvfDbP\n",
      "1173273018610704391\n",
      "Superinteressante\n",
      "2008-11-07 22:32:55\n",
      "-------- 30\n"
     ]
    }
   ],
   "source": [
    "for i, tweet in enumerate (tweets_user, start=1):\n",
    "    print(tweet.text)\n",
    "    print(tweet.id)\n",
    "    print(tweet.user.name)\n",
    "    print(tweet.user.created_at)\n",
    "    print(f\"-------- {i}\")"
   ]
  },
  {
   "cell_type": "code",
   "execution_count": null,
   "metadata": {},
   "outputs": [],
   "source": []
  },
  {
   "cell_type": "code",
   "execution_count": 66,
   "metadata": {},
   "outputs": [],
   "source": [
    "retweets = api.retweets_of_me(count=10)"
   ]
  },
  {
   "cell_type": "code",
   "execution_count": null,
   "metadata": {},
   "outputs": [],
   "source": []
  },
  {
   "cell_type": "code",
   "execution_count": 68,
   "metadata": {},
   "outputs": [],
   "source": [
    "meus_tweets = api.user_timeline()"
   ]
  },
  {
   "cell_type": "code",
   "execution_count": 69,
   "metadata": {},
   "outputs": [],
   "source": [
    "#remover tweets\n",
    "retorno = []\n",
    "for item in meus_tweets:\n",
    "    aux = api.destroy_status(id=item.id)\n",
    "    retorno.append(aux)"
   ]
  },
  {
   "cell_type": "code",
   "execution_count": null,
   "metadata": {},
   "outputs": [],
   "source": []
  },
  {
   "cell_type": "code",
   "execution_count": 80,
   "metadata": {},
   "outputs": [],
   "source": [
    "#pesquisar por tweets\n",
    "tweets = api.search(q='Big Data', lang='en', count=200)"
   ]
  },
  {
   "cell_type": "code",
   "execution_count": null,
   "metadata": {},
   "outputs": [],
   "source": []
  },
  {
   "cell_type": "code",
   "execution_count": 81,
   "metadata": {},
   "outputs": [
    {
     "data": {
      "text/plain": [
       "100"
      ]
     },
     "execution_count": 81,
     "metadata": {},
     "output_type": "execute_result"
    }
   ],
   "source": [
    "len(tweets)"
   ]
  },
  {
   "cell_type": "code",
   "execution_count": 82,
   "metadata": {},
   "outputs": [
    {
     "name": "stdout",
     "output_type": "stream",
     "text": [
      "0 ---> RT @nijinskyforever: @tan123 Michael Mann should be in jail.\n",
      "He’s fooled millions and millions of people with his manipulated climate data.…\n",
      "1 ---> Small, midsize businesses are 'much stronger' than large enterprise right now, Tech Data CEO says - CNBC #IoT… https://t.co/LI6QtNENUw\n",
      "2 ---> @NoNutTraveler Highly controlled trials conducted at 66 sites resulted in first reliable study data on efficacy and… https://t.co/LCuAeCRPYa\n",
      "3 ---> @kemi_akapo @TheMarketHall @downtownPtbo I'm travelling back to Ptbo so can't be there but would like to know more.… https://t.co/BNLF1G6pMX\n",
      "4 ---> RT @McJuggerNuggets: As I previously stated, here's Google's Vision AI...\n",
      "\n",
      "This is relatively below the radar, but understand what Youtube…\n",
      "5 ---> RT @NeverAgainActn: In the age of \"big data,\" where the intelligence of computers has reached heights hardly imagined in the 1930s and 40s,…\n",
      "6 ---> [Archive]: Install SQL Server 2019 Big Data Cluster using Azure Data Studio\n",
      "Installation of SQL Server 2019 Big Dat… https://t.co/vn6Xbup1gG\n",
      "7 ---> RT @ValaAfshar: 2019 top digital transformation tech investment priorities:\n",
      "\n",
      "1. Cloud\n",
      "2. cybersecurity\n",
      "3. #AI\n",
      "4. Big data\n",
      "5. IoT\n",
      "6. Real-ti…\n",
      "8 ---> \"The same news organizations that do a great job of reporting on privacy problems — have privacy problems\"\n",
      "\n",
      "And of… https://t.co/1QlFZGxuyj\n",
      "9 ---> RT @Airdropnotecom: #Bitcoin #crypto #Airdrop\n",
      "New Airdrop #BIGtoken 📢\n",
      "\n",
      "Earn rewards when you Sign Up for #BIG and share your data\n",
      "\n",
      "1. Sign…\n",
      "10 ---> RT @UnitXtech: UnitX is set to disrupt the supercomputing industry with its online software platform for big data analytics and AI. Read th…\n",
      "11 ---> Big move in @Qc_125 projection today, caused by jump in the LIB lead in ON from 6.5% to 9%.\n",
      "\n",
      "This was probably caus… https://t.co/VR11sNSmP4\n",
      "12 ---> Using Real-Time Big #Data for Process Optimization: An #IoT Use Case [Use Case + Video Incl.] https://t.co/fzHeMcjUnD #ai\n",
      "13 ---> RT @dan_p_simpson: Without further ado: JOB 1: ASSISTANT PROFESSOR, PHILOSOPHY AND STATISTICAL SCIENCES. 51% Philosophy, 49% Statistics. Th…\n",
      "14 ---> RT @McJuggerNuggets: As I previously stated, here's Google's Vision AI...\n",
      "\n",
      "This is relatively below the radar, but understand what Youtube…\n",
      "15 ---> RT @cloudera: #Hadoop has become \"a movement toward a modern architecture for managing and analyzing data,\" as said best by our CPO @acmurt…\n",
      "16 ---> RT @McJuggerNuggets: As I previously stated, here's Google's Vision AI...\n",
      "\n",
      "This is relatively below the radar, but understand what Youtube…\n",
      "17 ---> Welcome to Pee's Playhouse. Today's secret word is big data. Ah, ding ding ding.\n",
      "18 ---> GET TO K-MART, SO THAT YACOIN AT THE WARS BIXBY TO WITH A DIARRHEA-FILLED CLOWN. SMELLS ALL THE BIG DATA FINAL THOU… https://t.co/iYcGKVY9ss\n",
      "19 ---> RT @automeme: Beginners Guide to #MachineLearning, #ArtificialIntelligence, #InternetOfThings, #NLProc, #DeepLearning, #BigDataAnalytics &amp;…\n",
      "20 ---> RT @FrankPasquale: “We should reject the assumption that our built environment must become one big computer. We should erect barriers again…\n",
      "21 ---> What’s next for big data after a turbulent 2019? https://t.co/ST4CASOlGc \n",
      "\n",
      "Maybe what's next is getting more data s… https://t.co/8YIHi4NN0l\n",
      "22 ---> RT @DavidLauter: Since passage of the Affordable Care Act, which expanded access to contraceptives, the abortion rate in US is down 29%. AC…\n",
      "23 ---> @ellyevolving Yeah if ur using big data sets then 100%. Clusters give you the power but setting up pragmas in the code really optimizes it\n",
      "24 ---> What does a digital public relations officer do? -Big Data Analytics News https://t.co/rFSjwY99tj\n",
      "25 ---> RT @splunk: A big thank you to President @BarackObama for joining us at our “The Beginning of Everything” event today as we continue our jo…\n",
      "26 ---> Protect your data! Join me on BIG Get paid for your data! Sign up for BIGtoken to earn rewards for answering questi… https://t.co/ztdhfpjOim\n",
      "27 ---> RT @McJuggerNuggets: As I previously stated, here's Google's Vision AI...\n",
      "\n",
      "This is relatively below the radar, but understand what Youtube…\n",
      "28 ---> RT @McJuggerNuggets: As I previously stated, here's Google's Vision AI...\n",
      "\n",
      "This is relatively below the radar, but understand what Youtube…\n",
      "29 ---> RT @EdinUniMentalH: A big shout out for Mark Adams @mja - post-doc extraordinare. Statistician, Data Scientist &amp; @PGCgenetics #depression D…\n",
      "30 ---> RT @splunk: A big thank you to President @BarackObama for joining us at our “The Beginning of Everything” event today as we continue our jo…\n",
      "31 ---> RT @splunk: A big thank you to President @BarackObama for joining us at our “The Beginning of Everything” event today as we continue our jo…\n",
      "32 ---> RT @ipfconline1: What You Need to Know About Augmented #Analytics\n",
      "\n",
      "https://t.co/L3ni5Czlt6 by @lisamorgan via @InformationWeek\n",
      "#BigData #AI…\n",
      "33 ---> Hollywood Squares: Bo Jackson, who was the first construction worker of some country? Er...big data? HAR HAR HAR.\n",
      "34 ---> @dpakman when discussing polling, why not mention the context from which the data is derived? Exp., Warren receives… https://t.co/wKOwpTsSLl\n",
      "35 ---> @masterclass2009 @Reuters Security reasons and data will be collected over seas and that is a big no no\n",
      "36 ---> THE BATHROOM. BIG DATA LIBRARIANS OVER THE DON CORNELIUS AND A JAR OF ANNUAL FART. YOU LITTER. IN HEAT 113, BULLS T… https://t.co/WRs8GFM4Ng\n",
      "37 ---> RT @ValaAfshar: 2019 top digital transformation tech investment priorities:\n",
      "\n",
      "1. Cloud\n",
      "2. cybersecurity\n",
      "3. #AI\n",
      "4. Big data\n",
      "5. IoT\n",
      "6. Real-ti…\n",
      "38 ---> RT @McJuggerNuggets: As I previously stated, here's Google's Vision AI...\n",
      "\n",
      "This is relatively below the radar, but understand what Youtube…\n",
      "39 ---> RT @gopaulblair: @parscale @KellyannePolls Donald Trump won Michigan in 2016 by ~11,000 votes.\n",
      "5.4% of adults in Michigan vape (FDA data).…\n",
      "40 ---> How to Improve Customer Experience With Big Data #CustomerExperience #BigData #LakeB2B via https://t.co/6mUkgaTbmJ https://t.co/LVoZzTu9Pv\n",
      "41 ---> PostgreSQL, MonetDB, and Too-Big-for-Memory Data in R -- Part II https://t.co/DRlCCKxQRZ\n",
      "42 ---> A clever data mining ruse. Nice try, Big Tech, but this Barbarian wasn't fooled. https://t.co/zewY0IfwcP\n",
      "43 ---> RT @bigdataconf: Crisp launches with $14.2 million to cut food waste using #BigData https://t.co/xANKBGu9TT #DataScience #machinelearning #…\n",
      "44 ---> RT @mbauwens: How post-industrial capitalism and a new type of big data will save the planet https://t.co/P1iR45Pc9D\n",
      "\n",
      "(REALLY worth reading)\n",
      "45 ---> RT @MikeQuindazzi: 20 reasons why #BigData is getting bigger, and will keep getting bigger and bigger &gt;&gt;&gt; @wef via @MikeQuindazzi &gt;&gt;&gt;#megat…\n",
      "46 ---> In my years in tech, these are the questions I’ve heard:\n",
      "\n",
      "2012: What is big data?\n",
      "2015: What is product management?… https://t.co/OuSh6QFGdO\n",
      "47 ---> RT @McJuggerNuggets: As I previously stated, here's Google's Vision AI...\n",
      "\n",
      "This is relatively below the radar, but understand what Youtube…\n",
      "48 ---> Couldn't have said it better\n",
      "agreed that it is not without flaws; and yes we must be tough on criminals,  known cri… https://t.co/nsEUFbrprD\n",
      "49 ---> RT @splunk: A big thank you to President @BarackObama for joining us at our “The Beginning of Everything” event today as we continue our jo…\n",
      "50 ---> RT @gopaulblair: @parscale @KellyannePolls Donald Trump won Michigan in 2016 by ~11,000 votes.\n",
      "5.4% of adults in Michigan vape (FDA data).…\n",
      "51 ---> LIKE UNDERWEAR AND FINGER PAINTING. INSURGENT WITH PRESIDENT OBAMA. A CAN COOK IN OUR BIEBER. DING, BIG DATA PRINCE… https://t.co/3HOykYxoFb\n",
      "52 ---> RT @DavidLauter: Since passage of the Affordable Care Act, which expanded access to contraceptives, the abortion rate in US is down 29%. AC…\n",
      "53 ---> RT @dnrol: .@EnvDefenseFund’s Robyn Grimm hosting a panel on how big data and tech can build trust, level the playing field, and enable sus…\n",
      "54 ---> RT @splunk: A big thank you to President @BarackObama for joining us at our “The Beginning of Everything” event today as we continue our jo…\n",
      "55 ---> New post: How Big Data is Being Used to Recruit Players – and More – https://t.co/uRRqc1NSSP Ltd. https://t.co/qwUwXOMtHD\n",
      "56 ---> RT @JacobWolf: .@100Thieves absence from the future @CallofDuty franchise league shouldn't be a surprise.\n",
      "\n",
      "The game has yet to show any dat…\n",
      "57 ---> RT @VisualCap: How China is Using Surveillance and Big Data to Score its Citizens?\n",
      "https://t.co/3XEnXvW2D9 https://t.co/LFdejxUJS3\n",
      "58 ---> There's no data, just like there's no data confirming truths spoken from religious leaders. People just mindlessly… https://t.co/SO0qQtgZgO\n",
      "59 ---> Intelligent Reporting\n",
      "The use of #artificialintelligence in today’s world is becoming a...\n",
      "https://t.co/eJ82uhCqHx https://t.co/NMVJrZAkna\n",
      "60 ---> RT @DavidLauter: Since passage of the Affordable Care Act, which expanded access to contraceptives, the abortion rate in US is down 29%. AC…\n",
      "61 ---> RT @mullitover: Demystifying Data Science: By Startup in order to Big Business, Being Leveraged Effectively Face to face https://t.co/MdC79…\n",
      "62 ---> RT @MikeQuindazzi: 20 reasons why #BigData is getting bigger, and will keep getting bigger and bigger &gt;&gt;&gt; @wef via @MikeQuindazzi &gt;&gt;&gt;#megat…\n",
      "63 ---> RT @LilJeanGrey: Im learning how to celebrate small accomplishments everyday...such as getting an email from ICBR giving me details on my R…\n",
      "64 ---> A challenge of big data vs N=1 as it pertains to sleep: Insomnia affects 70m Americans and costs &gt;$100B per year, r… https://t.co/YPSs6BpCCk\n",
      "65 ---> RT @DavidLauter: Since passage of the Affordable Care Act, which expanded access to contraceptives, the abortion rate in US is down 29%. AC…\n",
      "66 ---> RT @DavidLauter: Since passage of the Affordable Care Act, which expanded access to contraceptives, the abortion rate in US is down 29%. AC…\n",
      "67 ---> RT @DavidLauter: Since passage of the Affordable Care Act, which expanded access to contraceptives, the abortion rate in US is down 29%. AC…\n",
      "68 ---> Introducing the amazing company @cbiprocables. Not only are they American made, but they're the leader in high-qual… https://t.co/UuqcKScT7M\n",
      "69 ---> RT @McJuggerNuggets: As I previously stated, here's Google's Vision AI...\n",
      "\n",
      "This is relatively below the radar, but understand what Youtube…\n",
      "70 ---> @armenoush_nyc @conradgangone @HowsMyDrivingNY @JimmyVanBramer Fatalities need separated. Obv you don’t have (of co… https://t.co/6JxNT0ESfZ\n",
      "71 ---> The LawBytes Podcast, Episode 24: A Tribute to Ian Kerr - ⁦@mgeist⁩ thanks so much for sharing. ⁦I’ve spoken about… https://t.co/ocLJtegprS\n",
      "72 ---> BIG DATA BURPING MANCHU WOK TASTES FAINT. FOR ELEPHANT. A BROOM SMELLS WITH OPAQUE WINDSHIELD AND MOOD AT THE VIEW… https://t.co/Azyf8f45Uc\n",
      "73 ---> RT @splunk: A big thank you to President @BarackObama for joining us at our “The Beginning of Everything” event today as we continue our jo…\n",
      "74 ---> RT @CNBC: Small, midsize businesses are 'much stronger' than large enterprise right now, Tech Data CEO says https://t.co/I4RTLkSVyB\n",
      "75 ---> RT @McJuggerNuggets: As I previously stated, here's Google's Vision AI...\n",
      "\n",
      "This is relatively below the radar, but understand what Youtube…\n",
      "76 ---> RT @DavidLauter: Since passage of the Affordable Care Act, which expanded access to contraceptives, the abortion rate in US is down 29%. AC…\n",
      "77 ---> @infotranecon In fact they weren't subject to the same scrutiny. The journal actually had data/code submission stan… https://t.co/rxM9YvoqmE\n",
      "78 ---> RT @McJuggerNuggets: As I previously stated, here's Google's Vision AI...\n",
      "\n",
      "This is relatively below the radar, but understand what Youtube…\n",
      "79 ---> Demystifying Data Science: By Startup in order to Big Business, Being Leveraged Effectively Face to face https://t.co/MdC79sOTXu\n",
      "80 ---> From ⁦⁦@CityLab⁩ : “Using geotagged tweets, researchers found four types of social connectedness in big U.S. cities… https://t.co/U8PS15ngxn\n",
      "81 ---> RT @ValaAfshar: 2019 top digital transformation tech investment priorities:\n",
      "\n",
      "1. Cloud\n",
      "2. cybersecurity\n",
      "3. #AI\n",
      "4. Big data\n",
      "5. IoT\n",
      "6. Real-ti…\n",
      "82 ---> RT @splunk: A big thank you to President @BarackObama for joining us at our “The Beginning of Everything” event today as we continue our jo…\n",
      "83 ---> RT @ValaAfshar: 2019 top digital transformation tech investment priorities:\n",
      "\n",
      "1. Cloud\n",
      "2. cybersecurity\n",
      "3. #AI\n",
      "4. Big data\n",
      "5. IoT\n",
      "6. Real-ti…\n",
      "84 ---> RT @douglasmerritt: Turn data into doing. It's a big day for @splunk as we announce new pricing, partner and investment breakthroughs, and…\n",
      "85 ---> Understand the demand for Big Data for Telecommunications and Media &amp; Entertainment Market 2019 Forecast to 2025 By… https://t.co/Kfthx1WX2u\n",
      "86 ---> RT @chi2innovations: 10 Prime Industries for AI Applications https://t.co/a1ZTT4GXK1 via @informationweek https://t.co/rmaMEVJYmd\n",
      "87 ---> @junghobiious @bts_nore @BTS_twt no, I'm sorry. it's my fault to use the hashtag. I didn't in right mind that day c… https://t.co/bR89BgvoF8\n",
      "88 ---> RT @Pivot3Inc: High-performance #BigData analytics with #HCI - sound interesting? Learn how Pivot3 optimizes big data analytics deployments…\n",
      "89 ---> RT @BigDataBatman: Desarrollador Batman (Scala Spark) at ENTELGY - Zona Centro (Madrid, Spain) https://t.co/js7VV4hhlj #scala\n",
      "90 ---> RT @ipfconline1: What You Need to Know About Augmented #Analytics\n",
      "\n",
      "https://t.co/L3ni5Czlt6 by @lisamorgan via @InformationWeek\n",
      "#BigData #AI…\n",
      "91 ---> RT @LilJeanGrey: Im learning how to celebrate small accomplishments everyday...such as getting an email from ICBR giving me details on my R…\n",
      "92 ---> RT @CICAUPDATE: A new paper that explores how large, local and international data sets can help workers and job seekers transfer their exis…\n",
      "93 ---> RT @LilJeanGrey: Im learning how to celebrate small accomplishments everyday...such as getting an email from ICBR giving me details on my R…\n",
      "94 ---> Wiley CIO: Big Data, Big Analytics : Emerging Business Intelligence and... $6.85 via eBay https://t.co/ev7r9zc0AP time left: 29d 23h\n",
      "95 ---> High-performance #BigData analytics with #HCI - sound interesting? Learn how Pivot3 optimizes big data analytics de… https://t.co/21rECZ5yD3\n",
      "96 ---> RT @kvallmuur: 'We want the road toll to be zero': How big data could save Queensland lives https://t.co/ZoWPmX0dz6 via @brisbanetimes\n",
      "97 ---> Desarrollador Batman (Scala Spark) at ENTELGY - Zona Centro (Madrid, Spain) https://t.co/js7VV4hhlj #scala\n",
      "98 ---> RT @lasseweb20: Quick video summary of the AI and Big data conference by @fide_fundacion \n",
      "- Big data analytics and AI are growing exponenti…\n",
      "99 ---> Im learning how to celebrate small accomplishments everyday...such as getting an email from ICBR giving me details… https://t.co/MRFOJekesy\n"
     ]
    }
   ],
   "source": [
    "for i, tweet in enumerate(tweets):\n",
    "    print(i, '--->', tweet.text)"
   ]
  },
  {
   "cell_type": "code",
   "execution_count": null,
   "metadata": {},
   "outputs": [],
   "source": []
  },
  {
   "cell_type": "code",
   "execution_count": 87,
   "metadata": {},
   "outputs": [
    {
     "name": "stdout",
     "output_type": "stream",
     "text": [
      "1000900800700600500400300200100"
     ]
    }
   ],
   "source": [
    "#pesquisar por tweets\n",
    "tweets_salvos = []\n",
    "ultimo_id = -1\n",
    "qtde_tweets = 1000\n",
    "\n",
    "while len (tweets_salvos) < qtde_tweets:\n",
    "    contador = qtde_tweets - len(tweets_salvos)\n",
    "    print(contador, end='')\n",
    "    try:\n",
    "        \n",
    "        novos_tweets = api.search(q='Big Data', lang='en',max_id = ultimo_id - 1, count=contador)\n",
    "        if not novos_tweets:\n",
    "            print(\"nenhum tweet para recuperar\")\n",
    "            break\n",
    "        tweets_salvos.extend(novos_tweets)\n",
    "        ultimo_id = novos_tweets[-1].id\n",
    "    except tweepy.TweepErros as e:\n",
    "        prin(\"Erro:\", e)\n",
    "        break\n"
   ]
  },
  {
   "cell_type": "code",
   "execution_count": null,
   "metadata": {},
   "outputs": [],
   "source": []
  },
  {
   "cell_type": "code",
   "execution_count": null,
   "metadata": {},
   "outputs": [],
   "source": []
  },
  {
   "cell_type": "code",
   "execution_count": null,
   "metadata": {},
   "outputs": [],
   "source": []
  },
  {
   "cell_type": "code",
   "execution_count": null,
   "metadata": {},
   "outputs": [],
   "source": []
  },
  {
   "cell_type": "code",
   "execution_count": null,
   "metadata": {},
   "outputs": [],
   "source": []
  },
  {
   "cell_type": "code",
   "execution_count": null,
   "metadata": {},
   "outputs": [],
   "source": []
  },
  {
   "cell_type": "code",
   "execution_count": null,
   "metadata": {},
   "outputs": [],
   "source": []
  },
  {
   "cell_type": "code",
   "execution_count": null,
   "metadata": {},
   "outputs": [],
   "source": []
  },
  {
   "cell_type": "code",
   "execution_count": null,
   "metadata": {},
   "outputs": [],
   "source": []
  },
  {
   "cell_type": "code",
   "execution_count": null,
   "metadata": {},
   "outputs": [],
   "source": []
  },
  {
   "cell_type": "code",
   "execution_count": null,
   "metadata": {},
   "outputs": [],
   "source": []
  },
  {
   "cell_type": "code",
   "execution_count": null,
   "metadata": {},
   "outputs": [],
   "source": []
  },
  {
   "cell_type": "code",
   "execution_count": null,
   "metadata": {},
   "outputs": [],
   "source": []
  },
  {
   "cell_type": "code",
   "execution_count": null,
   "metadata": {},
   "outputs": [],
   "source": []
  },
  {
   "cell_type": "code",
   "execution_count": null,
   "metadata": {},
   "outputs": [],
   "source": []
  },
  {
   "cell_type": "code",
   "execution_count": null,
   "metadata": {},
   "outputs": [],
   "source": []
  }
 ],
 "metadata": {
  "kernelspec": {
   "display_name": "Python 3",
   "language": "python",
   "name": "python3"
  },
  "language_info": {
   "codemirror_mode": {
    "name": "ipython",
    "version": 3
   },
   "file_extension": ".py",
   "mimetype": "text/x-python",
   "name": "python",
   "nbconvert_exporter": "python",
   "pygments_lexer": "ipython3",
   "version": "3.7.3"
  }
 },
 "nbformat": 4,
 "nbformat_minor": 2
}
