{
 "cells": [
  {
   "cell_type": "markdown",
   "metadata": {},
   "source": [
    "## Herança"
   ]
  },
  {
   "cell_type": "code",
   "execution_count": null,
   "metadata": {},
   "outputs": [],
   "source": [
    "class Pessoa:\n",
    "    def __init__(self, nome, idade):\n",
    "        self.nome = nome\n",
    "        self.idade = idade\n",
    "\n",
    "    def andar(self):\n",
    "        return(f\"O {self.nome} está andando\")\n",
    "    \n",
    "    def falar(self):\n",
    "        return(f\"O {self.nome} está falando\")\n"
   ]
  },
  {
   "cell_type": "code",
   "execution_count": null,
   "metadata": {},
   "outputs": [],
   "source": [
    "joao = Pessoa('João', 30)"
   ]
  },
  {
   "cell_type": "code",
   "execution_count": null,
   "metadata": {},
   "outputs": [],
   "source": [
    "print(joao.nome)"
   ]
  },
  {
   "cell_type": "code",
   "execution_count": null,
   "metadata": {},
   "outputs": [],
   "source": [
    "print(joao.falar())"
   ]
  },
  {
   "cell_type": "code",
   "execution_count": null,
   "metadata": {},
   "outputs": [],
   "source": [
    "print(dir(joao))"
   ]
  },
  {
   "cell_type": "code",
   "execution_count": null,
   "metadata": {},
   "outputs": [],
   "source": [
    "class Atleta(Pessoa):\n",
    "    def __init__(self, nome, idade, peso):\n",
    "        Pessoa.__init__(self, nome, idade)\n",
    "        self.peso = peso\n",
    "        self.aposentado = False\n",
    "        \n",
    "    def aquecer(self):\n",
    "        return(f\"Atleta {self.nome} está aquecido\")\n",
    "\n",
    "    def aposentar(self):\n",
    "        self.aposentado = True"
   ]
  },
  {
   "cell_type": "code",
   "execution_count": null,
   "metadata": {},
   "outputs": [],
   "source": [
    "pedro = Atleta('Pedro')"
   ]
  },
  {
   "cell_type": "code",
   "execution_count": null,
   "metadata": {},
   "outputs": [],
   "source": [
    "pedro = Atleta('Pedro', 30, 80)"
   ]
  },
  {
   "cell_type": "code",
   "execution_count": null,
   "metadata": {},
   "outputs": [],
   "source": [
    "print(dir(pedro))"
   ]
  },
  {
   "cell_type": "code",
   "execution_count": null,
   "metadata": {},
   "outputs": [],
   "source": [
    "class Corredor(Atleta):\n",
    "    def correr(self):\n",
    "        return(f\"{self.nome} correndo\")\n"
   ]
  },
  {
   "cell_type": "code",
   "execution_count": null,
   "metadata": {},
   "outputs": [],
   "source": [
    "class Nadador(Atleta):\n",
    "    def nadar(self):\n",
    "        return(f\"{self.nome} nadando\")\n"
   ]
  },
  {
   "cell_type": "code",
   "execution_count": null,
   "metadata": {},
   "outputs": [],
   "source": [
    "class Ciclista(Atleta):\n",
    "    def pedalar(self):\n",
    "        return(f\"{self.nome} pedalando\")"
   ]
  },
  {
   "cell_type": "markdown",
   "metadata": {},
   "source": [
    "## Herança Múltipla"
   ]
  },
  {
   "cell_type": "code",
   "execution_count": null,
   "metadata": {},
   "outputs": [],
   "source": [
    "class Triatleta(Corredor, Nadador, Ciclista):\n",
    "    def __init__(self, nome, idade, peso, num_inscricao):\n",
    "        super().__init__(nome, idade, peso)\n",
    "        self.num_inscricao = num_inscricao\n",
    "        \n",
    "    def realizar_prova(self):\n",
    "        return f\"\"\"\n",
    "        Número inscrição: {self.num_inscricao} - Iniciando a prova\n",
    "        {\"=\"*44}\n",
    "        > {self.nadar()}\n",
    "        > {self.pedalar()}\n",
    "        > {self.correr()}\n",
    "        > {self.nome} terminou a prova\"\"\"\n"
   ]
  },
  {
   "cell_type": "code",
   "execution_count": null,
   "metadata": {},
   "outputs": [],
   "source": [
    "bilbo = Triatleta()"
   ]
  },
  {
   "cell_type": "code",
   "execution_count": null,
   "metadata": {},
   "outputs": [],
   "source": [
    "bilbo = Triatleta('Bilbo', 34, 86, 1234)"
   ]
  },
  {
   "cell_type": "code",
   "execution_count": null,
   "metadata": {},
   "outputs": [],
   "source": [
    "print(bilbo.realizar_prova())"
   ]
  },
  {
   "cell_type": "code",
   "execution_count": null,
   "metadata": {},
   "outputs": [],
   "source": []
  }
 ],
 "metadata": {
  "kernelspec": {
   "display_name": "Python 3",
   "language": "python",
   "name": "python3"
  },
  "language_info": {
   "codemirror_mode": {
    "name": "ipython",
    "version": 3
   },
   "file_extension": ".py",
   "mimetype": "text/x-python",
   "name": "python",
   "nbconvert_exporter": "python",
   "pygments_lexer": "ipython3",
   "version": "3.7.2"
  }
 },
 "nbformat": 4,
 "nbformat_minor": 2
}
