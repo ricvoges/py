{
 "cells": [
  {
   "cell_type": "markdown",
   "metadata": {},
   "source": [
    "# Exercícios Revisão\n",
    "\n",
    "## Exercício 1\n",
    "\n",
    "Considere a frase: `\"Programando em Python na FIA!!!\"`\n",
    "\n",
    "**a) Escreva um programa que realize a contagem das letras maiúsculas,  minúsculas e caracteres especiais.**\n",
    "\n",
    "Lembre-se dos métodos (funcionalidades) da string."
   ]
  },
  {
   "cell_type": "code",
   "execution_count": null,
   "metadata": {},
   "outputs": [],
   "source": [
    "texto = \"Programando em Python na FIA!!!\""
   ]
  },
  {
   "cell_type": "code",
   "execution_count": null,
   "metadata": {},
   "outputs": [],
   "source": [
    "res = {\n",
    "    \"maiuscula\": 0,\n",
    "    \"minuscula\": 0,\n",
    "    \"outros\": 0\n",
    "}\n",
    "for caracter in texto:\n",
    "    if caracter.isupper():\n",
    "        res[\"maiuscula\"] = res[\"maiuscula\"] + 1\n",
    "    elif caracter.islower():\n",
    "        res[\"minuscula\"] = res[\"minuscula\"] + 1\n",
    "    else:\n",
    "        res[\"outros\"] = res[\"outros\"] + 1\n",
    "        "
   ]
  },
  {
   "cell_type": "code",
   "execution_count": null,
   "metadata": {},
   "outputs": [],
   "source": [
    "print(res)"
   ]
  },
  {
   "cell_type": "markdown",
   "metadata": {},
   "source": [
    "**b) Realize a contagem de caracteres na mesma frase**"
   ]
  },
  {
   "cell_type": "code",
   "execution_count": null,
   "metadata": {},
   "outputs": [],
   "source": [
    "frase = 'Programando em Python na FIA!!!'"
   ]
  },
  {
   "cell_type": "code",
   "execution_count": null,
   "metadata": {},
   "outputs": [],
   "source": [
    "dic = {}\n",
    "for letra in frase:\n",
    "    if letra in dic.keys():\n",
    "        dic[letra] = dic[letra] + 1\n",
    "    else:\n",
    "        dic[letra] = 1\n",
    "print(dic)       "
   ]
  },
  {
   "cell_type": "markdown",
   "metadata": {},
   "source": [
    "## Exercício 2\n",
    "\n",
    "Escreva um programa para imprimir apenas o caracteres (a, e, i, o, u) da seguinte frase `\"Estou programando em Python\"`. \n",
    "\n",
    "É necessário tratar caso a letra seja maiúscula e minúscula. \n",
    "\n",
    "Utilize estruturas de repetição e controle."
   ]
  },
  {
   "cell_type": "code",
   "execution_count": null,
   "metadata": {},
   "outputs": [],
   "source": [
    "frase = \"Estou programando em Python\""
   ]
  },
  {
   "cell_type": "code",
   "execution_count": null,
   "metadata": {},
   "outputs": [],
   "source": [
    "frase2 = frase.lower()\n",
    "for c in frase2:\n",
    "    if c in 'aeiou':\n",
    "        print(c) # teste com o parâmetro end=' '"
   ]
  },
  {
   "cell_type": "markdown",
   "metadata": {},
   "source": [
    "## Exercício 3\n",
    "\n",
    "Escreva um programa em Python que irá somar todos os elementos numéricos da lista. \n",
    "Utilize a seguinte lista para resolver o exercício:"
   ]
  },
  {
   "cell_type": "code",
   "execution_count": null,
   "metadata": {},
   "outputs": [],
   "source": [
    "lista3 = [6, 1.5, 2, -8, 20, 1.23]"
   ]
  },
  {
   "cell_type": "code",
   "execution_count": null,
   "metadata": {},
   "outputs": [],
   "source": [
    "res = 0\n",
    "for item in lista3:\n",
    "    res = res + item\n",
    "print(res)"
   ]
  },
  {
   "cell_type": "code",
   "execution_count": null,
   "metadata": {},
   "outputs": [],
   "source": [
    "lista4 = [6, 1.5, 2, \"fia\", -8, 20, 1.23, [1,2]]"
   ]
  },
  {
   "cell_type": "code",
   "execution_count": null,
   "metadata": {},
   "outputs": [],
   "source": [
    "res = 0\n",
    "for item in lista4:\n",
    "    if isinstance(item, float) or isinstance(item, int):\n",
    "        res += item\n",
    "print(res)"
   ]
  },
  {
   "cell_type": "markdown",
   "metadata": {},
   "source": [
    "## Exercício 4\n",
    "\n",
    "Crie uma função com o nome maior_str que receba dois textos (strings) por parâmetro e retorne o texto que tiver maior tamanho.\n",
    "Teste a função com as seguintes situações:\n",
    "\n",
    "    maior_str('python', 'fia') -> Deve retornar python\n",
    "    maior_str('maria', 'ana') -> Deve retornar maria\n",
    "    maior_str('python', 'codigo') -> Deve retornar python e codigo tem o mesmo tamanho\n",
    "    maior_str('fia', 'ana') -> Deve retornar fia e ana tem o mesmo tamanho\n",
    "Não é necessário tratar outros tipos de dados (nesse momento).\n",
    "\n"
   ]
  },
  {
   "cell_type": "code",
   "execution_count": null,
   "metadata": {},
   "outputs": [],
   "source": [
    "def maior_str(txt1, txt2):\n",
    "    tam_1 = len(txt1)\n",
    "    tam_2 = len(txt2)\n",
    "    \n",
    "    if tam_1 > tam_2:\n",
    "        return txt1\n",
    "    elif tam_2 > tam_1:\n",
    "        return txt2\n",
    "    else:\n",
    "        return \"{} e {} têm o mesmo tamanho\".format(txt1, txt2)"
   ]
  },
  {
   "cell_type": "code",
   "execution_count": null,
   "metadata": {},
   "outputs": [],
   "source": [
    "maior_str('python', 'fia')"
   ]
  },
  {
   "cell_type": "code",
   "execution_count": null,
   "metadata": {},
   "outputs": [],
   "source": [
    "maior_str('maria', 'ana')"
   ]
  },
  {
   "cell_type": "code",
   "execution_count": null,
   "metadata": {},
   "outputs": [],
   "source": [
    "maior_str('python', 'codigo')"
   ]
  },
  {
   "cell_type": "code",
   "execution_count": null,
   "metadata": {},
   "outputs": [],
   "source": [
    "maior_str('fia', 'ana')"
   ]
  },
  {
   "cell_type": "code",
   "execution_count": null,
   "metadata": {},
   "outputs": [],
   "source": []
  }
 ],
 "metadata": {
  "kernelspec": {
   "display_name": "Python 3",
   "language": "python",
   "name": "python3"
  },
  "language_info": {
   "codemirror_mode": {
    "name": "ipython",
    "version": 3
   },
   "file_extension": ".py",
   "mimetype": "text/x-python",
   "name": "python",
   "nbconvert_exporter": "python",
   "pygments_lexer": "ipython3",
   "version": "3.7.2"
  }
 },
 "nbformat": 4,
 "nbformat_minor": 2
}
