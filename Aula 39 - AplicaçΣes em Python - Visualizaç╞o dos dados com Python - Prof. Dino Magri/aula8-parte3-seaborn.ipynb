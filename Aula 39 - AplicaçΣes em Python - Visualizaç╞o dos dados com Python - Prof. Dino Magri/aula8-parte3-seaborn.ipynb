{
 "cells": [
  {
   "cell_type": "markdown",
   "metadata": {},
   "source": [
    "# Seaborn"
   ]
  },
  {
   "cell_type": "code",
   "execution_count": null,
   "metadata": {},
   "outputs": [],
   "source": [
    "import seaborn as sns\n",
    "import matplotlib.pyplot as plt\n",
    "import pandas as pd"
   ]
  },
  {
   "cell_type": "code",
   "execution_count": null,
   "metadata": {},
   "outputs": [],
   "source": [
    "rest = pd.read_pickle('base_restaurante.pickle')"
   ]
  },
  {
   "cell_type": "code",
   "execution_count": null,
   "metadata": {},
   "outputs": [],
   "source": [
    "rest.head()"
   ]
  },
  {
   "cell_type": "markdown",
   "metadata": {},
   "source": [
    "Uma outra forma de explorar a distribuição de uma variável é trabalharmos com um gráfico de densidade.\n",
    "\n",
    "Por padrão, o método ```displot``` irá plotar um histograma bem como um gráfico de densidade.\n",
    "\n",
    "Um gráfico de densidade permite visualizar a distribuição de dados em um intervalo ou período de tempo contínuo. Este gráfico é uma variação de um histograma que usa a suavização de kernel para plotar os valores, permitindo visualizar as distribuições mais suaves quando existe o ruído.\n",
    "\n",
    "Os picos no gráfico de densidade ajudam a exibir onde os valores são concentrados no intervalo.\n",
    "\n",
    "Uma vantagem que os gráficos de densidade têm é que eles não são afetados pelo parâmetro ```bins``` que ocorre nos Histogramas. Um histograma composto por apenas 4 bins não produziria uma forma de distribuição suficientemente distinta, como faria um histograma de 20. No entanto, com o gráfico de densidade isso não é um problema."
   ]
  },
  {
   "cell_type": "code",
   "execution_count": null,
   "metadata": {},
   "outputs": [],
   "source": [
    "hist, ax = plt.subplots()\n",
    "# trocar bins para 4, 20\n",
    "ax = sns.distplot(rest['valor_conta'], kde=False, bins=4)\n",
    "ax.set_title('Histograma com o gráfico de densidade para o Valor total da conta')\n",
    "plt.show()"
   ]
  },
  {
   "cell_type": "markdown",
   "metadata": {},
   "source": [
    "As plotagens de densida são outra forma de visualizar uma distribuição univariada. Essencialmente, são criadas usando uma distribuição normal centralizada em cada ponto de dado, e então suavizando as plotagens que se sobrepõem de modo que a área sob a curva seja 1.\n",
    "\n",
    "Para plotar somente a plotagem de densidade, sem o histograma:"
   ]
  },
  {
   "cell_type": "code",
   "execution_count": null,
   "metadata": {},
   "outputs": [],
   "source": [
    "den, ax = plt.subplots()\n",
    "# trocar bins para 4, 20\n",
    "ax = sns.distplot(rest['valor_conta'], hist=False, bins=4)\n",
    "ax.set_title('Gráfico de densidade para o Valor total da conta')\n",
    "plt.show()"
   ]
  },
  {
   "cell_type": "markdown",
   "metadata": {},
   "source": [
    "Além disso, podemos utilizar os rugs plots (literalmente, plotagens de tapete) que podemos considerar que as marcas que aparecem nas bordas do gráfico, assemelham-se às franjas de um tapete.\n",
    "\n",
    "Podemos unificar a plotagem de histograma, densidade e tapete (rugs plots)."
   ]
  },
  {
   "cell_type": "code",
   "execution_count": null,
   "metadata": {},
   "outputs": [],
   "source": [
    "hist, ax = plt.subplots()\n",
    "# trocar bins para 4, 20\n",
    "ax = sns.distplot(rest['valor_conta'], rug=True, bins=20)\n",
    "ax.set_title('Histograma com o gráfico de densidade e Rug para o Valor total da conta')\n",
    "plt.show()"
   ]
  },
  {
   "cell_type": "markdown",
   "metadata": {},
   "source": [
    "Os gráficos de dispersão são ótimos para comparar duas variáveis.\n",
    "\n",
    "Porém, as vezes, há pontos demais para que um gráfico de dispersão seja significativo. Uma forma de contornar esse problema é reunir pontos no gráfico.\n",
    "\n",
    "Assim como os histogramas podem reunir dados de uma variável para criar uma barra, o hdexbin pode fazer o mesmo com duas variáveis.\n",
    "\n",
    "Um hexágono é usado com essa finalidade, pois é o formato mais eficiente para cobrir uma superfície 2D arbitrária.\n",
    "\n",
    "Utiliza-se o método joinplot para criar o hexbin."
   ]
  },
  {
   "cell_type": "code",
   "execution_count": null,
   "metadata": {},
   "outputs": [],
   "source": [
    "hexbin = sns.jointplot(x='valor_conta', y='valor_gorgeta', data=rest, kind='hex')\n",
    "hexbin.set_axis_labels(xlabel='Valor Conta', ylabel='Valor gorgeta')\n",
    "hexbin.fig.suptitle('Hexbin Joint Plot de Valor Conta e Valor da Gorgeta', fontsize=15, y=1);"
   ]
  },
  {
   "cell_type": "markdown",
   "metadata": {},
   "source": [
    "Podes utilizar a plotagem de barras (bar plots) para mostrar diversas variáveis. Por padrão, o barplot irá calcular uma média, mas é possível passar qualquer função para o parâmetro estimator."
   ]
  },
  {
   "cell_type": "code",
   "execution_count": null,
   "metadata": {},
   "outputs": [],
   "source": [
    "import numpy as np"
   ]
  },
  {
   "cell_type": "code",
   "execution_count": null,
   "metadata": {},
   "outputs": [],
   "source": [
    "bar, ax = plt.subplots()\n",
    "ax = sns.barplot(x='periodo', y='valor_conta', data=rest, estimator=np.mean)\n",
    "ax.set_title('Faturamente médio pelo período do dia')\n",
    "ax.set_xlabel('Período do Dia')\n",
    "ax.set_ylabel('Gorgeta')\n",
    "plt.show()"
   ]
  },
  {
   "cell_type": "code",
   "execution_count": null,
   "metadata": {},
   "outputs": [],
   "source": [
    "bar, ax = plt.subplots()\n",
    "ax = sns.boxplot(x='periodo', y='valor_conta', data=rest)\n",
    "ax.set_title('Boxplot do valor_conta pelo período do dia')\n",
    "ax.set_xlabel('Período do Dia')\n",
    "ax.set_ylabel('Valor Total')\n",
    "plt.show()"
   ]
  },
  {
   "cell_type": "markdown",
   "metadata": {},
   "source": [
    "Podemos utilizar diferentes maneiras para incluir mais informações no gráficos, utilizando cores, tamanho e formato para distinguir os dados na plotagem.\n",
    "\n",
    "Podemos utilizar as Facetas geram os subconjuntos e adicionam na figura de forma simples e rápida."
   ]
  },
  {
   "cell_type": "code",
   "execution_count": null,
   "metadata": {},
   "outputs": [],
   "source": [
    "faceta = sns.FacetGrid(rest, col='periodo')\n",
    "# para cada valor de tempo, plota um histograma do total da conta\n",
    "faceta.map(sns.distplot, 'valor_conta', rug=True)\n",
    "plt.show()"
   ]
  },
  {
   "cell_type": "code",
   "execution_count": null,
   "metadata": {},
   "outputs": [],
   "source": [
    "faceta = sns.FacetGrid(rest, col='dia', hue='sexo')\n",
    "# para cada valor de tempo, plota um histograma do total da conta\n",
    "facet = faceta.map(plt.scatter, 'valor_conta', 'valor_gorgeta')\n",
    "facet = faceta.add_legend()\n",
    "plt.show()"
   ]
  },
  {
   "cell_type": "code",
   "execution_count": null,
   "metadata": {},
   "outputs": [],
   "source": [
    "faceta = sns.FacetGrid(rest, col='periodo', row='fumante', hue='sexo')\n",
    "faceta.map(plt.scatter, 'valor_conta', 'valor_gorgeta')\n",
    "plt.show()"
   ]
  },
  {
   "cell_type": "markdown",
   "metadata": {},
   "source": [
    "Também podemos utilizar os objetos de plotagem do Matplotlib para adicionar novos gráficos"
   ]
  },
  {
   "cell_type": "code",
   "execution_count": null,
   "metadata": {},
   "outputs": [],
   "source": [
    "fig, ax = plt.subplots()\n",
    "ax = rest.plot.hexbin(x='valor_conta', y='valor_gorgeta', gridsize=10, ax=ax)\n",
    "plt.show()"
   ]
  },
  {
   "cell_type": "code",
   "execution_count": null,
   "metadata": {},
   "outputs": [],
   "source": []
  }
 ],
 "metadata": {
  "kernelspec": {
   "display_name": "Python 3",
   "language": "python",
   "name": "python3"
  },
  "language_info": {
   "codemirror_mode": {
    "name": "ipython",
    "version": 3
   },
   "file_extension": ".py",
   "mimetype": "text/x-python",
   "name": "python",
   "nbconvert_exporter": "python",
   "pygments_lexer": "ipython3",
   "version": "3.7.2"
  }
 },
 "nbformat": 4,
 "nbformat_minor": 2
}
