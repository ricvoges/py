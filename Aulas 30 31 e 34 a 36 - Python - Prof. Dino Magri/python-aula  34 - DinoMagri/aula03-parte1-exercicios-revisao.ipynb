{
 "cells": [
  {
   "cell_type": "markdown",
   "metadata": {},
   "source": [
    "# Exercícios Revisão\n",
    "\n",
    "## Exercício 1\n",
    "\n",
    "Considere a frase: `\"Programando em Python na FIA!!!\"`\n",
    "\n",
    "**a) Escreva um programa que realize a contagem das letras maiúsculas,  minúsculas e caracteres especiais.**\n",
    "\n",
    "Lembre-se dos métodos (funcionalidades) da string."
   ]
  },
  {
   "cell_type": "code",
   "execution_count": null,
   "metadata": {},
   "outputs": [],
   "source": [
    "texto = \"Programando em Python na FIA!!!\""
   ]
  },
  {
   "cell_type": "code",
   "execution_count": null,
   "metadata": {},
   "outputs": [],
   "source": [
    "# adicione seu código aqui"
   ]
  },
  {
   "cell_type": "code",
   "execution_count": null,
   "metadata": {},
   "outputs": [],
   "source": []
  },
  {
   "cell_type": "markdown",
   "metadata": {},
   "source": [
    "**b) Realize a contagem de caracteres na mesma frase**"
   ]
  },
  {
   "cell_type": "code",
   "execution_count": null,
   "metadata": {},
   "outputs": [],
   "source": [
    "frase = 'Programando em Python na FIA!!!'"
   ]
  },
  {
   "cell_type": "code",
   "execution_count": null,
   "metadata": {},
   "outputs": [],
   "source": [
    "# adicione seu código aqui"
   ]
  },
  {
   "cell_type": "markdown",
   "metadata": {},
   "source": [
    "## Exercício 2\n",
    "\n",
    "Escreva um programa para imprimir apenas o caracteres (a, e, i, o, u) da seguinte frase `\"Estou programando em Python\"`. \n",
    "\n",
    "É necessário tratar caso a letra seja maiúscula e minúscula. \n",
    "\n",
    "Utilize estruturas de repetição e controle."
   ]
  },
  {
   "cell_type": "code",
   "execution_count": null,
   "metadata": {},
   "outputs": [],
   "source": [
    "frase = \"Estou programando em Python\""
   ]
  },
  {
   "cell_type": "code",
   "execution_count": null,
   "metadata": {},
   "outputs": [],
   "source": [
    "# adicione seu código aqui"
   ]
  },
  {
   "cell_type": "markdown",
   "metadata": {},
   "source": [
    "## Exercício 3\n",
    "\n",
    "Escreva um programa em Python que irá somar todos os elementos numéricos da lista. \n",
    "Utilize a seguinte lista para resolver o exercício:"
   ]
  },
  {
   "cell_type": "code",
   "execution_count": null,
   "metadata": {},
   "outputs": [],
   "source": [
    "lista3 = [6, 1.5, 2, -8, 20, 1.23]"
   ]
  },
  {
   "cell_type": "code",
   "execution_count": null,
   "metadata": {},
   "outputs": [],
   "source": [
    "lista4 = [6, 1.5, 2, \"fia\", -8, 20, 1.23, [1,2]]"
   ]
  },
  {
   "cell_type": "code",
   "execution_count": null,
   "metadata": {},
   "outputs": [],
   "source": [
    "# adicione seu código aqui\n"
   ]
  },
  {
   "cell_type": "markdown",
   "metadata": {},
   "source": [
    "## Exercício 4\n",
    "\n",
    "Crie uma função com o nome maior_str que receba dois textos (strings) por parâmetro e retorne o texto que tiver maior tamanho.\n",
    "Teste a função com as seguintes situações:\n",
    "\n",
    "    maior_str('python', 'fia') -> Deve retornar python\n",
    "    maior_str('maria', 'ana') -> Deve retornar maria\n",
    "    maior_str('python', 'codigo') -> Deve retornar python e codigo tem o mesmo tamanho\n",
    "    maior_str('fia', 'ana') -> Deve retornar fia e ana tem o mesmo tamanho\n",
    "Não é necessário tratar outros tipos de dados (nesse momento).\n",
    "\n"
   ]
  },
  {
   "cell_type": "code",
   "execution_count": null,
   "metadata": {},
   "outputs": [],
   "source": [
    "def maior_str(txt1, txt2):\n",
    "    # adicione seu código aqui"
   ]
  },
  {
   "cell_type": "markdown",
   "metadata": {},
   "source": [
    "Teste a função criada com as seguintes chamadas:"
   ]
  },
  {
   "cell_type": "code",
   "execution_count": null,
   "metadata": {},
   "outputs": [],
   "source": [
    "maior_str('python', 'fia')"
   ]
  },
  {
   "cell_type": "code",
   "execution_count": null,
   "metadata": {},
   "outputs": [],
   "source": [
    "maior_str('maria', 'ana')"
   ]
  },
  {
   "cell_type": "code",
   "execution_count": null,
   "metadata": {},
   "outputs": [],
   "source": [
    "maior_str('python', 'codigo')"
   ]
  },
  {
   "cell_type": "code",
   "execution_count": null,
   "metadata": {},
   "outputs": [],
   "source": [
    "maior_str('fia', 'ana')"
   ]
  }
 ],
 "metadata": {
  "kernelspec": {
   "display_name": "Python 3",
   "language": "python",
   "name": "python3"
  },
  "language_info": {
   "codemirror_mode": {
    "name": "ipython",
    "version": 3
   },
   "file_extension": ".py",
   "mimetype": "text/x-python",
   "name": "python",
   "nbconvert_exporter": "python",
   "pygments_lexer": "ipython3",
   "version": "3.7.3"
  }
 },
 "nbformat": 4,
 "nbformat_minor": 2
}
