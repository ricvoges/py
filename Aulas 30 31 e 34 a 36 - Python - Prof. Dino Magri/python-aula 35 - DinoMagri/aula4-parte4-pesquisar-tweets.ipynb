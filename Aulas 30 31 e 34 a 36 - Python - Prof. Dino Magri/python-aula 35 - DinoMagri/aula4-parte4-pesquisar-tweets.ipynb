{
 "cells": [
  {
   "cell_type": "markdown",
   "metadata": {},
   "source": [
    "# Pesquisar por Tweets\n",
    "\n",
    "Na API Rest também podemos utilizar o método ```search``` para procurar por tweets que combinam com o termo definido.\n",
    "\n",
    "O método contém algumas opções como:\n",
    "\n",
    "    api.search(q, count, max_id, lang)\n",
    "    \n",
    "* ```q``` - é o parâmetro que terá o termo a ser pesquisado.\n",
    "* ```count``` - é a quantidade de tweets que serão retornados. O limite é 100 e o padrão é 15. \n",
    "* ```max_id``` - retorna apenas os tweets com o ID menor ou igual ao que foi especificado.\n",
    "* ```lang``` - restringe a busca por tweets de um determinado idioma.\n"
   ]
  },
  {
   "cell_type": "code",
   "execution_count": null,
   "metadata": {},
   "outputs": [],
   "source": [
    "import tweepy"
   ]
  },
  {
   "cell_type": "code",
   "execution_count": null,
   "metadata": {},
   "outputs": [],
   "source": [
    "# Adicione suas chaves aqui\n",
    "consumer_key = ''\n",
    "consumer_secret = ''\n",
    "access_token = ''\n",
    "access_token_secret = ''\n",
    "\n",
    "autorizar = tweepy.OAuthHandler(consumer_key, consumer_secret)\n",
    "autorizar.set_access_token(access_token, access_token_secret)"
   ]
  },
  {
   "cell_type": "code",
   "execution_count": null,
   "metadata": {},
   "outputs": [],
   "source": [
    "api = tweepy.API(autorizar)\n",
    "print(api)"
   ]
  },
  {
   "cell_type": "markdown",
   "metadata": {},
   "source": [
    "## Pesquisando ..."
   ]
  },
  {
   "cell_type": "code",
   "execution_count": null,
   "metadata": {},
   "outputs": [],
   "source": [
    "tweets = api.search(q=['Python'], lang='pt')\n",
    "#tweets = api.search(q=['Python', 'Big Data', 'FIA']) # Teste o parâmetro count=150, padrão é 15.\n",
    "\n",
    "for i, tweet in enumerate(tweets, start=1):\n",
    "    print(\"%d ---- %s\" % (i, tweet.text))"
   ]
  },
  {
   "cell_type": "markdown",
   "metadata": {},
   "source": [
    "## Recuperar 1000 tweets\n",
    "\n"
   ]
  },
  {
   "cell_type": "code",
   "execution_count": null,
   "metadata": {},
   "outputs": [],
   "source": [
    "tweets_salvos = []\n",
    "ultimo_id = -1\n",
    "qtde_tweets = 1000"
   ]
  },
  {
   "cell_type": "code",
   "execution_count": null,
   "metadata": {},
   "outputs": [],
   "source": [
    "while len(tweets_salvos) < qtde_tweets:\n",
    "    contador = qtde_tweets - len(tweets_salvos)\n",
    "    try:\n",
    "        novos_tweets = api.search(q='Python', count=contador, max_id=str(ultimo_id - 1), lang='pt')\n",
    "        if not novos_tweets:\n",
    "            print(\"Nenhum tweet para recuperar\")\n",
    "            break\n",
    "        tweets_salvos.extend(novos_tweets)\n",
    "        ultimo_id = novos_tweets[-1].id\n",
    "    \n",
    "    except tweepy.TweepError as e:\n",
    "        print(\"Erro:\", (e))\n",
    "        break"
   ]
  },
  {
   "cell_type": "code",
   "execution_count": null,
   "metadata": {},
   "outputs": [],
   "source": [
    "for i, tweet in enumerate(tweets_salvos, start=1):\n",
    "    print(\"{} ---- {} -> {}\".format(i, tweet.created_at, tweet.text))"
   ]
  },
  {
   "cell_type": "markdown",
   "metadata": {},
   "source": [
    "Os códigos do parâmetro `lang` deve seguir a **ISO 639-1** - https://en.wikipedia.org/wiki/List_of_ISO_639-1_codes\n",
    "\n",
    "Maiores informações: https://dev.twitter.com/rest/public/timelines"
   ]
  },
  {
   "cell_type": "markdown",
   "metadata": {},
   "source": [
    "### Escrevendo em arquivo\n",
    "\n",
    "Podemos salvar a saída capturada em arquivo."
   ]
  },
  {
   "cell_type": "code",
   "execution_count": null,
   "metadata": {},
   "outputs": [],
   "source": [
    "arq = open('saida.txt', 'a', encoding='utf-8')"
   ]
  },
  {
   "cell_type": "code",
   "execution_count": null,
   "metadata": {},
   "outputs": [],
   "source": [
    "for i, tweet in enumerate(tweets_salvos, start=1):\n",
    "    arq.write(\"{} - {}\\n\".format(i, tweet.text))"
   ]
  },
  {
   "cell_type": "code",
   "execution_count": null,
   "metadata": {},
   "outputs": [],
   "source": [
    "arq.close()"
   ]
  },
  {
   "cell_type": "markdown",
   "metadata": {},
   "source": [
    "### Imprimindo"
   ]
  },
  {
   "cell_type": "code",
   "execution_count": null,
   "metadata": {},
   "outputs": [],
   "source": [
    "arq = open('saida.txt', 'r', encoding='utf-8')\n",
    "dados = arq.read().splitlines()\n",
    "arq.close()"
   ]
  },
  {
   "cell_type": "code",
   "execution_count": null,
   "metadata": {},
   "outputs": [],
   "source": [
    "print(dados)"
   ]
  },
  {
   "cell_type": "code",
   "execution_count": null,
   "metadata": {},
   "outputs": [],
   "source": []
  }
 ],
 "metadata": {
  "kernelspec": {
   "display_name": "Python 3",
   "language": "python",
   "name": "python3"
  },
  "language_info": {
   "codemirror_mode": {
    "name": "ipython",
    "version": 3
   },
   "file_extension": ".py",
   "mimetype": "text/x-python",
   "name": "python",
   "nbconvert_exporter": "python",
   "pygments_lexer": "ipython3",
   "version": "3.7.2"
  }
 },
 "nbformat": 4,
 "nbformat_minor": 1
}
