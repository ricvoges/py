{
 "cells": [
  {
   "cell_type": "markdown",
   "metadata": {},
   "source": [
    "# Funções\n",
    "\n",
    "* Até agora, vimos diversos tipos de dados, atribuições, comparações e estruturas de controle.\n",
    "* A ideia da função é dividir para conquistar, onde:\n",
    "    * Um problema é dividido em diversos subproblemas\n",
    "    * As soluções dos subproblemas são combinadas numa solução do problema maior.\n",
    "* Esses subproblemas têm o nome de funções.\n",
    "\n",
    "\n",
    "* Uma função tem 3 partes importantes:\n",
    "```\n",
    "def <nome> ( <parametros> ):\n",
    "        <corpo da função>\n",
    "```\n",
    "\n",
    "* ```def``` é uma palavra chave\n",
    "* ```<nome>``` é qualquer nome aceito pelo Python\n",
    "* ```<parametros>``` é a quantidade de parâmetros que será passado para a função (pode ser nenhum).\n",
    "* ```<corpo da função>``` contém o código da função.\n",
    "\n",
    "Exemplo de função para calcular o máximo entre dois número:"
   ]
  },
  {
   "cell_type": "code",
   "execution_count": 27,
   "metadata": {},
   "outputs": [],
   "source": [
    "def maximo(x, y):\n",
    "    if x > y:\n",
    "        return x\n",
    "    else:\n",
    "        return y"
   ]
  },
  {
   "cell_type": "markdown",
   "metadata": {},
   "source": [
    "Utilizando a função:"
   ]
  },
  {
   "cell_type": "code",
   "execution_count": 28,
   "metadata": {},
   "outputs": [],
   "source": [
    "z = maximo(3, 4)"
   ]
  },
  {
   "cell_type": "code",
   "execution_count": 29,
   "metadata": {},
   "outputs": [
    {
     "name": "stdout",
     "output_type": "stream",
     "text": [
      "4\n"
     ]
    }
   ],
   "source": [
    "print(z)"
   ]
  },
  {
   "cell_type": "code",
   "execution_count": 30,
   "metadata": {},
   "outputs": [
    {
     "name": "stdout",
     "output_type": "stream",
     "text": [
      "O maximo é 30\n"
     ]
    }
   ],
   "source": [
    "print(\"O maximo é {}\".format(maximo(10,30)))"
   ]
  },
  {
   "cell_type": "code",
   "execution_count": 31,
   "metadata": {},
   "outputs": [
    {
     "name": "stdout",
     "output_type": "stream",
     "text": [
      "O maximo é 10\n"
     ]
    }
   ],
   "source": [
    "print(\"O maximo é {}\".format(maximo(10,5)))"
   ]
  },
  {
   "cell_type": "markdown",
   "metadata": {},
   "source": [
    "Os parâmetros são passados por posição ao não ser que explicitamente sejam definidos.\n",
    "\n",
    "Considere a seguinte função:\n"
   ]
  },
  {
   "cell_type": "code",
   "execution_count": 36,
   "metadata": {},
   "outputs": [],
   "source": [
    "seq1=[1,2,3,4,5]\n",
    "seq2=[7,8,9,10]\n",
    "def funcao1(seq1, seq2):\n",
    "    res = []\n",
    "    for x in seq1:\n",
    "        if x in seq2:\n",
    "            res.append(x)\n",
    "    return res"
   ]
  },
  {
   "cell_type": "code",
   "execution_count": null,
   "metadata": {},
   "outputs": [],
   "source": []
  },
  {
   "cell_type": "code",
   "execution_count": 37,
   "metadata": {},
   "outputs": [
    {
     "name": "stdout",
     "output_type": "stream",
     "text": [
      "<function funcao1 at 0x000002BCD294BD90>\n"
     ]
    }
   ],
   "source": [
    "print(funcao1)"
   ]
  },
  {
   "cell_type": "code",
   "execution_count": null,
   "metadata": {},
   "outputs": [],
   "source": []
  },
  {
   "cell_type": "code",
   "execution_count": null,
   "metadata": {},
   "outputs": [],
   "source": []
  },
  {
   "cell_type": "code",
   "execution_count": null,
   "metadata": {},
   "outputs": [],
   "source": []
  },
  {
   "cell_type": "code",
   "execution_count": null,
   "metadata": {},
   "outputs": [],
   "source": []
  },
  {
   "cell_type": "code",
   "execution_count": null,
   "metadata": {},
   "outputs": [],
   "source": []
  },
  {
   "cell_type": "code",
   "execution_count": null,
   "metadata": {},
   "outputs": [],
   "source": []
  },
  {
   "cell_type": "code",
   "execution_count": null,
   "metadata": {},
   "outputs": [],
   "source": []
  },
  {
   "cell_type": "markdown",
   "metadata": {},
   "source": [
    "É importante notar que uma variável que está dentro de uma função, não pode ser utilizada novamente enquanto a função não terminar de ser executada. \n",
    "\n",
    "No mundo da programação, isso é chamado de escopo. Vamos tentar imprimir o valor da variável ```res```."
   ]
  },
  {
   "cell_type": "code",
   "execution_count": null,
   "metadata": {},
   "outputs": [],
   "source": [
    "print(res)"
   ]
  },
  {
   "cell_type": "markdown",
   "metadata": {},
   "source": [
    "**<span style=\"color:blue;\">Por que isso aconteceu?</span>**\n",
    "\n",
    "Esse erro acontece pois a variável ```res``` somente existe dentro da ```funcao1```, ou seja, ela existe apenas no contexto **<span style=\"color:blue\">local</span>** dessa função.\n",
    "\n",
    "Quando uma variável é definida fora das funções (def), ela é **<span style=\"color:RED\">global</span>** para todo o arquivo."
   ]
  },
  {
   "cell_type": "markdown",
   "metadata": {},
   "source": [
    "Considere o seguinte cógido:"
   ]
  },
  {
   "cell_type": "code",
   "execution_count": null,
   "metadata": {},
   "outputs": [],
   "source": [
    "nome = \"Pedro\"\n",
    "idade = 30\n",
    "def funcao2():\n",
    "    res = []\n",
    "    X = 20\n"
   ]
  },
  {
   "cell_type": "markdown",
   "metadata": {},
   "source": [
    "**<span style=\"color:blue\">Quais dessas variáveis são locais e globais?</span>**\n",
    "\n",
    "**<span style=\"color:green\">RESPOSTA:</span>** Clique **duas vezes** nessa cédula e adicione a sua resposta aqui:\n",
    "\n"
   ]
  },
  {
   "cell_type": "markdown",
   "metadata": {},
   "source": [
    "### Argumentos\n",
    "\n",
    "Existem diversas maneiras de passar argumentos para uma função. Iremos estudar algumas delas:\n",
    "\n",
    "| Sintaxe                      | Descrição                                                                                |\n",
    "|------------------------------|------------------------------------------------------------------------------------------|\n",
    "|    def   func(nome)          |    Argumento   normal, corresponde a qualquer valor passado por posição ou nome.         |\n",
    "|    def   func(nome=valor)    |    Valor   padrão é pré-definido se não for passado na chamada.                          |\n",
    "|    def   func(*nome)         |    Corresponde   e coleta argumentos posicionais restantes em uma tupla.                 |\n",
    "|    def   func(**nome)        |    Corresponde   e coleta os argumentos de palavras-chave restantes em um dicionário.    |"
   ]
  },
  {
   "cell_type": "markdown",
   "metadata": {},
   "source": [
    "#### ```def func(nome)```"
   ]
  },
  {
   "cell_type": "code",
   "execution_count": 33,
   "metadata": {},
   "outputs": [],
   "source": [
    "def f(a, b, c):\n",
    "    print(a, b, c)"
   ]
  },
  {
   "cell_type": "code",
   "execution_count": null,
   "metadata": {},
   "outputs": [],
   "source": [
    "f(1, 2, 3)"
   ]
  },
  {
   "cell_type": "code",
   "execution_count": null,
   "metadata": {},
   "outputs": [],
   "source": [
    "f(c=1, a=3, b=2)"
   ]
  },
  {
   "cell_type": "code",
   "execution_count": null,
   "metadata": {},
   "outputs": [],
   "source": [
    "f(1, c=3, b=2)"
   ]
  },
  {
   "cell_type": "markdown",
   "metadata": {},
   "source": [
    "#### ```def func(nome-valor)```"
   ]
  },
  {
   "cell_type": "code",
   "execution_count": 3,
   "metadata": {},
   "outputs": [],
   "source": [
    "def f(a, b=2, c=3):\n",
    "    print(a, b, c)"
   ]
  },
  {
   "cell_type": "code",
   "execution_count": 4,
   "metadata": {},
   "outputs": [
    {
     "name": "stdout",
     "output_type": "stream",
     "text": [
      "1 2 3\n"
     ]
    }
   ],
   "source": [
    "f(1)"
   ]
  },
  {
   "cell_type": "code",
   "execution_count": 5,
   "metadata": {},
   "outputs": [
    {
     "name": "stdout",
     "output_type": "stream",
     "text": [
      "1 3 3\n"
     ]
    }
   ],
   "source": [
    "f(1, 3)"
   ]
  },
  {
   "cell_type": "code",
   "execution_count": 6,
   "metadata": {},
   "outputs": [
    {
     "name": "stdout",
     "output_type": "stream",
     "text": [
      "1 7 3\n"
     ]
    }
   ],
   "source": [
    "f(1, b=7)"
   ]
  },
  {
   "cell_type": "markdown",
   "metadata": {},
   "source": [
    "#### ```def func(*args)```"
   ]
  },
  {
   "cell_type": "code",
   "execution_count": 7,
   "metadata": {},
   "outputs": [],
   "source": [
    "def f(*args):\n",
    "    print(args)"
   ]
  },
  {
   "cell_type": "code",
   "execution_count": 8,
   "metadata": {},
   "outputs": [
    {
     "name": "stdout",
     "output_type": "stream",
     "text": [
      "()\n"
     ]
    }
   ],
   "source": [
    "f()"
   ]
  },
  {
   "cell_type": "code",
   "execution_count": 9,
   "metadata": {},
   "outputs": [
    {
     "name": "stdout",
     "output_type": "stream",
     "text": [
      "(1,)\n"
     ]
    }
   ],
   "source": [
    "f(1)"
   ]
  },
  {
   "cell_type": "code",
   "execution_count": 34,
   "metadata": {},
   "outputs": [
    {
     "name": "stdout",
     "output_type": "stream",
     "text": [
      "Maria 30 1.65\n"
     ]
    }
   ],
   "source": [
    "f('Maria', 30, 1.65)"
   ]
  },
  {
   "cell_type": "markdown",
   "metadata": {},
   "source": [
    "#### ```def func(**args)```"
   ]
  },
  {
   "cell_type": "code",
   "execution_count": 11,
   "metadata": {},
   "outputs": [],
   "source": [
    "def f(**args):\n",
    "    print(args)"
   ]
  },
  {
   "cell_type": "code",
   "execution_count": 12,
   "metadata": {},
   "outputs": [
    {
     "name": "stdout",
     "output_type": "stream",
     "text": [
      "{}\n"
     ]
    }
   ],
   "source": [
    "f()"
   ]
  },
  {
   "cell_type": "code",
   "execution_count": 13,
   "metadata": {},
   "outputs": [
    {
     "name": "stdout",
     "output_type": "stream",
     "text": [
      "{'a': 1, 'b': 2}\n"
     ]
    }
   ],
   "source": [
    "f(a=1, b=2)"
   ]
  },
  {
   "cell_type": "code",
   "execution_count": 14,
   "metadata": {},
   "outputs": [
    {
     "name": "stdout",
     "output_type": "stream",
     "text": [
      "{'nome': 'Maria', 'idade': 30, 'altura': 1.65}\n"
     ]
    }
   ],
   "source": [
    "f(nome='Maria', idade=30, altura=1.65)"
   ]
  },
  {
   "cell_type": "markdown",
   "metadata": {},
   "source": [
    "### Exercícios"
   ]
  },
  {
   "cell_type": "markdown",
   "metadata": {},
   "source": [
    "#### Exercício 1\n",
    "\n",
    "Para cada item abaixo, crie uma função que receba como parâmetro uma lista de números e:\n",
    "\n",
    "* a) Retorne o maior elemento\n",
    "* b) Retorne a soma dos elementos\n",
    "* c) Retorne a média dos elementos\n",
    "* d) Retorne a soma dos elementos com valor negativo\n",
    "\n",
    "Teste com as seguintes listas:"
   ]
  },
  {
   "cell_type": "code",
   "execution_count": 15,
   "metadata": {},
   "outputs": [],
   "source": [
    "lista1 = [-1, 2, 0.0, 1, -2, 30, 40, -1]"
   ]
  },
  {
   "cell_type": "code",
   "execution_count": 16,
   "metadata": {},
   "outputs": [],
   "source": [
    "lista2 = [-1, -1, -2, -3, -4, 5, 4, 3, 1, 10]"
   ]
  },
  {
   "cell_type": "code",
   "execution_count": 18,
   "metadata": {},
   "outputs": [],
   "source": [
    "# a) Retorne o maior elemento\n",
    "def maior_elemento(lista1):\n",
    "    maior = []\n",
    "    #for n in lista1:\n",
    "        print(lista1)"
   ]
  },
  {
   "cell_type": "code",
   "execution_count": 19,
   "metadata": {},
   "outputs": [
    {
     "name": "stdout",
     "output_type": "stream",
     "text": [
      "[-1, 2, 0.0, 1, -2, 30, 40, -1]\n"
     ]
    }
   ],
   "source": [
    "# Teste a função. Resultado esperado: 40\n",
    "maior_elemento(lista1)"
   ]
  },
  {
   "cell_type": "code",
   "execution_count": null,
   "metadata": {},
   "outputs": [],
   "source": [
    "# Teste a função. Resultado esperado: 10\n",
    "maior_elemento(lista2)"
   ]
  },
  {
   "cell_type": "code",
   "execution_count": null,
   "metadata": {},
   "outputs": [],
   "source": [
    "# b) Retorne a soma dos elementos\n",
    "def soma(lista):\n",
    "    # Digite seu codigo aqui"
   ]
  },
  {
   "cell_type": "code",
   "execution_count": null,
   "metadata": {},
   "outputs": [],
   "source": [
    "# Teste a função. Resultado esperado: 69.0 \n",
    "soma(lista1)"
   ]
  },
  {
   "cell_type": "code",
   "execution_count": null,
   "metadata": {},
   "outputs": [],
   "source": [
    "# Teste a função. Resultado esperado: 12\n",
    "soma(lista2)"
   ]
  },
  {
   "cell_type": "code",
   "execution_count": null,
   "metadata": {},
   "outputs": [],
   "source": [
    "# c) Retorne a média dos elementos\n",
    "def media(lista):\n",
    "    # Digite seu codigo aqui"
   ]
  },
  {
   "cell_type": "code",
   "execution_count": null,
   "metadata": {},
   "outputs": [],
   "source": [
    "# Teste a função. Resultado esperado: 8.625\n",
    "media(lista1)"
   ]
  },
  {
   "cell_type": "code",
   "execution_count": null,
   "metadata": {},
   "outputs": [],
   "source": [
    "# Teste a função. Resultado esperado: 1.2\n",
    "media(lista2)"
   ]
  },
  {
   "cell_type": "code",
   "execution_count": null,
   "metadata": {},
   "outputs": [],
   "source": [
    "# d) Retorne a soma dos elementos com valor negativo\n",
    "def soma_negativos(lista):\n",
    "    # Digite seu codigo aqui"
   ]
  },
  {
   "cell_type": "code",
   "execution_count": null,
   "metadata": {},
   "outputs": [],
   "source": [
    "# Teste a função. Resultado esperado: -4\n",
    "soma_negativos(lista1)"
   ]
  },
  {
   "cell_type": "code",
   "execution_count": null,
   "metadata": {},
   "outputs": [],
   "source": [
    "# Teste a função. Resultado esperado: -11\n",
    "soma_negativos(lista2)"
   ]
  },
  {
   "cell_type": "markdown",
   "metadata": {},
   "source": [
    "#### Exercício 2\n",
    "\n",
    "Faça uma função que receba duas listas e retorna True se são iguais ou False caso contrário.\n",
    "\n",
    "Obs: Duas listas são iguais se ambas possuem os mesmos valores e na mesma ordem"
   ]
  },
  {
   "cell_type": "code",
   "execution_count": null,
   "metadata": {},
   "outputs": [],
   "source": [
    "lista3 = [1, 2, 3, 4]\n",
    "lista4 = [4, 3, 2, 1]\n",
    "lista5 = [1, 2, 3, 4]"
   ]
  },
  {
   "cell_type": "code",
   "execution_count": null,
   "metadata": {},
   "outputs": [],
   "source": [
    "def verificar_igualdade(lst1, lst2):\n",
    "    # Digite seu codigo aqui"
   ]
  },
  {
   "cell_type": "code",
   "execution_count": null,
   "metadata": {},
   "outputs": [],
   "source": [
    "# Teste com a lista3 e lista4. Resultado esperado: False\n",
    "verificar_igualdade(lista3, lista4)"
   ]
  },
  {
   "cell_type": "code",
   "execution_count": null,
   "metadata": {},
   "outputs": [],
   "source": [
    "# Teste com a lista3 e lista5. Resultado esperado: True\n",
    "verificar_igualdade(lista3, lista5)"
   ]
  },
  {
   "cell_type": "code",
   "execution_count": null,
   "metadata": {},
   "outputs": [],
   "source": [
    "# Teste com a lista1 e lista2. Resultado esperado: False\n",
    "verificar_igualdade(lista1, lista2)"
   ]
  },
  {
   "cell_type": "markdown",
   "metadata": {
    "collapsed": true
   },
   "source": [
    "#### Exercício 3\n",
    "\n",
    "Faça uma função que receba uma lista de números armazenados de forma crescente, e dois valores (limite inferior e limite superior) e exiba a sua sublista cujos elementos são maiores ou iguais ao limite inferior e menores ou iguais ao limite superior.\n",
    "\n",
    "Regras:\n",
    "\n",
    "    1) Caso a lista passada não esteja de forma cresce a mesma deve ser ordenada.\n",
    "    2) Limite inferior é obrigatório\n",
    "    3) Limite superior é opcional, sendo 30 o valor padrão.\n",
    "    \n",
    "Utilize as listas abaixo para testar seu código:"
   ]
  },
  {
   "cell_type": "code",
   "execution_count": null,
   "metadata": {},
   "outputs": [],
   "source": [
    "lst_ini_1 = [12, 15, 18, 20, 21, 22, 24, 32, 33, 42, 50]\n",
    "lst_ini_2 = [40, 30, 25, 1, 2, 22, 24, 32, 33, 42, 43]"
   ]
  },
  {
   "cell_type": "code",
   "execution_count": null,
   "metadata": {},
   "outputs": [],
   "source": [
    "def sub_listas(lst_ini, limite_inf, limite_sup=30):\n",
    "    # Digite seu codigo aqui"
   ]
  },
  {
   "cell_type": "code",
   "execution_count": null,
   "metadata": {},
   "outputs": [],
   "source": [
    "# Teste com limite_inf = 14 para ambas as listas.\n",
    "# Resultado esperado: [15, 18, 20, 21, 22, 24]\n",
    "sub_listas(lst_ini_1, 14)"
   ]
  },
  {
   "cell_type": "code",
   "execution_count": null,
   "metadata": {},
   "outputs": [],
   "source": [
    "# Resultado esperado: [22, 24, 25, 30]\n",
    "sub_listas(lst_ini_2, 14)"
   ]
  },
  {
   "cell_type": "code",
   "execution_count": null,
   "metadata": {},
   "outputs": [],
   "source": [
    "# Teste com limite_inf = 14 e limite_sup = 43 para ambas as listas\n",
    "# Resultado esperado: [15, 18, 20, 21, 22, 24, 32, 33, 42]\n",
    "sub_listas(lst_ini_1, 14, 43)"
   ]
  },
  {
   "cell_type": "code",
   "execution_count": null,
   "metadata": {},
   "outputs": [],
   "source": [
    "# Resultado esperado: [22, 24, 25, 30, 32, 33, 40, 42, 43]\n",
    "sub_listas(lst_ini_2, 14, 43)"
   ]
  },
  {
   "cell_type": "code",
   "execution_count": null,
   "metadata": {},
   "outputs": [],
   "source": [
    "# Teste com limite_inf = 42 e limite_sup = 50 para ambas as listas\n",
    "# Resultado esperado: [42, 50]\n",
    "sub_listas(lst_ini_1, 42, 50)"
   ]
  },
  {
   "cell_type": "code",
   "execution_count": null,
   "metadata": {},
   "outputs": [],
   "source": [
    "# Resultado esperado: [42, 43]\n",
    "sub_listas(lst_ini_2, 42, 50)"
   ]
  },
  {
   "cell_type": "code",
   "execution_count": null,
   "metadata": {},
   "outputs": [],
   "source": []
  }
 ],
 "metadata": {
  "kernelspec": {
   "display_name": "Python 3",
   "language": "python",
   "name": "python3"
  },
  "language_info": {
   "codemirror_mode": {
    "name": "ipython",
    "version": 3
   },
   "file_extension": ".py",
   "mimetype": "text/x-python",
   "name": "python",
   "nbconvert_exporter": "python",
   "pygments_lexer": "ipython3",
   "version": "3.7.3"
  }
 },
 "nbformat": 4,
 "nbformat_minor": 1
}
