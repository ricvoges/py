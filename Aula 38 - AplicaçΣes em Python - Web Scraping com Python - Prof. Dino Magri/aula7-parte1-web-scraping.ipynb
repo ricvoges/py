{
 "cells": [
  {
   "cell_type": "markdown",
   "metadata": {},
   "source": [
    "# Parte 1 - Web Scraping\n",
    "\n",
    "Para realizar o download de páginas web iremos utilizar um módulo que já foi visto nas aulas anteriores."
   ]
  },
  {
   "cell_type": "code",
   "execution_count": null,
   "metadata": {},
   "outputs": [],
   "source": [
    "import requests"
   ]
  },
  {
   "cell_type": "code",
   "execution_count": null,
   "metadata": {},
   "outputs": [],
   "source": [
    "req = requests.get(\"http://www.python.org\")"
   ]
  },
  {
   "cell_type": "code",
   "execution_count": null,
   "metadata": {},
   "outputs": [],
   "source": [
    "print(req.text)"
   ]
  },
  {
   "cell_type": "markdown",
   "metadata": {},
   "source": [
    "Iremos criar uma função que irá realizar o download de uma página web e iremos retornar o HTML.\n",
    "\n",
    "Quais problemas podemos ter?\n",
    "- ```HTTP Error```\n",
    "- ```Connection error```\n",
    "- Caso aconteça algum erro, podemos tentar novamente (número de tentativas)"
   ]
  },
  {
   "cell_type": "code",
   "execution_count": null,
   "metadata": {},
   "outputs": [],
   "source": [
    "from requests.exceptions import ConnectionError"
   ]
  },
  {
   "cell_type": "code",
   "execution_count": null,
   "metadata": {},
   "outputs": [],
   "source": [
    "def download_html(url, numero_tentativas=2):\n",
    "    print(\"Realizando o download da página:\", url)\n",
    "    try:\n",
    "        req = requests.get(url)\n",
    "        if req.status_code != 200:\n",
    "            if numero_tentativas > 0:\n",
    "                print(\"Não foi possível realizar o download. Erro:\", req.status_code)\n",
    "                print(\"\\nRealizando nova tentativa:\")\n",
    "                return download_html(url, numero_tentativas - 1)\n",
    "            else:\n",
    "                print(\"Número de tentativas excedidas. Erro: {}\".format(req.status_code))\n",
    "                html = None\n",
    "                return html\n",
    "        html = req.text\n",
    "        return html\n",
    "    except ConnectionError as e:\n",
    "        print(\"Erro no download:\", e)\n",
    "        html = None"
   ]
  },
  {
   "cell_type": "markdown",
   "metadata": {},
   "source": [
    "Testando nosso código"
   ]
  },
  {
   "cell_type": "code",
   "execution_count": null,
   "metadata": {},
   "outputs": [],
   "source": [
    "retorno = download_html('http://pythonscraping.com/pages/page1.html', 2)"
   ]
  },
  {
   "cell_type": "code",
   "execution_count": null,
   "metadata": {},
   "outputs": [],
   "source": [
    "print(retorno)"
   ]
  },
  {
   "cell_type": "code",
   "execution_count": null,
   "metadata": {},
   "outputs": [],
   "source": [
    "retorno = download_html('http://pythonsxxxcraping.com/pages/page1.html', 2)"
   ]
  },
  {
   "cell_type": "code",
   "execution_count": null,
   "metadata": {},
   "outputs": [],
   "source": [
    "retorno = download_html('http://pythonscraping.com/pages/page2221.html', 2)"
   ]
  },
  {
   "cell_type": "code",
   "execution_count": null,
   "metadata": {},
   "outputs": [],
   "source": []
  }
 ],
 "metadata": {
  "kernelspec": {
   "display_name": "Python 3",
   "language": "python",
   "name": "python3"
  },
  "language_info": {
   "codemirror_mode": {
    "name": "ipython",
    "version": 3
   },
   "file_extension": ".py",
   "mimetype": "text/x-python",
   "name": "python",
   "nbconvert_exporter": "python",
   "pygments_lexer": "ipython3",
   "version": "3.7.2"
  }
 },
 "nbformat": 4,
 "nbformat_minor": 2
}
