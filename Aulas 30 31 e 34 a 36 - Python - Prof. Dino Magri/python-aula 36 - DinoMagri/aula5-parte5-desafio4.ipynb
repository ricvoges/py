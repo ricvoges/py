{
 "cells": [
  {
   "cell_type": "markdown",
   "metadata": {},
   "source": [
    "# Desafio 4\n",
    "\n",
    "## 1. Introdução ao Pandas \n",
    "\n",
    "Já visto nas aulas anteriores.\n",
    "\n",
    "## 2. Carregar o arquivo JSON\n"
   ]
  },
  {
   "cell_type": "code",
   "execution_count": null,
   "metadata": {},
   "outputs": [],
   "source": [
    "import json\n",
    "import pandas as pd"
   ]
  },
  {
   "cell_type": "code",
   "execution_count": null,
   "metadata": {},
   "outputs": [],
   "source": [
    "dados = []\n",
    "with open('tweets_5min.json') as arquivo:\n",
    "    for linha in arquivo:\n",
    "        dados.append(json.loads(linha))"
   ]
  },
  {
   "cell_type": "code",
   "execution_count": null,
   "metadata": {},
   "outputs": [],
   "source": [
    "dados[0]"
   ]
  },
  {
   "cell_type": "code",
   "execution_count": null,
   "metadata": {},
   "outputs": [],
   "source": [
    "df = pd.DataFrame(dados)"
   ]
  },
  {
   "cell_type": "code",
   "execution_count": null,
   "metadata": {},
   "outputs": [],
   "source": [
    "print(df.columns)"
   ]
  },
  {
   "cell_type": "code",
   "execution_count": null,
   "metadata": {},
   "outputs": [],
   "source": [
    "df.head()"
   ]
  },
  {
   "cell_type": "code",
   "execution_count": null,
   "metadata": {},
   "outputs": [],
   "source": [
    "print(len(df))"
   ]
  },
  {
   "cell_type": "markdown",
   "metadata": {},
   "source": [
    "## 3. Definir o que iremos salvar!\n",
    "\n",
    "Vamos salvar:\n",
    "\n",
    "* text\n",
    "* created_at\n",
    "* coordinates\n",
    "* retweet_count\n",
    "* user -> screen_name\n",
    "* user -> location\n",
    "* user -> lang\n",
    "* user -> followers_count\n",
    "\n"
   ]
  },
  {
   "cell_type": "code",
   "execution_count": null,
   "metadata": {},
   "outputs": [],
   "source": [
    "print(\"--> Dados do tweet\")\n",
    "print(df['text'][0])\n",
    "print(df['created_at'][0])\n",
    "print(df['coordinates'][0])\n",
    "print(df['retweet_count'][0])\n",
    "\n",
    "print(\"\\n--> Dados do usuário\")\n",
    "print(df['user'][0]['screen_name'])\n",
    "print(df['user'][0]['location'])\n",
    "print(df['user'][0]['lang'])\n",
    "print(df['user'][0]['followers_count'])\n"
   ]
  },
  {
   "cell_type": "markdown",
   "metadata": {},
   "source": [
    "Agora vamos criar uma lista chamada colunas para salvar os nomes das colunas que queremos ter em nosso DataFrame."
   ]
  },
  {
   "cell_type": "code",
   "execution_count": null,
   "metadata": {},
   "outputs": [],
   "source": [
    "colunas = ['text', 'created_at', 'coordinates', 'retweet_count', 'screen_name', \n",
    "           'location', 'lang', 'followers_count']"
   ]
  },
  {
   "cell_type": "code",
   "execution_count": null,
   "metadata": {},
   "outputs": [],
   "source": [
    "print(len(colunas))"
   ]
  },
  {
   "cell_type": "markdown",
   "metadata": {},
   "source": [
    "Vamos criar um dataframe auxiliar para salvar somente os dados que queremos."
   ]
  },
  {
   "cell_type": "code",
   "execution_count": null,
   "metadata": {},
   "outputs": [],
   "source": [
    "df_aux = pd.DataFrame(columns=colunas)\n",
    "df_aux"
   ]
  },
  {
   "cell_type": "markdown",
   "metadata": {},
   "source": [
    "Agora iremos adicionar apenas uma linha para entender como essa estrutura funciona.\n",
    "\n",
    "Lembre-se que estamos recuperando informações do ```user```, sendo que os valores estão salvos em uma única coluna."
   ]
  },
  {
   "cell_type": "code",
   "execution_count": null,
   "metadata": {},
   "outputs": [],
   "source": [
    "dados = [df['text'][0],\n",
    "         df['created_at'][0],\n",
    "         df['coordinates'][0],\n",
    "         df['retweet_count'][0],\n",
    "         df['user'][0]['screen_name'],\n",
    "         df['user'][0]['location'],\n",
    "         df['user'][0]['lang'],\n",
    "         df['user'][0]['followers_count']\n",
    "        ]"
   ]
  },
  {
   "cell_type": "code",
   "execution_count": null,
   "metadata": {},
   "outputs": [],
   "source": [
    "series_aux = pd.Series(dados, index=colunas)\n",
    "df_aux = df_aux.append(series_aux, ignore_index=True)"
   ]
  },
  {
   "cell_type": "markdown",
   "metadata": {},
   "source": [
    "É importante notar que se a cedula acima for executada mais de uma vez, o append irá adicionar repetidos. Tome cuidado!"
   ]
  },
  {
   "cell_type": "code",
   "execution_count": null,
   "metadata": {},
   "outputs": [],
   "source": [
    "df_aux"
   ]
  },
  {
   "cell_type": "markdown",
   "metadata": {},
   "source": [
    "## 4. Preparar os dados para a visualização"
   ]
  },
  {
   "cell_type": "markdown",
   "metadata": {},
   "source": [
    "### Hashtags\n",
    "\n",
    "Agora iremos criar uma função que irá salvar as hashtags utilizadas no texto."
   ]
  },
  {
   "cell_type": "code",
   "execution_count": null,
   "metadata": {},
   "outputs": [],
   "source": [
    "palavras = df['text'][0]\n",
    "palavras.split()"
   ]
  },
  {
   "cell_type": "code",
   "execution_count": null,
   "metadata": {},
   "outputs": [],
   "source": [
    "for palavra in palavras.split():\n",
    "    if palavra.startswith('#'):\n",
    "        print(palavra)"
   ]
  },
  {
   "cell_type": "markdown",
   "metadata": {},
   "source": [
    "** Exercicio - Crie uma função que salvar as hashtags separadas por um espaço em branco. Exemplo:**\n",
    "\n",
    "**Entrada:** ```Estou #programando em #python```\n",
    "\n",
    "**Saida:** ```'#programando #python'```\n",
    "    "
   ]
  },
  {
   "cell_type": "code",
   "execution_count": null,
   "metadata": {},
   "outputs": [],
   "source": [
    "' '.join(['1', '2'])"
   ]
  },
  {
   "cell_type": "code",
   "execution_count": null,
   "metadata": {},
   "outputs": [],
   "source": [
    "def salvar_hashtags2(texto):\n",
    "    return ' '.join([x for x in texto.split() if x.startswith('#')])"
   ]
  },
  {
   "cell_type": "code",
   "execution_count": null,
   "metadata": {},
   "outputs": [],
   "source": [
    "salvar_hashtags2('RT @tonyojeda3: An Introduction to #MachineLearning with #Python https://t.co/TMrLLJNskx #DataScience #BigData')"
   ]
  },
  {
   "cell_type": "code",
   "execution_count": null,
   "metadata": {},
   "outputs": [],
   "source": [
    "def salvar_hashtags(texto):\n",
    "    palavras = texto.split()\n",
    "    aux = []\n",
    "    for palavra in palavras:\n",
    "        if palavra.startswith('#'):\n",
    "            aux.append(palavra)\n",
    "    converter = ' '.join(aux)\n",
    "    return converter"
   ]
  },
  {
   "cell_type": "code",
   "execution_count": null,
   "metadata": {},
   "outputs": [],
   "source": [
    "salvar_hashtags(df['text'][0])"
   ]
  },
  {
   "cell_type": "markdown",
   "metadata": {},
   "source": [
    "### Criar as novas colunas no DataFrame\n",
    "\n",
    "Vamos criar as 3 novas colunas em nosso DataFrame.\n",
    "\n"
   ]
  },
  {
   "cell_type": "code",
   "execution_count": null,
   "metadata": {},
   "outputs": [],
   "source": [
    "colunas = ['text', 'created_at', 'coordinates', 'retweet_count', \n",
    "           'screen_name', 'location', 'lang', 'followers_count', 'hastags']"
   ]
  },
  {
   "cell_type": "code",
   "execution_count": null,
   "metadata": {},
   "outputs": [],
   "source": [
    "df_aux = pd.DataFrame(columns=colunas)\n",
    "len(df_aux.columns)"
   ]
  },
  {
   "cell_type": "code",
   "execution_count": null,
   "metadata": {},
   "outputs": [],
   "source": [
    "df_aux"
   ]
  },
  {
   "cell_type": "markdown",
   "metadata": {},
   "source": [
    "Novamente vamos adicionar apenas um único item para verificar se está tudo correto."
   ]
  },
  {
   "cell_type": "code",
   "execution_count": null,
   "metadata": {},
   "outputs": [],
   "source": [
    "dados = [\n",
    "    df['text'][3],\n",
    "    df['created_at'][3],\n",
    "    df['coordinates'][3],\n",
    "    df['retweet_count'][3],\n",
    "    df['user'][3]['screen_name'],\n",
    "    df['user'][3]['location'],\n",
    "    df['user'][3]['lang'],\n",
    "    df['user'][3]['followers_count'],\n",
    "    salvar_hashtags(df['text'][3])\n",
    "    ]"
   ]
  },
  {
   "cell_type": "code",
   "execution_count": null,
   "metadata": {},
   "outputs": [],
   "source": [
    "dados"
   ]
  },
  {
   "cell_type": "code",
   "execution_count": null,
   "metadata": {},
   "outputs": [],
   "source": [
    "series_aux = pd.Series(dados, index=colunas)\n",
    "df_aux = df_aux.append(series_aux, ignore_index=True)"
   ]
  },
  {
   "cell_type": "code",
   "execution_count": null,
   "metadata": {},
   "outputs": [],
   "source": [
    "df_aux"
   ]
  },
  {
   "cell_type": "markdown",
   "metadata": {},
   "source": [
    "### Repetir esse processo para todos os tweets que foram salvos!\n",
    "\n",
    "Até agora só trabalhamos com uma única entrada de dados, que foi o primeiro twitter salvo no arquivo.\n",
    "\n",
    "Agora precisamos verificar quais informações são realmente importante e não podem ser vazias.\n",
    "\n",
    "Primeiro precisamos percorrer todo o conjunto de dados, linha a linha. Como podemos fazer isso?"
   ]
  },
  {
   "cell_type": "code",
   "execution_count": null,
   "metadata": {},
   "outputs": [],
   "source": [
    "df_aux = pd.DataFrame(columns=colunas)\n",
    "df_aux"
   ]
  },
  {
   "cell_type": "code",
   "execution_count": null,
   "metadata": {},
   "outputs": [],
   "source": [
    "print(len(df))"
   ]
  },
  {
   "cell_type": "code",
   "execution_count": null,
   "metadata": {},
   "outputs": [],
   "source": [
    "import time"
   ]
  },
  {
   "cell_type": "code",
   "execution_count": null,
   "metadata": {},
   "outputs": [],
   "source": [
    "t0 = time.time()\n",
    "for i in range(0, len(df)):\n",
    "    if df['user'][i]['location'] != None:\n",
    "        dados = [\n",
    "                df['text'][i],\n",
    "                df['created_at'][i],\n",
    "                df['coordinates'][i],\n",
    "                df['retweet_count'][i],\n",
    "                df['user'][i]['screen_name'],\n",
    "                df['user'][i]['location'],\n",
    "                df['user'][i]['lang'],\n",
    "                df['user'][i]['followers_count'],\n",
    "                salvar_hashtags(df['text'][i])\n",
    "        ]\n",
    "        print(i,end=\" \")\n",
    "        series = pd.Series(dados,index=colunas)\n",
    "        df_aux = df_aux.append(series, ignore_index=True)\n",
    "tf = time.time() - t0\n",
    "print(\"\\n\\nTempo total para o parse foi de {} minutos\".format(round(tf/60, 3)))"
   ]
  },
  {
   "cell_type": "code",
   "execution_count": null,
   "metadata": {},
   "outputs": [],
   "source": [
    "len(df_aux)"
   ]
  },
  {
   "cell_type": "code",
   "execution_count": null,
   "metadata": {},
   "outputs": [],
   "source": [
    "df_aux.head()"
   ]
  },
  {
   "cell_type": "markdown",
   "metadata": {},
   "source": [
    "## 5. Salvar os dados em CSV"
   ]
  },
  {
   "cell_type": "code",
   "execution_count": null,
   "metadata": {},
   "outputs": [],
   "source": [
    "print(df_aux.count())"
   ]
  },
  {
   "cell_type": "code",
   "execution_count": null,
   "metadata": {},
   "outputs": [],
   "source": [
    "df_aux.to_csv('tweets_5min.csv', sep=';', encoding='utf-8', index=False)"
   ]
  },
  {
   "cell_type": "code",
   "execution_count": null,
   "metadata": {},
   "outputs": [],
   "source": []
  }
 ],
 "metadata": {
  "kernelspec": {
   "display_name": "Python 3",
   "language": "python",
   "name": "python3"
  },
  "language_info": {
   "codemirror_mode": {
    "name": "ipython",
    "version": 3
   },
   "file_extension": ".py",
   "mimetype": "text/x-python",
   "name": "python",
   "nbconvert_exporter": "python",
   "pygments_lexer": "ipython3",
   "version": "3.7.2"
  }
 },
 "nbformat": 4,
 "nbformat_minor": 1
}
