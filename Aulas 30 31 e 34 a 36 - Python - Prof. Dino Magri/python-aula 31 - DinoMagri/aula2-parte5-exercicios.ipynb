{
 "cells": [
  {
   "cell_type": "markdown",
   "metadata": {},
   "source": [
    "# Exercícios\n",
    "\n",
    "## Exercício 1\n",
    "1 - Escreva uma função chamada carregar_arquivo, que lê o conteúdo do arquivo dados.txt. Esse arquivo contém uma palavra em cada linha. Para cada linha lida, deve-se adicionar a palavra em uma lista. Ao final do código deve-se retornar a lista criada contendo todas as palavras. Lembre-se de remover o ```\\n```."
   ]
  },
  {
   "cell_type": "code",
   "execution_count": null,
   "metadata": {},
   "outputs": [],
   "source": [
    "def carregar_arquivo(nome_arquivo):\n",
    "    #seu código aqui\n",
    "    "
   ]
  },
  {
   "cell_type": "code",
   "execution_count": null,
   "metadata": {},
   "outputs": [],
   "source": [
    "dados = carregar_arquivo('dados.txt')\n",
    "print(dados)\n",
    "# saida esperada\n",
    "# ['carro', 'navio', ... , 'big data', 'dinheiro', 'python'] "
   ]
  },
  {
   "cell_type": "markdown",
   "metadata": {},
   "source": [
    "## Exercício 2\n",
    "\n",
    "Crie uma função chamada remover_repetidos. Essa função deve receber uma lista como parâmetro. Deve-se remover todos as palavras repetidas. Utilize uma lista auxiliar para facilitar. Ao final retorne a lista."
   ]
  },
  {
   "cell_type": "code",
   "execution_count": null,
   "metadata": {},
   "outputs": [],
   "source": [
    "def remover_repetidos(dados):\n",
    "    # seu código aqui"
   ]
  },
  {
   "cell_type": "code",
   "execution_count": null,
   "metadata": {},
   "outputs": [],
   "source": [
    "dados_unicos = remover_repetidos(dados)\n",
    "print(dados_unicos)\n",
    "# Saida esperada\n",
    "# ['carro', 'navio', 'nuvem', 'big data', 'dinheiro', 'python', 'fia', 'programas', 'codigos', 'codigo']"
   ]
  },
  {
   "cell_type": "markdown",
   "metadata": {},
   "source": [
    "## Exercício 3\n",
    "\n",
    "Agora, crie uma função chamada ```verificar_repetidos```. Essa função irá receber duas lista como parâmetro. Uma com todas as palavras lidas do arquivo e outra sem as palavras repetidas. Verifique a quantidade de vezes que as palavras aparecem. Ao final imprima a lista de palavras e a quantidade de vezes de cada palavra.\n",
    "\n",
    "    def verificar_repetidos(dados, dados_unicos):\n",
    "\n",
    "Exemplo de saída:\n",
    "\n",
    "    carro – 10\n",
    "    fia - 8\n",
    "    big data - 5\n"
   ]
  },
  {
   "cell_type": "code",
   "execution_count": null,
   "metadata": {},
   "outputs": [],
   "source": [
    "def verificar_repetidos(dados, dados_unicos):\n",
    "    for item in dados_unicos:\n",
    "        print(\"{} - {}\".format(item, dados.count(item)))"
   ]
  },
  {
   "cell_type": "code",
   "execution_count": null,
   "metadata": {},
   "outputs": [],
   "source": [
    "verificar_repetidos(dados, dados_unicos)"
   ]
  },
  {
   "cell_type": "markdown",
   "metadata": {},
   "source": [
    "## Exercício 4\n",
    "\n",
    "Modifique a classe pessoa vista em aula:\n",
    "\n",
    "    a) Crie um método para calcular a idade em meses, chamado calcular_meses.\n",
    "    b) Instancie a classe com os seguintes argumentos\n",
    "        Nome: 'João Silva'\n",
    "        Idade: 42\n",
    "    c) Imprima a seguinte frase:\n",
    "        \"Y tem X meses de vida\", onde Y é o nome e X é o calculo da idade em meses.\n"
   ]
  },
  {
   "cell_type": "code",
   "execution_count": null,
   "metadata": {},
   "outputs": [],
   "source": [
    "# Resposta a)\n"
   ]
  },
  {
   "cell_type": "code",
   "execution_count": null,
   "metadata": {},
   "outputs": [],
   "source": [
    "# Resposta b)\n"
   ]
  },
  {
   "cell_type": "code",
   "execution_count": null,
   "metadata": {},
   "outputs": [],
   "source": [
    "# Resposta c)\n"
   ]
  },
  {
   "cell_type": "markdown",
   "metadata": {},
   "source": [
    "## Exercício 5\n",
    "\n",
    "Implemente a classe `Funcionário`\n",
    "\n",
    "<img src=\"exercicio5.png\" width=\"300\"/>\n",
    "\n",
    "Exemplo de Uso:\n",
    "\n",
    "    >>> pedro = Funcionario(\"Pedro\", 7000)\n",
    "    >>> pedro.aumentar_salario(10)\n",
    "    >>> pedro.salario\n",
    "    7700"
   ]
  },
  {
   "cell_type": "code",
   "execution_count": null,
   "metadata": {},
   "outputs": [],
   "source": [
    "class Funcionario:\n",
    "    # seu código aqui"
   ]
  },
  {
   "cell_type": "code",
   "execution_count": null,
   "metadata": {},
   "outputs": [],
   "source": [
    "pedro = Funcionario(\"Pedro\", 7000)"
   ]
  },
  {
   "cell_type": "code",
   "execution_count": null,
   "metadata": {},
   "outputs": [],
   "source": [
    "# Resultado esperado: 7000\n",
    "pedro.salario"
   ]
  },
  {
   "cell_type": "code",
   "execution_count": null,
   "metadata": {},
   "outputs": [],
   "source": [
    "# teste seu código\n",
    "pedro.aumentar_salario(10)"
   ]
  },
  {
   "cell_type": "code",
   "execution_count": null,
   "metadata": {},
   "outputs": [],
   "source": [
    "# Resultado esperado: 7700.0\n",
    "pedro.salario"
   ]
  },
  {
   "cell_type": "code",
   "execution_count": null,
   "metadata": {},
   "outputs": [],
   "source": [
    "pedro.aumentar_salario(-10)"
   ]
  },
  {
   "cell_type": "code",
   "execution_count": null,
   "metadata": {},
   "outputs": [],
   "source": [
    "# Resultado esperado: 6930.0\n",
    "pedro.salario"
   ]
  },
  {
   "cell_type": "markdown",
   "metadata": {},
   "source": [
    "## Exercício 6\n",
    "\n",
    "Implemente a classe Aluno. Regras:\n",
    "\n",
    "- Quando o método `estudar(qtde_horas)` for executado deve-se acresentar a `qtde_horas` no atributo `tempo_sem_dormir`)\n",
    "- Quando o método `dormir(qtde_horas)` for executado deve-se reduzir a `qtde_horas` do atributo `tempo_sem_dormir`)\n",
    "- Crie um código de teste da classe, criando um objeto da classe aluno e utilize os métodos estudar e dormir. Ao final dos testes, imprima a quantidade de horas que o aluno está sem dormir.\n",
    "\n",
    "<img src=\"exercicio5.png\" width=\"300\"/>"
   ]
  },
  {
   "cell_type": "code",
   "execution_count": null,
   "metadata": {},
   "outputs": [],
   "source": [
    "class Aluno:\n",
    "    # seu código aqui"
   ]
  },
  {
   "cell_type": "code",
   "execution_count": null,
   "metadata": {},
   "outputs": [],
   "source": [
    "mario = Aluno('Mario')"
   ]
  },
  {
   "cell_type": "code",
   "execution_count": null,
   "metadata": {},
   "outputs": [],
   "source": [
    "mario.estudar(10)"
   ]
  },
  {
   "cell_type": "code",
   "execution_count": null,
   "metadata": {},
   "outputs": [],
   "source": [
    "mario.estudar(14)"
   ]
  },
  {
   "cell_type": "code",
   "execution_count": null,
   "metadata": {},
   "outputs": [],
   "source": [
    "mario.estudar(30)"
   ]
  },
  {
   "cell_type": "code",
   "execution_count": null,
   "metadata": {},
   "outputs": [],
   "source": [
    "mario.dormir(5)"
   ]
  },
  {
   "cell_type": "code",
   "execution_count": null,
   "metadata": {},
   "outputs": [],
   "source": [
    "mario.dormir(7)"
   ]
  },
  {
   "cell_type": "code",
   "execution_count": null,
   "metadata": {},
   "outputs": [],
   "source": [
    "# Resultado esperado: Maria está 42 horas sem dormir.\n",
    "print(f\"{mario.nome} está {mario.tempo_sem_dormir} horas sem dormir\")"
   ]
  },
  {
   "cell_type": "code",
   "execution_count": null,
   "metadata": {},
   "outputs": [],
   "source": []
  }
 ],
 "metadata": {
  "kernelspec": {
   "display_name": "Python 3",
   "language": "python",
   "name": "python3"
  },
  "language_info": {
   "codemirror_mode": {
    "name": "ipython",
    "version": 3
   },
   "file_extension": ".py",
   "mimetype": "text/x-python",
   "name": "python",
   "nbconvert_exporter": "python",
   "pygments_lexer": "ipython3",
   "version": "3.7.2"
  }
 },
 "nbformat": 4,
 "nbformat_minor": 1
}
