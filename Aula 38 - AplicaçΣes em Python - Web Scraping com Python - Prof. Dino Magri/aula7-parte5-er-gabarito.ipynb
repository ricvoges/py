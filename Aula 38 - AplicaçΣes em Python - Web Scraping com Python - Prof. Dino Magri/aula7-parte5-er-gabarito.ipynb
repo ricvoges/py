{
 "cells": [
  {
   "cell_type": "markdown",
   "metadata": {},
   "source": [
    "# Parte 5 - Expressão regular\n",
    "\n",
    "Expressões regulares permitem encontrar padrões em texto.\n",
    "\n",
    "Aplicações:\n",
    "- Validação de entradas\n",
    "- Filtragem de resultados em consultas\n",
    "- Remoção de caracteres de texto\n",
    "- Entre outros.\n"
   ]
  },
  {
   "cell_type": "markdown",
   "metadata": {},
   "source": [
    "### ```search```\n",
    "\n",
    "- A função search procura pela primeira ocorrência da expressão regular dentro da string.\n",
    "- Essa funcionalidade irá procurar pelo padrão no texto, se encontrar retorna o objeto correspondente, se não encontrar retorna ```None```"
   ]
  },
  {
   "cell_type": "code",
   "execution_count": null,
   "metadata": {},
   "outputs": [],
   "source": [
    "import re"
   ]
  },
  {
   "cell_type": "code",
   "execution_count": null,
   "metadata": {},
   "outputs": [],
   "source": [
    "texto = 'Programando em python em 3 2 1!'"
   ]
  },
  {
   "cell_type": "code",
   "execution_count": null,
   "metadata": {},
   "outputs": [],
   "source": [
    "r = re.search('python', texto)"
   ]
  },
  {
   "cell_type": "code",
   "execution_count": null,
   "metadata": {},
   "outputs": [],
   "source": [
    "print(r)"
   ]
  },
  {
   "cell_type": "code",
   "execution_count": null,
   "metadata": {},
   "outputs": [],
   "source": [
    "print(r.group())"
   ]
  },
  {
   "cell_type": "markdown",
   "metadata": {},
   "source": [
    "Utilizando o conceito de grupos, podemos, por exemplo, recuperar o DDD separado do telefone."
   ]
  },
  {
   "cell_type": "code",
   "execution_count": null,
   "metadata": {},
   "outputs": [],
   "source": [
    "texto = 'Dino Magri - 11-999999999'"
   ]
  },
  {
   "cell_type": "code",
   "execution_count": null,
   "metadata": {},
   "outputs": [],
   "source": [
    "r = re.search('(\\d\\d)-(\\d{9})', texto)"
   ]
  },
  {
   "cell_type": "code",
   "execution_count": null,
   "metadata": {},
   "outputs": [],
   "source": [
    "print(r)"
   ]
  },
  {
   "cell_type": "code",
   "execution_count": null,
   "metadata": {},
   "outputs": [],
   "source": [
    "print(r.group())"
   ]
  },
  {
   "cell_type": "code",
   "execution_count": null,
   "metadata": {},
   "outputs": [],
   "source": [
    "print(r.group(1))"
   ]
  },
  {
   "cell_type": "code",
   "execution_count": null,
   "metadata": {},
   "outputs": [],
   "source": [
    "print(r.group(2))"
   ]
  },
  {
   "cell_type": "markdown",
   "metadata": {},
   "source": [
    "### ```findall```\n",
    "\n",
    "- Podemos utilizar o método findall para encontrar todas as ocorrências de um padrão em um texto.\n",
    "- O retorno será uma lista com todas as correspondências."
   ]
  },
  {
   "cell_type": "code",
   "execution_count": null,
   "metadata": {},
   "outputs": [],
   "source": [
    "dados = \"\"\"\n",
    "01/02/2019 – IPAD 5 – R$ 1287,99\n",
    "01/02/2019 – NOTE+ – R$ 987,56\n",
    "\"\"\""
   ]
  },
  {
   "cell_type": "code",
   "execution_count": null,
   "metadata": {},
   "outputs": [],
   "source": [
    "datas = re.findall('\\d\\d/\\d\\d/\\d{4}', dados)"
   ]
  },
  {
   "cell_type": "code",
   "execution_count": null,
   "metadata": {},
   "outputs": [],
   "source": [
    "print(datas)"
   ]
  },
  {
   "cell_type": "code",
   "execution_count": null,
   "metadata": {},
   "outputs": [],
   "source": [
    "print(dados)"
   ]
  },
  {
   "cell_type": "markdown",
   "metadata": {},
   "source": [
    "### ```sub``` \n",
    "- Também podemos utilizar o método sub para substituir o padrão encontrado por um valor específico.\n",
    "- Essa funcionalidade procura por todas as ocorrências de um padrão em um determinado texto e substitui.\n",
    "- Utilizando a variável dados criada anteriormente, substitua a virgula por ponto."
   ]
  },
  {
   "cell_type": "code",
   "execution_count": null,
   "metadata": {},
   "outputs": [],
   "source": [
    "import re"
   ]
  },
  {
   "cell_type": "code",
   "execution_count": null,
   "metadata": {},
   "outputs": [],
   "source": [
    "resultado = re.sub(',', '.', dados)"
   ]
  },
  {
   "cell_type": "code",
   "execution_count": null,
   "metadata": {},
   "outputs": [],
   "source": [
    "resultado = re.sub(',', '.', dados)"
   ]
  },
  {
   "cell_type": "code",
   "execution_count": null,
   "metadata": {},
   "outputs": [],
   "source": [
    "print(resultado)"
   ]
  },
  {
   "cell_type": "markdown",
   "metadata": {},
   "source": [
    "### Exercícios\n",
    "\n",
    "#### Exercício 1\n",
    "\n",
    "Utilizando o arquivo ```dados.txt``` e o conceito de expressão regular, recupere todas as datas que estão disponíveis no arquivo. Lembre-se de utilizar a função ```open``` para abrir o arquivo, ler o conteúdo e salvar em uma variável.\n",
    "\n",
    "**<span style=\"color:orange\">Resposta Esperada:</span>** 23"
   ]
  },
  {
   "cell_type": "code",
   "execution_count": null,
   "metadata": {},
   "outputs": [],
   "source": [
    "import re"
   ]
  },
  {
   "cell_type": "code",
   "execution_count": null,
   "metadata": {},
   "outputs": [],
   "source": [
    "arquivo = open('dados.txt')"
   ]
  },
  {
   "cell_type": "code",
   "execution_count": null,
   "metadata": {},
   "outputs": [],
   "source": [
    "dados = arquivo.read()"
   ]
  },
  {
   "cell_type": "code",
   "execution_count": null,
   "metadata": {},
   "outputs": [],
   "source": [
    "arquivo.close()"
   ]
  },
  {
   "cell_type": "code",
   "execution_count": null,
   "metadata": {},
   "outputs": [],
   "source": [
    "datas = re.findall('\\d\\d/\\d\\d\\/\\d{4}', dados)"
   ]
  },
  {
   "cell_type": "code",
   "execution_count": null,
   "metadata": {},
   "outputs": [],
   "source": [
    "print(len(datas))"
   ]
  },
  {
   "cell_type": "markdown",
   "metadata": {},
   "source": [
    "#### Exercício 2\n",
    "\n",
    "Utilizando o arquivo ```dados.txt``` e o conceito de expressão regular, recupere todos os valores disponíveis, inclusive negativos. Lembre-se de utilizar a função ```open``` para abrir o arquivo, ler o conteúdo e salvar em uma variável.\n",
    "\n",
    "Crie uma variável chamada ```resultado``` e salve todos os valores nessa variável."
   ]
  },
  {
   "cell_type": "code",
   "execution_count": null,
   "metadata": {},
   "outputs": [],
   "source": [
    "arquivo = open('dados.txt')\n",
    "dados = arquivo.read()\n",
    "arquivo.close()"
   ]
  },
  {
   "cell_type": "code",
   "execution_count": null,
   "metadata": {},
   "outputs": [],
   "source": [
    "resultado = re.findall('-?\\d+,\\d+', dados)"
   ]
  },
  {
   "cell_type": "code",
   "execution_count": null,
   "metadata": {},
   "outputs": [],
   "source": [
    "print(resultado)"
   ]
  },
  {
   "cell_type": "markdown",
   "metadata": {},
   "source": [
    "#### Exercício 3\n",
    "\n",
    "Utilizando a variável ```resultados``` e o conceito de expressão regular, substitua todos as virgulas para ponto. Por fim, recupere as seguintes estatísticas básicas:\n",
    "\n",
    "- Minimo\n",
    "- Média\n",
    "- Mediana\n",
    "- Moda\n",
    "- Máximo\n",
    "\n",
    "Lembre-se de converter possíveis tipos de dados."
   ]
  },
  {
   "cell_type": "code",
   "execution_count": null,
   "metadata": {},
   "outputs": [],
   "source": [
    "aux = []\n",
    "for item in resultado:\n",
    "    aux.append(float(re.sub(',', '.', item)))\n",
    "print(aux)"
   ]
  },
  {
   "cell_type": "code",
   "execution_count": null,
   "metadata": {},
   "outputs": [],
   "source": [
    "import statistics"
   ]
  },
  {
   "cell_type": "code",
   "execution_count": null,
   "metadata": {},
   "outputs": [],
   "source": [
    "print(\"Mínimo:\", min(aux))\n",
    "print(\"Média:\", statistics.mean(aux))\n",
    "print(\"Mediana:\", statistics.median(aux))\n",
    "print(\"Moda:\", statistics.mode(aux))\n",
    "print(\"Máximo:\", max(aux))"
   ]
  },
  {
   "cell_type": "code",
   "execution_count": null,
   "metadata": {},
   "outputs": [],
   "source": []
  }
 ],
 "metadata": {
  "kernelspec": {
   "display_name": "Python 3",
   "language": "python",
   "name": "python3"
  },
  "language_info": {
   "codemirror_mode": {
    "name": "ipython",
    "version": 3
   },
   "file_extension": ".py",
   "mimetype": "text/x-python",
   "name": "python",
   "nbconvert_exporter": "python",
   "pygments_lexer": "ipython3",
   "version": "3.7.2"
  }
 },
 "nbformat": 4,
 "nbformat_minor": 1
}
