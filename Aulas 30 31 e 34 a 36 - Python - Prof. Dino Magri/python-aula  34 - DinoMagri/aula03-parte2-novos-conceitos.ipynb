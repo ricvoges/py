{
 "cells": [
  {
   "cell_type": "markdown",
   "metadata": {},
   "source": [
    "# Novos Conceitos\n",
    "\n",
    "## Compreensão Lista\n",
    "\n",
    "As listas podem ser filtradas através de compreensão.\n",
    "\n",
    "A sintaxe básica é:\n",
    "\n",
    "```python\n",
    "[exprMap for elemento in listaOrigim if exprDeFiltragem]\n",
    "```\n",
    "\n",
    "- `ExprMap` – Expressão de mapeamento\n",
    "- `listaOrigi`m – Lista original\n",
    "- `exprDeFiltragem` – no caso de utilizar alguma pequena expressão de controle\n",
    "\n",
    "Considere o seguinte exemplo:\n",
    "\n",
    "    lista = [1, 2, 3, 4, 5]\n",
    "    \n",
    "Como podemos adicionar o valor 10 para cada item da minha lista?"
   ]
  },
  {
   "cell_type": "code",
   "execution_count": null,
   "metadata": {},
   "outputs": [],
   "source": [
    "lista = [1, 2, 3, 4, 5]\n",
    "for i in range(len(lista)):\n",
    "    lista[i] += 10\n",
    "print(lista)"
   ]
  },
  {
   "cell_type": "markdown",
   "metadata": {},
   "source": [
    "Utilizando o conceito de compreensão de lista, podemos reescrever o código da seguinte forma:"
   ]
  },
  {
   "cell_type": "code",
   "execution_count": null,
   "metadata": {},
   "outputs": [],
   "source": [
    "lista = [x + 10 for x in lista]\n",
    "print(lista)"
   ]
  },
  {
   "cell_type": "markdown",
   "metadata": {},
   "source": [
    "Considere a lista abaixo de nomes, como filtrar apenas os nomes que começam com o caractere `m` utilizando o conceito de compreensão de lista?"
   ]
  },
  {
   "cell_type": "code",
   "execution_count": null,
   "metadata": {},
   "outputs": [],
   "source": [
    "nomes = ['maria', 'pedro', 'marcos', 'paulo', 'joao']\n",
    "nomes_filtrados = [n for n in nomes if n.startswith('m')]\n",
    "print(nomes_filtrados)"
   ]
  },
  {
   "cell_type": "markdown",
   "metadata": {},
   "source": [
    "Também podemos utilizar esse conceito para outros tipos de dados não-escalar, como é o caso da string.\n",
    "\n",
    "Considere a variável nome, como podemos criar uma lista onde cada item dessa lista corresponde a um caractere da string? "
   ]
  },
  {
   "cell_type": "code",
   "execution_count": null,
   "metadata": {},
   "outputs": [],
   "source": [
    "nome = \"Maria\""
   ]
  },
  {
   "cell_type": "markdown",
   "metadata": {},
   "source": [
    "- Sem compressão de lista"
   ]
  },
  {
   "cell_type": "code",
   "execution_count": null,
   "metadata": {},
   "outputs": [],
   "source": [
    "caracteres = []\n",
    "for letra in nome:\n",
    "    caracteres.append(letra)\n",
    "print(caracteres)"
   ]
  },
  {
   "cell_type": "markdown",
   "metadata": {},
   "source": [
    "- Com compressão de lista"
   ]
  },
  {
   "cell_type": "code",
   "execution_count": null,
   "metadata": {},
   "outputs": [],
   "source": [
    "caracteres = [letra for letra in nome]\n",
    "print(caracteres)"
   ]
  },
  {
   "cell_type": "markdown",
   "metadata": {},
   "source": [
    "Também podemos utilizar laço aninhado, considere o seguinte código:"
   ]
  },
  {
   "cell_type": "code",
   "execution_count": null,
   "metadata": {},
   "outputs": [],
   "source": [
    "res = []\n",
    "texto1 = 'abc'\n",
    "texto2 = '12'"
   ]
  },
  {
   "cell_type": "code",
   "execution_count": null,
   "metadata": {},
   "outputs": [],
   "source": [
    "for i in texto1:\n",
    "    for j in texto2:\n",
    "        res.append(i + j)"
   ]
  },
  {
   "cell_type": "code",
   "execution_count": null,
   "metadata": {},
   "outputs": [],
   "source": [
    "print(res)"
   ]
  },
  {
   "cell_type": "markdown",
   "metadata": {},
   "source": [
    "Utilizando compreensão de listas:"
   ]
  },
  {
   "cell_type": "code",
   "execution_count": null,
   "metadata": {},
   "outputs": [],
   "source": [
    "res = [i + j for i in texto1 for j in texto2]"
   ]
  },
  {
   "cell_type": "code",
   "execution_count": null,
   "metadata": {},
   "outputs": [],
   "source": [
    "print(res)"
   ]
  },
  {
   "cell_type": "markdown",
   "metadata": {},
   "source": [
    "## Funções Anônimas\n",
    "\n",
    "- As expressões lambdas são funções que não precisam ser nomeadas, chamadas de funções anônimas.\n",
    "\n",
    "- As expressões lambdas são úteis quando usadas com as funções filter, map e reduce do Python.\n",
    "\n",
    "### `filter`\n",
    "\n",
    "Filter permite realizar a filtragem de elementos de uma estrutura não-escalar."
   ]
  },
  {
   "cell_type": "code",
   "execution_count": null,
   "metadata": {},
   "outputs": [],
   "source": [
    "nums = [2, 6, 8, 12]"
   ]
  },
  {
   "cell_type": "code",
   "execution_count": null,
   "metadata": {},
   "outputs": [],
   "source": [
    "res = filter(lambda x : x % 3 == 0, nums)"
   ]
  },
  {
   "cell_type": "code",
   "execution_count": null,
   "metadata": {},
   "outputs": [],
   "source": [
    "print(res)"
   ]
  },
  {
   "cell_type": "code",
   "execution_count": null,
   "metadata": {},
   "outputs": [],
   "source": [
    "print(list(res))"
   ]
  },
  {
   "cell_type": "markdown",
   "metadata": {},
   "source": [
    "É importante notar que por padrão a função `filter`, gera um objeto que permite a iteração sobre os elementos internos apenas uma vez, então caso execute novamente o comando list(res) será uma lista vazia, pois todos os dados já foram consumidos desse objeto."
   ]
  },
  {
   "cell_type": "code",
   "execution_count": null,
   "metadata": {},
   "outputs": [],
   "source": [
    "print(list(res))"
   ]
  },
  {
   "cell_type": "markdown",
   "metadata": {},
   "source": [
    "### `map`\n",
    "\n",
    "Map permite realizar o mapeamento dos elementos de um estrutura não-escalar para uma nova estrutura não-escalar aplicando uma função."
   ]
  },
  {
   "cell_type": "code",
   "execution_count": null,
   "metadata": {},
   "outputs": [],
   "source": [
    "nums = [2, 6, 8, 12]"
   ]
  },
  {
   "cell_type": "code",
   "execution_count": null,
   "metadata": {},
   "outputs": [],
   "source": [
    "res = map(lambda x : x * 2, nums)"
   ]
  },
  {
   "cell_type": "code",
   "execution_count": null,
   "metadata": {},
   "outputs": [],
   "source": [
    "print(res)"
   ]
  },
  {
   "cell_type": "code",
   "execution_count": null,
   "metadata": {},
   "outputs": [],
   "source": [
    "print(list(res))"
   ]
  },
  {
   "cell_type": "markdown",
   "metadata": {},
   "source": [
    "É importante notar que por padrão a função `map`, gera um objeto que permite a iteração sobre os elementos internos apenas uma vez, então caso execute novamente o comando list(res) será uma lista vazia, pois todos os dados já foram consumidos desse objeto."
   ]
  },
  {
   "cell_type": "code",
   "execution_count": null,
   "metadata": {},
   "outputs": [],
   "source": [
    "print(list(res))"
   ]
  },
  {
   "cell_type": "markdown",
   "metadata": {},
   "source": [
    "### `reduce`\n",
    "\n",
    "Reduce permite aplicar uma função em uma estrutura não-escalar para retornar uma valor único no final."
   ]
  },
  {
   "cell_type": "code",
   "execution_count": null,
   "metadata": {},
   "outputs": [],
   "source": [
    "import functools"
   ]
  },
  {
   "cell_type": "code",
   "execution_count": null,
   "metadata": {},
   "outputs": [],
   "source": [
    "nums = [2, 6, 8, 12]"
   ]
  },
  {
   "cell_type": "code",
   "execution_count": null,
   "metadata": {},
   "outputs": [],
   "source": [
    "res = functools.reduce(lambda x,y : x + y, nums)"
   ]
  },
  {
   "cell_type": "code",
   "execution_count": null,
   "metadata": {},
   "outputs": [],
   "source": [
    "print(res)"
   ]
  },
  {
   "cell_type": "code",
   "execution_count": null,
   "metadata": {},
   "outputs": [],
   "source": []
  }
 ],
 "metadata": {
  "kernelspec": {
   "display_name": "Python 3",
   "language": "python",
   "name": "python3"
  },
  "language_info": {
   "codemirror_mode": {
    "name": "ipython",
    "version": 3
   },
   "file_extension": ".py",
   "mimetype": "text/x-python",
   "name": "python",
   "nbconvert_exporter": "python",
   "pygments_lexer": "ipython3",
   "version": "3.7.2"
  }
 },
 "nbformat": 4,
 "nbformat_minor": 2
}
