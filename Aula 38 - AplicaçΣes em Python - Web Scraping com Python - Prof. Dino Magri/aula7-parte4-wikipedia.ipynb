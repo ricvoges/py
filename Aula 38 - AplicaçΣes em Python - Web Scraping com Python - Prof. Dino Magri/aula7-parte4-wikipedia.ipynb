{
 "cells": [
  {
   "cell_type": "markdown",
   "metadata": {},
   "source": [
    "# Parte 4 - Recuperar informações da Wikipedia"
   ]
  },
  {
   "cell_type": "code",
   "execution_count": null,
   "metadata": {},
   "outputs": [],
   "source": [
    "import requests"
   ]
  },
  {
   "cell_type": "code",
   "execution_count": null,
   "metadata": {},
   "outputs": [],
   "source": [
    "from requests.exceptions import ConnectionError"
   ]
  },
  {
   "cell_type": "code",
   "execution_count": null,
   "metadata": {},
   "outputs": [],
   "source": [
    "def download_html(url, numero_tentativas=2):\n",
    "    print(\"Realizando o download da página:\", url)\n",
    "    try:\n",
    "        req = requests.get(url)\n",
    "        if req.status_code != 200:\n",
    "            if numero_tentativas > 0:\n",
    "                print(\"Não foi possível realizar o download. Erro:\", req.status_code)\n",
    "                print(\"\\nRealizando nova tentativa:\")\n",
    "                return download_html(url, numero_tentativas - 1)\n",
    "            else:\n",
    "                print(\"Número de tentativas excedidas. Erro: {}\".format(req.status_code))\n",
    "                html = None\n",
    "                return html\n",
    "        html = req.text\n",
    "        return html\n",
    "    except ConnectionError as e:\n",
    "        print(\"Erro no download:\", e)\n",
    "        html = None"
   ]
  },
  {
   "cell_type": "code",
   "execution_count": null,
   "metadata": {},
   "outputs": [],
   "source": [
    "html = download_html(\"https://pt.wikipedia.org/wiki/Unidades_federativas_do_Brasil\")"
   ]
  },
  {
   "cell_type": "code",
   "execution_count": null,
   "metadata": {},
   "outputs": [],
   "source": [
    "from bs4 import BeautifulSoup"
   ]
  },
  {
   "cell_type": "code",
   "execution_count": null,
   "metadata": {},
   "outputs": [],
   "source": [
    "bs = BeautifulSoup(html, \"html.parser\")"
   ]
  },
  {
   "cell_type": "code",
   "execution_count": null,
   "metadata": {},
   "outputs": [],
   "source": [
    "print(bs.prettify())"
   ]
  },
  {
   "cell_type": "code",
   "execution_count": null,
   "metadata": {},
   "outputs": [],
   "source": [
    "print(bs.h1.text)"
   ]
  },
  {
   "cell_type": "code",
   "execution_count": null,
   "metadata": {},
   "outputs": [],
   "source": [
    "bs.h1"
   ]
  },
  {
   "cell_type": "markdown",
   "metadata": {
    "collapsed": true
   },
   "source": [
    "## Recuperar todos os links disponíveis nessa página"
   ]
  },
  {
   "cell_type": "code",
   "execution_count": null,
   "metadata": {},
   "outputs": [],
   "source": [
    "bs.a"
   ]
  },
  {
   "cell_type": "markdown",
   "metadata": {},
   "source": [
    "Note que apenas um único link foi retornado. Para retornar todos precisamos utilizar um método chamado ```findall()```."
   ]
  },
  {
   "cell_type": "code",
   "execution_count": null,
   "metadata": {},
   "outputs": [],
   "source": [
    "links = bs.findAll('a')\n",
    "print(links)"
   ]
  },
  {
   "cell_type": "code",
   "execution_count": null,
   "metadata": {},
   "outputs": [],
   "source": [
    "print(type(links))"
   ]
  },
  {
   "cell_type": "markdown",
   "metadata": {},
   "source": [
    "Note que além dos links, tem outras informações."
   ]
  },
  {
   "cell_type": "code",
   "execution_count": null,
   "metadata": {},
   "outputs": [],
   "source": [
    "links[3]"
   ]
  },
  {
   "cell_type": "markdown",
   "metadata": {},
   "source": [
    "Para imprimir/salvar apenas os links, precisamos iterar na lista que foi criada para pegar apenas o conteúdo do href."
   ]
  },
  {
   "cell_type": "code",
   "execution_count": null,
   "metadata": {},
   "outputs": [],
   "source": [
    "for link in links:\n",
    "    print(link.get(\"href\"))"
   ]
  },
  {
   "cell_type": "markdown",
   "metadata": {},
   "source": [
    "É importante verificar que estamos trazendo todos os links (internos e externos) com essa abordagem."
   ]
  },
  {
   "cell_type": "markdown",
   "metadata": {},
   "source": [
    "## Recuperar uma tabela\n",
    "\n",
    "Como vimos, iremos recuperar a tabela que está disponível na página, que lista todos os estados do Brasil, adicionando outras informações, como a abreviação, capital, area, população, mortalidade infantil, entre outras.\n",
    "\n",
    "Existem duas formas de recuperarmos a tabela correta. A primeira, seria recuperar todas as tabelas disponível, iterar em cada uma delas e verificar a classe que ela pertecem.\n",
    "\n",
    "A outra forma, é mais rápida e simples. No navegador Chrome, abrar a página em questão, clique com o Botão Direito em cima da tabela que deseja recuperar e depois clique em Inspecionar (Ctrl + Shift + I) e copie o nome da classe.\n",
    "\n",
    "```\n",
    "<table class=\"wikitable sortable jquery-tablesorter\" style=\"text-align:center; font-size:85%\">\n",
    "```\n",
    "\n",
    "Iremos utilizar ```wikitable sortable jquery-tablesorter``` para recuperar somente essa tabela."
   ]
  },
  {
   "cell_type": "code",
   "execution_count": null,
   "metadata": {},
   "outputs": [],
   "source": [
    "tabela = bs.findAll('table', \n",
    "                 class_='wikitable sortable')"
   ]
  },
  {
   "cell_type": "code",
   "execution_count": null,
   "metadata": {},
   "outputs": [],
   "source": [
    "#print(len(tabela))\n",
    "#tabela"
   ]
  },
  {
   "cell_type": "markdown",
   "metadata": {},
   "source": [
    "Ótimo! Já temos a tabela recuperada.\n",
    "\n",
    "O que iremos fazer agora é extrair as informações e adicionar em um DataFrame. Para isso precisamos iterar em cada linha (```tr```) e então atribuir cada elemento de tr (```td```) à uma variável e então adicionar a uma lista."
   ]
  },
  {
   "cell_type": "code",
   "execution_count": null,
   "metadata": {},
   "outputs": [],
   "source": [
    "colunas = [th.text.lower() for th in tabela[0].findAll('tr')[0].findAll('th')]"
   ]
  },
  {
   "cell_type": "code",
   "execution_count": null,
   "metadata": {},
   "outputs": [],
   "source": [
    "#colunas"
   ]
  },
  {
   "cell_type": "markdown",
   "metadata": {},
   "source": [
    "Antes de renomear o nome de cada coluna, iremos remover as acentuações para facilitar a criação das variáveis.\n",
    "\n",
    "Essa função retorna a forma normal da string (sem acentuação). As opções são:\n",
    "\n",
    "| Forma | Descrição |\n",
    "| ---- | ----- |\n",
    "| **NFD** - Normalization Form Canonical Decomposition | Os caracteres são decompostos pela equivalência canônica e vários caracteres combinados são organizados em uma ordem específica.  | \n",
    "| **NFC** - Normalization Form Canonical Composition | Os caracteres são decompostos e, em seguida, recompostos pela equivalência canônica. |\n",
    "| **NFKD** - Normalization Form Compatibility Decomposition | Os caracteres são decompostos por compatibilidade e vários caracteres combinados são organizados em uma ordem específica. |\n",
    "| **NFKC** - Normalization Form Compatibility Composition | Os caracteres são decompostos por compatibilidade e depois recompostos pela equivalência canônica. |\n",
    "\n",
    "\n",
    "\n",
    "https://docs.python.org/3/library/unicodedata.html#unicodedata.normalize"
   ]
  },
  {
   "cell_type": "code",
   "execution_count": null,
   "metadata": {},
   "outputs": [],
   "source": [
    "from unicodedata import normalize\n",
    "def remover_acentos(txt):\n",
    "    return normalize('NFKD', txt).encode('ASCII', 'ignore').decode('ASCII')"
   ]
  },
  {
   "cell_type": "markdown",
   "metadata": {},
   "source": [
    "**Atenção**\n",
    "\n",
    "Se testarmos a função ```remover_acentos``` sem o enconde/decode, nenhum erro será gerado, porém durante a normalização caso algum caractere não seja possível normalizar um erro será gerado. Utilizando os métodos encode/decode, podemos garantir que caso algum caractere não seja identificado corretamente, o mesmo seja ignorado e removido. Por exemplo:"
   ]
  },
  {
   "cell_type": "code",
   "execution_count": null,
   "metadata": {},
   "outputs": [],
   "source": [
    "print(\"hello\\xffworld\".encode(\"ascii\"))"
   ]
  },
  {
   "cell_type": "code",
   "execution_count": null,
   "metadata": {},
   "outputs": [],
   "source": [
    "print(\"hello\\xffworld\".encode(\"ascii\", 'ignore'))"
   ]
  },
  {
   "cell_type": "code",
   "execution_count": null,
   "metadata": {},
   "outputs": [],
   "source": [
    "print(\"hello\\xffworld\".encode(\"ascii\", 'ignore').decode('ASCII'))"
   ]
  },
  {
   "cell_type": "code",
   "execution_count": null,
   "metadata": {},
   "outputs": [],
   "source": [
    "colunas = [remover_acentos(nome)[:-1] for nome in colunas]\n",
    "colunas"
   ]
  },
  {
   "cell_type": "code",
   "execution_count": null,
   "metadata": {},
   "outputs": [],
   "source": [
    "colunas[colunas.index('(% total) (2015)')] = \"percentual_pib_2015\"\n",
    "colunas[colunas.index('pib per capita (r$) (2015)')] = 'pib_per_capita_reais_2015'"
   ]
  },
  {
   "cell_type": "markdown",
   "metadata": {},
   "source": [
    "Remover os caracteres especiais ```(``` e ```)``` e substituir o espaco pelo caractere ```_```."
   ]
  },
  {
   "cell_type": "code",
   "execution_count": null,
   "metadata": {},
   "outputs": [],
   "source": [
    "colunas = [nome.replace('(', '') for nome in colunas]\n",
    "colunas = [nome.replace(')', '') for nome in colunas]\n",
    "colunas = [nome.replace(' ', '_') for nome in colunas]"
   ]
  },
  {
   "cell_type": "code",
   "execution_count": null,
   "metadata": {},
   "outputs": [],
   "source": [
    "colunas"
   ]
  },
  {
   "cell_type": "code",
   "execution_count": null,
   "metadata": {},
   "outputs": [],
   "source": [
    "linha = tabela[0].findAll('tr')[1].findAll('td')"
   ]
  },
  {
   "cell_type": "code",
   "execution_count": null,
   "metadata": {},
   "outputs": [],
   "source": [
    "linha[0].find('a').get('href')"
   ]
  },
  {
   "cell_type": "code",
   "execution_count": null,
   "metadata": {},
   "outputs": [],
   "source": [
    "linha[13].find(text=True)"
   ]
  },
  {
   "cell_type": "code",
   "execution_count": null,
   "metadata": {},
   "outputs": [],
   "source": [
    "# Estruturando \n",
    "dados = {}\n",
    "for nome in colunas:\n",
    "    dados[nome] = []"
   ]
  },
  {
   "cell_type": "code",
   "execution_count": null,
   "metadata": {},
   "outputs": [],
   "source": [
    "dados"
   ]
  },
  {
   "cell_type": "code",
   "execution_count": null,
   "metadata": {},
   "outputs": [],
   "source": [
    "linhas = tabela[0].findAll('tr')\n",
    "len(linhas)"
   ]
  },
  {
   "cell_type": "code",
   "execution_count": null,
   "metadata": {},
   "outputs": [],
   "source": [
    "# Começa em 1, pois o 0 é o cabeçalho da tabela\n",
    "for lin in range(1, len(linhas)):\n",
    "    linha = tabela[0].findAll('tr')[lin].findAll('td')\n",
    "    for i, chave in enumerate(colunas):\n",
    "        if i == 0 and chave == 'bandeira':\n",
    "            dados[chave].append(linha[i].find('a').get('href'))\n",
    "        else:\n",
    "            dados[chave].append(linha[i].find(text=True))"
   ]
  },
  {
   "cell_type": "code",
   "execution_count": null,
   "metadata": {},
   "outputs": [],
   "source": [
    "dados"
   ]
  },
  {
   "cell_type": "code",
   "execution_count": null,
   "metadata": {},
   "outputs": [],
   "source": [
    "import pandas as pd"
   ]
  },
  {
   "cell_type": "code",
   "execution_count": null,
   "metadata": {},
   "outputs": [],
   "source": [
    "df = pd.DataFrame(dados)"
   ]
  },
  {
   "cell_type": "code",
   "execution_count": null,
   "metadata": {},
   "outputs": [],
   "source": [
    "df.head()"
   ]
  },
  {
   "cell_type": "markdown",
   "metadata": {},
   "source": [
    "Agora, basta criar o DataFrame"
   ]
  },
  {
   "cell_type": "code",
   "execution_count": null,
   "metadata": {},
   "outputs": [],
   "source": [
    "import pandas as pd"
   ]
  },
  {
   "cell_type": "code",
   "execution_count": null,
   "metadata": {},
   "outputs": [],
   "source": [
    "df_final = df.drop('bandeira', axis=1)"
   ]
  },
  {
   "cell_type": "code",
   "execution_count": null,
   "metadata": {},
   "outputs": [],
   "source": [
    "df_final.head()"
   ]
  },
  {
   "cell_type": "markdown",
   "metadata": {},
   "source": [
    "### Realizando ajustes e conversões de tipos\n",
    "\n",
    "Para realizarmos algumas análises será necessário realizar as conversões de tipo. "
   ]
  },
  {
   "cell_type": "markdown",
   "metadata": {},
   "source": [
    "Realizando uma copia do ```df_final``` para tratamento dos dados"
   ]
  },
  {
   "cell_type": "code",
   "execution_count": null,
   "metadata": {},
   "outputs": [],
   "source": [
    "df_aux = df_final.copy()"
   ]
  },
  {
   "cell_type": "markdown",
   "metadata": {},
   "source": [
    "Também será necessário selecionar as colunas que se deseja realizar o tratamento."
   ]
  },
  {
   "cell_type": "code",
   "execution_count": null,
   "metadata": {},
   "outputs": [],
   "source": [
    "print(len(df_aux.columns))"
   ]
  },
  {
   "cell_type": "code",
   "execution_count": null,
   "metadata": {},
   "outputs": [],
   "source": [
    "colunas_removidas = ['abreviacao', 'sede_de_governo', 'unidade_federativa']"
   ]
  },
  {
   "cell_type": "code",
   "execution_count": null,
   "metadata": {},
   "outputs": [],
   "source": [
    "aux_colunas = list(filter(lambda col: col not in colunas_removidas, df_aux.columns))"
   ]
  },
  {
   "cell_type": "code",
   "execution_count": null,
   "metadata": {},
   "outputs": [],
   "source": [
    "print(len(aux_colunas))"
   ]
  },
  {
   "cell_type": "markdown",
   "metadata": {},
   "source": [
    "Funções auxiliares para remover espaços e converter a pontuação."
   ]
  },
  {
   "cell_type": "code",
   "execution_count": null,
   "metadata": {},
   "outputs": [],
   "source": [
    "def remover_espacos(string):\n",
    "    string = string.replace(u'%', '')\n",
    "    string = string.replace(u'‰', '')\n",
    "    string = string.replace(u'anos', '')\n",
    "    return string.replace(u'\\xa0', '')"
   ]
  },
  {
   "cell_type": "code",
   "execution_count": null,
   "metadata": {},
   "outputs": [],
   "source": [
    "def converter_pontuacao(string):\n",
    "    return string.replace(u',', '.')"
   ]
  },
  {
   "cell_type": "markdown",
   "metadata": {},
   "source": [
    "Aplicando as funções criadas em cada uma das colunas definidas na variável ```colunas_float``` e ```colunas_int```."
   ]
  },
  {
   "cell_type": "code",
   "execution_count": null,
   "metadata": {},
   "outputs": [],
   "source": [
    "for coluna in aux_colunas:\n",
    "    df_aux[coluna] = df_aux[coluna].apply(remover_espacos)\n",
    "    df_aux[coluna] = df_aux[coluna].apply(converter_pontuacao)"
   ]
  },
  {
   "cell_type": "code",
   "execution_count": null,
   "metadata": {},
   "outputs": [],
   "source": [
    "df_aux.head()"
   ]
  },
  {
   "cell_type": "code",
   "execution_count": null,
   "metadata": {},
   "outputs": [],
   "source": [
    "print(type(df_aux.area_km2[0]))"
   ]
  },
  {
   "cell_type": "markdown",
   "metadata": {},
   "source": [
    "Temos que realizar as conversões de tipo, para isso iremos utilizar o método do Pandas que realiza a conversão de maneira automatica seja para um tipo numérico."
   ]
  },
  {
   "cell_type": "code",
   "execution_count": null,
   "metadata": {},
   "outputs": [],
   "source": [
    "for coluna in aux_colunas:\n",
    "    df_aux[coluna] = df_aux[coluna].apply(pd.to_numeric)"
   ]
  },
  {
   "cell_type": "code",
   "execution_count": null,
   "metadata": {},
   "outputs": [],
   "source": [
    "df_aux.dtypes"
   ]
  },
  {
   "cell_type": "markdown",
   "metadata": {},
   "source": [
    "Visualizando o DataFrame Final"
   ]
  },
  {
   "cell_type": "code",
   "execution_count": null,
   "metadata": {},
   "outputs": [],
   "source": [
    "df_aux.head()"
   ]
  },
  {
   "cell_type": "code",
   "execution_count": null,
   "metadata": {},
   "outputs": [],
   "source": [
    "df_aux.describe()"
   ]
  },
  {
   "cell_type": "code",
   "execution_count": null,
   "metadata": {},
   "outputs": [],
   "source": []
  },
  {
   "cell_type": "code",
   "execution_count": null,
   "metadata": {},
   "outputs": [],
   "source": []
  }
 ],
 "metadata": {
  "kernelspec": {
   "display_name": "Python 3",
   "language": "python",
   "name": "python3"
  },
  "language_info": {
   "codemirror_mode": {
    "name": "ipython",
    "version": 3
   },
   "file_extension": ".py",
   "mimetype": "text/x-python",
   "name": "python",
   "nbconvert_exporter": "python",
   "pygments_lexer": "ipython3",
   "version": "3.7.2"
  }
 },
 "nbformat": 4,
 "nbformat_minor": 1
}
