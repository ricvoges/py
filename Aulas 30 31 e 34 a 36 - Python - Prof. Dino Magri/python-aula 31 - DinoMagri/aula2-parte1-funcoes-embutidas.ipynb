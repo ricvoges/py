{
 "cells": [
  {
   "cell_type": "markdown",
   "metadata": {},
   "source": [
    "# Funções Embutidas"
   ]
  },
  {
   "cell_type": "markdown",
   "metadata": {},
   "source": [
    "Python já vem com diversas funções embutidas, que estão prontas para serem utilizadas.\n",
    "\n",
    "Uma lista completa pode ser encontrada em https://docs.python.org/3/library/functions.html.\n",
    "\n",
    "<img src=\"funções-embutidas.png\"/>\n",
    "\n",
    "<span style=\"color:blue;\">Já utilizamos algumas delas! Quais?</span>\n",
    "\n",
    "Vamos estudar mais algumas dessas funções:\n",
    "\n",
    "- open\n",
    "- sorted\n",
    "- zip\n",
    "- isinstance"
   ]
  },
  {
   "cell_type": "markdown",
   "metadata": {},
   "source": [
    "## open\n",
    "\n",
    "A função ```open```, permite abrir um arquivo para leitura e escrita.\n",
    "\n",
    "    open(nome_do_arquivo, modo)\n",
    "    \n",
    "Modos:\n",
    "        * r - abre o arquivo para leitura.\n",
    "        * w - abre o arquivo para escrita.\n",
    "        * a - abre o arquivo para escrita acresentando os dados no final do arquivo.\n",
    "        * + - pode ser lido e escrito simultaneamente."
   ]
  },
  {
   "cell_type": "code",
   "execution_count": null,
   "metadata": {},
   "outputs": [],
   "source": [
    "import os\n",
    "os.remove(\"arquivo.txt\")"
   ]
  },
  {
   "cell_type": "code",
   "execution_count": null,
   "metadata": {},
   "outputs": [],
   "source": [
    "arq = open(\"arquivo.txt\", \"w\")"
   ]
  },
  {
   "cell_type": "code",
   "execution_count": null,
   "metadata": {},
   "outputs": [],
   "source": [
    "for i in range(1, 5):\n",
    "    arq.write('{}. Escrevendo em arquivo\\n'.format(i))"
   ]
  },
  {
   "cell_type": "code",
   "execution_count": null,
   "metadata": {},
   "outputs": [],
   "source": [
    "arq.close()"
   ]
  },
  {
   "cell_type": "markdown",
   "metadata": {},
   "source": [
    "#### Métodos\n",
    "\n",
    "* ```read()``` - retorna uma string única com todo o conteúdo do arquivo.\n",
    "* ```readlines()``` - todo o conteúdo do arquivo é salvo em uma lista, onde cada linha do arquivo será uma elemento da lista."
   ]
  },
  {
   "cell_type": "code",
   "execution_count": null,
   "metadata": {},
   "outputs": [],
   "source": [
    "f = open(\"arquivo.txt\", \"r\")\n",
    "print(f, '\\n')\n",
    "texto = f.read()\n",
    "print(texto)\n",
    "f.close()"
   ]
  },
  {
   "cell_type": "code",
   "execution_count": null,
   "metadata": {},
   "outputs": [],
   "source": [
    "f = open(\"arquivo.txt\", \"r\")\n",
    "texto = f.readlines()\n",
    "print(texto)\n",
    "#f.close()"
   ]
  },
  {
   "cell_type": "code",
   "execution_count": null,
   "metadata": {},
   "outputs": [],
   "source": [
    "help(f.readlines)"
   ]
  },
  {
   "cell_type": "markdown",
   "metadata": {},
   "source": [
    "Para remover o ```\\n``` podemos utilizar o método ```read``` que irá gerar uma única string e depois aplicamos o método ```splitlines```."
   ]
  },
  {
   "cell_type": "code",
   "execution_count": null,
   "metadata": {},
   "outputs": [],
   "source": [
    "f = open(\"arquivo.txt\", \"r\")\n",
    "texto = f.read().splitlines()\n",
    "print(texto)\n",
    "f.close()"
   ]
  },
  {
   "cell_type": "markdown",
   "metadata": {
    "collapsed": true
   },
   "source": [
    "## sorted\n",
    "\n",
    "A função ```sorted```, permite ordenar os elementos em uma ordem específica (crescente ou decrescente).\n",
    "\n",
    "    sorted(obj_iteravel, key, reverse)\n",
    "    \n",
    "Os parâmetros possíveis:\n",
    "\n",
    "- ```obj_iteravel``` – sequência (string, tuplas, listas) ou coleções (set, dicionário).\n",
    "- ```reverse``` (opcional) – Se True, e lista é ordenada em ordem decrescente.\n",
    "- ```key``` (opcional) – função que serve como chave para realizar a comparação na hora de ordenar."
   ]
  },
  {
   "cell_type": "markdown",
   "metadata": {},
   "source": [
    "**Exemplo 1** - Ordernar uma sequência de valores: string, lista ou tuplas."
   ]
  },
  {
   "cell_type": "code",
   "execution_count": null,
   "metadata": {},
   "outputs": [],
   "source": [
    "lista1 = ['e', 'a', 'u', 'i', 'o']"
   ]
  },
  {
   "cell_type": "code",
   "execution_count": null,
   "metadata": {},
   "outputs": [],
   "source": [
    "print(sorted(lista1))"
   ]
  },
  {
   "cell_type": "code",
   "execution_count": null,
   "metadata": {},
   "outputs": [],
   "source": [
    "string1 = 'Python na FIA'"
   ]
  },
  {
   "cell_type": "code",
   "execution_count": null,
   "metadata": {},
   "outputs": [],
   "source": [
    "print(sorted(string1))"
   ]
  },
  {
   "cell_type": "code",
   "execution_count": null,
   "metadata": {},
   "outputs": [],
   "source": [
    "tupla1 = (4, 1, 3, 2)"
   ]
  },
  {
   "cell_type": "code",
   "execution_count": null,
   "metadata": {},
   "outputs": [],
   "source": [
    "print(sorted(tupla1))"
   ]
  },
  {
   "cell_type": "markdown",
   "metadata": {},
   "source": [
    "**Exemplo 2** - Ordernar uma coleção de valores em ordem decrescente"
   ]
  },
  {
   "cell_type": "code",
   "execution_count": null,
   "metadata": {},
   "outputs": [],
   "source": [
    "set1 = ['e', 'o', 'i', 'a', 'u']"
   ]
  },
  {
   "cell_type": "code",
   "execution_count": null,
   "metadata": {},
   "outputs": [],
   "source": [
    "print(sorted(set1, reverse=True))"
   ]
  },
  {
   "cell_type": "code",
   "execution_count": null,
   "metadata": {},
   "outputs": [],
   "source": [
    "dict1 = {'Joao' : 30, 'Maria': 25, 'Ana': 55, 'Pedro':60}"
   ]
  },
  {
   "cell_type": "code",
   "execution_count": null,
   "metadata": {},
   "outputs": [],
   "source": [
    "print(sorted(dict1, reverse=True))"
   ]
  },
  {
   "cell_type": "markdown",
   "metadata": {},
   "source": [
    "**Exemplo 3** - Ordernar utilizando a própria função com o parâmetro ```key```"
   ]
  },
  {
   "cell_type": "code",
   "execution_count": null,
   "metadata": {},
   "outputs": [],
   "source": [
    "lista2 = ['maça', 'banana', 'limao', 'manga', 'abcd']"
   ]
  },
  {
   "cell_type": "code",
   "execution_count": null,
   "metadata": {},
   "outputs": [],
   "source": [
    "print(sorted(lista2, key=len))"
   ]
  },
  {
   "cell_type": "markdown",
   "metadata": {},
   "source": [
    "## zip\n",
    "\n",
    "A função ```zip```, permite criar um objeto iterável que agrega elementos de duas ou mais estruturas.\n",
    "\n",
    "    zip(*iteradores)\n",
    "    \n",
    "O parâmetro:\n",
    "\n",
    "- ```iteradores``` – pode ser string, listas, set, dicionário, entre outros.\n",
    "\n",
    "O retorno da função zip() retorna um novo iterador com as tuplas criadas agregando os elementos das estruturas utilizadas.\n"
   ]
  },
  {
   "cell_type": "code",
   "execution_count": null,
   "metadata": {},
   "outputs": [],
   "source": [
    "n_lista = [1, 2, 3, 4]\n",
    "s_lista = ['Um', 'Dois', 'Três', 'Quatro']"
   ]
  },
  {
   "cell_type": "code",
   "execution_count": null,
   "metadata": {},
   "outputs": [],
   "source": [
    "resultado = zip()"
   ]
  },
  {
   "cell_type": "code",
   "execution_count": null,
   "metadata": {},
   "outputs": [],
   "source": [
    "# Convertemos para o tipo lista para visualizar o resultado de forma rápida.\n",
    "print(list(resultado))"
   ]
  },
  {
   "cell_type": "code",
   "execution_count": null,
   "metadata": {},
   "outputs": [],
   "source": [
    "# Utilizando dois iteradores\n",
    "resultado = zip(n_lista, s_lista)"
   ]
  },
  {
   "cell_type": "code",
   "execution_count": null,
   "metadata": {},
   "outputs": [],
   "source": [
    "print(list(resultado))"
   ]
  },
  {
   "cell_type": "code",
   "execution_count": null,
   "metadata": {},
   "outputs": [],
   "source": [
    "n_lista = [1, 2, 3]\n",
    "s_lista = ['Um', 'Dois']\n",
    "c_lista = ['ONE', 'TWO', 'THREE', 'FOUR']"
   ]
  },
  {
   "cell_type": "code",
   "execution_count": null,
   "metadata": {},
   "outputs": [],
   "source": [
    "resultado = zip(n_lista, c_lista)"
   ]
  },
  {
   "cell_type": "code",
   "execution_count": null,
   "metadata": {},
   "outputs": [],
   "source": [
    "print(list(resultado))"
   ]
  },
  {
   "cell_type": "code",
   "execution_count": null,
   "metadata": {},
   "outputs": [],
   "source": [
    "resultado = zip(n_lista, c_lista, s_lista)"
   ]
  },
  {
   "cell_type": "code",
   "execution_count": null,
   "metadata": {},
   "outputs": [],
   "source": [
    "print(list(resultado))"
   ]
  },
  {
   "cell_type": "markdown",
   "metadata": {},
   "source": [
    "Podemos utilizar o operador * com o a função zip para descompactar os valores"
   ]
  },
  {
   "cell_type": "code",
   "execution_count": null,
   "metadata": {},
   "outputs": [],
   "source": [
    "coordenadas = ['x', 'y', 'z']\n",
    "valores = [-90, 0, 90]"
   ]
  },
  {
   "cell_type": "code",
   "execution_count": null,
   "metadata": {},
   "outputs": [],
   "source": [
    "resultado = zip(coordenadas, valores)"
   ]
  },
  {
   "cell_type": "code",
   "execution_count": null,
   "metadata": {},
   "outputs": [],
   "source": [
    "resultadoLista = list(resultado)"
   ]
  },
  {
   "cell_type": "code",
   "execution_count": null,
   "metadata": {},
   "outputs": [],
   "source": [
    "print(resultadoLista)"
   ]
  },
  {
   "cell_type": "code",
   "execution_count": null,
   "metadata": {},
   "outputs": [],
   "source": [
    "coord, vals = zip(*resultadoLista)"
   ]
  },
  {
   "cell_type": "code",
   "execution_count": null,
   "metadata": {},
   "outputs": [],
   "source": [
    "print('Coordenadas:', coord)\n",
    "print('Valores:', vals)"
   ]
  },
  {
   "cell_type": "markdown",
   "metadata": {},
   "source": [
    "## isinstance\n",
    "\n",
    "A função ```isinstance```, permite criar um objeto iterável que agrega elementos de duas ou mais estruturas.\n",
    "\n",
    "    isinstance(objeto, info_classe)\n",
    "    \n",
    "O parâmetro:\n",
    "\n",
    "- ```objeto``` – o objeto que se deseja verificar.\n",
    "- ```info_classe``` – classe, tipo ou tupla de classes e tipos.\n",
    "\n",
    "O retorno da função isinstance() retorna verdadeiro (True) se o objeto é uma instância ou subclasse. Retorna falso (False) caso contrário."
   ]
  },
  {
   "cell_type": "code",
   "execution_count": null,
   "metadata": {},
   "outputs": [],
   "source": [
    "print(isinstance(1, int))"
   ]
  },
  {
   "cell_type": "code",
   "execution_count": null,
   "metadata": {},
   "outputs": [],
   "source": [
    "print(isinstance(1.0, int))"
   ]
  },
  {
   "cell_type": "code",
   "execution_count": null,
   "metadata": {},
   "outputs": [],
   "source": [
    "lista3 = [1, 2, 'a', 'b', 3.0, 5.1, [1, 2, 3]]"
   ]
  },
  {
   "cell_type": "code",
   "execution_count": null,
   "metadata": {},
   "outputs": [],
   "source": [
    "total = 0\n",
    "for item in lista3:\n",
    "    if isinstance(item, int) or isinstance(item, float):\n",
    "        total = total + item\n",
    "print(total)"
   ]
  },
  {
   "cell_type": "code",
   "execution_count": null,
   "metadata": {},
   "outputs": [],
   "source": []
  }
 ],
 "metadata": {
  "kernelspec": {
   "display_name": "Python 3",
   "language": "python",
   "name": "python3"
  },
  "language_info": {
   "codemirror_mode": {
    "name": "ipython",
    "version": 3
   },
   "file_extension": ".py",
   "mimetype": "text/x-python",
   "name": "python",
   "nbconvert_exporter": "python",
   "pygments_lexer": "ipython3",
   "version": "3.7.3"
  }
 },
 "nbformat": 4,
 "nbformat_minor": 1
}
