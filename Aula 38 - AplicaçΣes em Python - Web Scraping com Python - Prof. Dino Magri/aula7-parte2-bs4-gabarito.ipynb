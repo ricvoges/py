{
 "cells": [
  {
   "cell_type": "markdown",
   "metadata": {},
   "source": [
    "# Parte 2 - BeautifulSoup\n",
    "\n",
    "Para utilizar esse notebook será necessário instalar o BeautilSoup, abra o terminal ou CMD e digite:\n",
    "\n",
    "```base\n",
    "pip install bs4\n",
    "```\n",
    "\n",
    "Utilizando a função desenvolvida no notebook anterior para recuperar HTML de uma URL."
   ]
  },
  {
   "cell_type": "code",
   "execution_count": null,
   "metadata": {},
   "outputs": [],
   "source": [
    "import requests\n",
    "from requests.exceptions import ConnectionError"
   ]
  },
  {
   "cell_type": "code",
   "execution_count": null,
   "metadata": {},
   "outputs": [],
   "source": [
    "def download_html(url, numero_tentativas=2):\n",
    "    print(\"Realizando o download da página:\", url)\n",
    "    try:\n",
    "        req = requests.get(url)\n",
    "        if req.status_code != 200:\n",
    "            if numero_tentativas > 0:\n",
    "                print(\"Não foi possível realizar o download. Erro:\", req.status_code)\n",
    "                print(\"\\nRealizando nova tentativa:\")\n",
    "                return download_html(url, numero_tentativas - 1)\n",
    "            else:\n",
    "                print(\"Número de tentativas excedidas. Erro: {}\".format(req.status_code))\n",
    "                html = None\n",
    "                return html\n",
    "        html = req.text\n",
    "        return html\n",
    "    except ConnectionError as e:\n",
    "        print(\"Erro no download:\", e)\n",
    "        html = None"
   ]
  },
  {
   "cell_type": "code",
   "execution_count": null,
   "metadata": {},
   "outputs": [],
   "source": [
    "html = download_html(\"http://pythonscraping.com/pages/page1.html\")"
   ]
  },
  {
   "cell_type": "code",
   "execution_count": null,
   "metadata": {},
   "outputs": [],
   "source": [
    "print(html)"
   ]
  },
  {
   "cell_type": "markdown",
   "metadata": {},
   "source": [
    "## Analisando HTML\n",
    "\n",
    "Para analisar e processar o HTML que foi recuperado anteriormente, iremos utilizar a biblioteca BeautifulSoup para essa tarefa."
   ]
  },
  {
   "cell_type": "code",
   "execution_count": null,
   "metadata": {},
   "outputs": [],
   "source": [
    "from bs4 import BeautifulSoup"
   ]
  },
  {
   "cell_type": "code",
   "execution_count": null,
   "metadata": {},
   "outputs": [],
   "source": [
    "bs = BeautifulSoup(html, \"html.parser\")"
   ]
  },
  {
   "cell_type": "code",
   "execution_count": null,
   "metadata": {},
   "outputs": [],
   "source": [
    "print(type(bs))"
   ]
  },
  {
   "cell_type": "code",
   "execution_count": null,
   "metadata": {},
   "outputs": [],
   "source": [
    "print(bs)"
   ]
  },
  {
   "cell_type": "code",
   "execution_count": null,
   "metadata": {},
   "outputs": [],
   "source": [
    "print(bs.html)"
   ]
  },
  {
   "cell_type": "code",
   "execution_count": null,
   "metadata": {},
   "outputs": [],
   "source": [
    "print(bs.head)"
   ]
  },
  {
   "cell_type": "code",
   "execution_count": null,
   "metadata": {},
   "outputs": [],
   "source": [
    "print(type(bs.head))"
   ]
  },
  {
   "cell_type": "code",
   "execution_count": null,
   "metadata": {},
   "outputs": [],
   "source": [
    "print(bs.body)"
   ]
  },
  {
   "cell_type": "code",
   "execution_count": null,
   "metadata": {},
   "outputs": [],
   "source": [
    "print(bs.body.h1)"
   ]
  },
  {
   "cell_type": "code",
   "execution_count": null,
   "metadata": {},
   "outputs": [],
   "source": [
    "print(bs.body.h1.text)"
   ]
  },
  {
   "cell_type": "code",
   "execution_count": null,
   "metadata": {},
   "outputs": [],
   "source": [
    "print(bs.body.h4)"
   ]
  },
  {
   "cell_type": "markdown",
   "metadata": {},
   "source": [
    "**<span style=\"color:red\">EXERCÍCIO:</span>** **Crie uma função chamada ```recuperar_titulo(url)```, que deverá retornar o título da URL (página) passada por parâmetro. Lembre-se de tratar os erros necessários. Reutilize códigos!**"
   ]
  },
  {
   "cell_type": "code",
   "execution_count": null,
   "metadata": {},
   "outputs": [],
   "source": [
    "import requests"
   ]
  },
  {
   "cell_type": "code",
   "execution_count": null,
   "metadata": {},
   "outputs": [],
   "source": [
    "def recuperar_titulo(url):\n",
    "    # seu código aqui\n",
    "    html = download_html(url)\n",
    "    if html:\n",
    "        bs = BeautifulSoup(html, \"html.parser\")\n",
    "        if bs.h1 != None:\n",
    "            return bs.h1.text\n",
    "    else:\n",
    "        return None"
   ]
  },
  {
   "cell_type": "markdown",
   "metadata": {},
   "source": [
    "#### Teste a função com as seguintes URLs:"
   ]
  },
  {
   "cell_type": "code",
   "execution_count": null,
   "metadata": {},
   "outputs": [],
   "source": [
    "recuperar_titulo(\"http://pythonscrapingxxx.com/pages/page1.html\")"
   ]
  },
  {
   "cell_type": "code",
   "execution_count": null,
   "metadata": {},
   "outputs": [],
   "source": [
    "recuperar_titulo(\"http://pythonscraping.com/pages/page12.html\")"
   ]
  },
  {
   "cell_type": "code",
   "execution_count": null,
   "metadata": {},
   "outputs": [],
   "source": [
    "titulo = recuperar_titulo(\"http://pythonscraping.com/pages/page3.html\")"
   ]
  },
  {
   "cell_type": "code",
   "execution_count": null,
   "metadata": {},
   "outputs": [],
   "source": [
    "print(titulo)"
   ]
  },
  {
   "cell_type": "markdown",
   "metadata": {},
   "source": [
    "**Testando as funções em diversas URLs**"
   ]
  },
  {
   "cell_type": "code",
   "execution_count": null,
   "metadata": {},
   "outputs": [],
   "source": [
    "urls = [\"http://pythonscraping.com/pages/page1.html\", \n",
    "        \"http://pythonscraping.com/pages/page2.html\", \n",
    "        \"http://pythonscraping.com/pages/page3.html\",\n",
    "        \"http://globo.com\",\n",
    "        \"http://terra.com.br\", \n",
    "        \"https://submarino.com.br\"]"
   ]
  },
  {
   "cell_type": "code",
   "execution_count": null,
   "metadata": {},
   "outputs": [],
   "source": [
    "for url in urls:\n",
    "    print(recuperar_titulo(url))\n",
    "    print()"
   ]
  },
  {
   "cell_type": "code",
   "execution_count": null,
   "metadata": {},
   "outputs": [],
   "source": []
  }
 ],
 "metadata": {
  "kernelspec": {
   "display_name": "Python 3",
   "language": "python",
   "name": "python3"
  },
  "language_info": {
   "codemirror_mode": {
    "name": "ipython",
    "version": 3
   },
   "file_extension": ".py",
   "mimetype": "text/x-python",
   "name": "python",
   "nbconvert_exporter": "python",
   "pygments_lexer": "ipython3",
   "version": "3.7.2"
  }
 },
 "nbformat": 4,
 "nbformat_minor": 1
}
