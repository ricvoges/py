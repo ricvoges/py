{
 "cells": [
  {
   "cell_type": "markdown",
   "metadata": {},
   "source": [
    "# Funções\n",
    "\n",
    "* Até agora, vimos diversos tipos de dados, atribuições, comparações e estruturas de controle.\n",
    "* A ideia da função é dividir para conquistar, onde:\n",
    "    * Um problema é dividido em diversos subproblemas\n",
    "    * As soluções dos subproblemas são combinadas numa solução do problema maior.\n",
    "* Esses subproblemas têm o nome de funções.\n",
    "\n",
    "\n",
    "* Uma função tem 3 partes importantes:\n",
    "```\n",
    "def <nome> ( <parametros> ):\n",
    "        <corpo da função>\n",
    "```\n",
    "\n",
    "* ```def``` é uma palavra chave\n",
    "* ```<nome>``` é qualquer nome aceito pelo Python\n",
    "* ```<parametros>``` é a quantidade de parâmetros que será passado para a função (pode ser nenhum).\n",
    "* ```<corpo da função>``` contém o código da função.\n",
    "\n",
    "Exemplo de função para calcular o máximo entre dois número:"
   ]
  },
  {
   "cell_type": "code",
   "execution_count": null,
   "metadata": {},
   "outputs": [],
   "source": [
    "def maximo(x, y):\n",
    "    if x > y:\n",
    "        return x\n",
    "    else:\n",
    "        return y"
   ]
  },
  {
   "cell_type": "markdown",
   "metadata": {},
   "source": [
    "Utilizando a função:"
   ]
  },
  {
   "cell_type": "code",
   "execution_count": null,
   "metadata": {},
   "outputs": [],
   "source": [
    "z = maximo(3, 4)"
   ]
  },
  {
   "cell_type": "code",
   "execution_count": null,
   "metadata": {},
   "outputs": [],
   "source": [
    "print(z)"
   ]
  },
  {
   "cell_type": "code",
   "execution_count": null,
   "metadata": {},
   "outputs": [],
   "source": [
    "print(\"O maximo é {}\".format(maximo(10,30)))"
   ]
  },
  {
   "cell_type": "code",
   "execution_count": null,
   "metadata": {},
   "outputs": [],
   "source": [
    "print(\"O maximo é {}\".format(maximo(10,5)))"
   ]
  },
  {
   "cell_type": "markdown",
   "metadata": {},
   "source": [
    "Os parâmetros são passados por posição ao não ser que explicitamente sejam definidos.\n",
    "\n",
    "Considere a seguinte função:\n"
   ]
  },
  {
   "cell_type": "code",
   "execution_count": null,
   "metadata": {},
   "outputs": [],
   "source": [
    "def funcao1(seq1, seq2):\n",
    "    res = []\n",
    "    for x in seq1:\n",
    "        if x in seq2:\n",
    "            res.append(x)\n",
    "    return res"
   ]
  },
  {
   "cell_type": "markdown",
   "metadata": {},
   "source": [
    "É importante notar que uma variável que está dentro de uma função, não pode ser utilizada novamente enquanto a função não terminar de ser executada. \n",
    "\n",
    "No mundo da programação, isso é chamado de escopo. Vamos tentar imprimir o valor da variável ```res```."
   ]
  },
  {
   "cell_type": "code",
   "execution_count": null,
   "metadata": {},
   "outputs": [],
   "source": [
    "print(res)"
   ]
  },
  {
   "cell_type": "markdown",
   "metadata": {},
   "source": [
    "**<span style=\"color:blue;\">Por que isso aconteceu?</span>**\n",
    "\n",
    "Esse erro acontece pois a variável ```res``` somente existe dentro da ```funcao1```, ou seja, ela existe apenas no contexto **<span style=\"color:blue\">local</span>** dessa função.\n",
    "\n",
    "Quando uma variável é definida fora das funções (def), ela é **<span style=\"color:RED\">global</span>** para todo o arquivo."
   ]
  },
  {
   "cell_type": "markdown",
   "metadata": {},
   "source": [
    "Considere o seguinte cógido:"
   ]
  },
  {
   "cell_type": "code",
   "execution_count": null,
   "metadata": {},
   "outputs": [],
   "source": [
    "nome = \"Pedro\"\n",
    "idade = 30\n",
    "def funcao2():\n",
    "    res = []\n",
    "    X = 20\n"
   ]
  },
  {
   "cell_type": "markdown",
   "metadata": {},
   "source": [
    "**<span style=\"color:blue\">Quais dessas variáveis são locais e globais?</span>**\n",
    "\n",
    "**<span style=\"color:green\">RESPOSTA:</span>** Clique **duas vezes** nessa cédula e adicione a sua resposta aqui:\n",
    "\n",
    "As variáveis ```nome``` e ```idade``` são variáveis globais para esse arquivo. E as variáveis ```res``` e ```X``` são variáveis locais para a ```funcao2```.\n"
   ]
  },
  {
   "cell_type": "markdown",
   "metadata": {},
   "source": [
    "### Argumentos\n",
    "\n",
    "Existem diversas maneiras de passar argumentos para uma função. Iremos estudar algumas delas:\n",
    "\n",
    "| Sintaxe                      | Descrição                                                                                |\n",
    "|------------------------------|------------------------------------------------------------------------------------------|\n",
    "|    def   func(nome)          |    Argumento   normal, corresponde a qualquer valor passado por posição ou nome.         |\n",
    "|    def   func(nome=valor)    |    Valor   padrão é pré-definido se não for passado na chamada.                          |\n",
    "|    def   func(*nome)         |    Corresponde   e coleta argumentos posicionais restantes em uma tupla.                 |\n",
    "|    def   func(**nome)        |    Corresponde   e coleta os argumentos de palavras-chave restantes em um dicionário.    |"
   ]
  },
  {
   "cell_type": "markdown",
   "metadata": {},
   "source": [
    "#### ```def func(nome)```"
   ]
  },
  {
   "cell_type": "code",
   "execution_count": null,
   "metadata": {},
   "outputs": [],
   "source": [
    "def f(a, b, c):\n",
    "    print(a, b, c)"
   ]
  },
  {
   "cell_type": "code",
   "execution_count": null,
   "metadata": {},
   "outputs": [],
   "source": [
    "f(1, 2, 3)"
   ]
  },
  {
   "cell_type": "code",
   "execution_count": null,
   "metadata": {},
   "outputs": [],
   "source": [
    "f(c=1, a=3, b=2)"
   ]
  },
  {
   "cell_type": "code",
   "execution_count": null,
   "metadata": {},
   "outputs": [],
   "source": [
    "f(1, c=3, b=2)"
   ]
  },
  {
   "cell_type": "markdown",
   "metadata": {},
   "source": [
    "#### ```def func(nome-valor)```"
   ]
  },
  {
   "cell_type": "code",
   "execution_count": null,
   "metadata": {},
   "outputs": [],
   "source": [
    "def f(a, b=2, c=3):\n",
    "    print(a, b, c)"
   ]
  },
  {
   "cell_type": "code",
   "execution_count": null,
   "metadata": {},
   "outputs": [],
   "source": [
    "f(1)"
   ]
  },
  {
   "cell_type": "code",
   "execution_count": null,
   "metadata": {},
   "outputs": [],
   "source": [
    "f(1, 3)"
   ]
  },
  {
   "cell_type": "code",
   "execution_count": null,
   "metadata": {},
   "outputs": [],
   "source": [
    "f(1, b=7)"
   ]
  },
  {
   "cell_type": "markdown",
   "metadata": {},
   "source": [
    "#### ```def func(*args)```"
   ]
  },
  {
   "cell_type": "code",
   "execution_count": null,
   "metadata": {},
   "outputs": [],
   "source": [
    "def f(*args):\n",
    "    print(args)"
   ]
  },
  {
   "cell_type": "code",
   "execution_count": null,
   "metadata": {},
   "outputs": [],
   "source": [
    "f()"
   ]
  },
  {
   "cell_type": "code",
   "execution_count": null,
   "metadata": {},
   "outputs": [],
   "source": [
    "f(1)"
   ]
  },
  {
   "cell_type": "code",
   "execution_count": null,
   "metadata": {},
   "outputs": [],
   "source": [
    "f('Maria', 30, 1.65)"
   ]
  },
  {
   "cell_type": "markdown",
   "metadata": {},
   "source": [
    "#### ```def func(**args)```"
   ]
  },
  {
   "cell_type": "code",
   "execution_count": null,
   "metadata": {},
   "outputs": [],
   "source": [
    "def f(**args):\n",
    "    print(args)"
   ]
  },
  {
   "cell_type": "code",
   "execution_count": null,
   "metadata": {},
   "outputs": [],
   "source": [
    "f()"
   ]
  },
  {
   "cell_type": "code",
   "execution_count": null,
   "metadata": {},
   "outputs": [],
   "source": [
    "f(a=1, b=2)"
   ]
  },
  {
   "cell_type": "code",
   "execution_count": null,
   "metadata": {},
   "outputs": [],
   "source": [
    "f(nome='Maria', idade=30, altura=1.65)"
   ]
  },
  {
   "cell_type": "markdown",
   "metadata": {},
   "source": [
    "### Exercícios"
   ]
  },
  {
   "cell_type": "markdown",
   "metadata": {},
   "source": [
    "#### Exercício 1\n",
    "\n",
    "Para cada item abaixo, crie uma função que receba como parâmetro uma lista de números e:\n",
    "\n",
    "* a) Retorne o maior elemento\n",
    "* b) Retorne a soma dos elementos\n",
    "* c) Retorne a média dos elementos\n",
    "* d) Retorne a soma dos elementos com valor negativo\n",
    "\n",
    "Teste com as seguintes listas:"
   ]
  },
  {
   "cell_type": "code",
   "execution_count": 4,
   "metadata": {},
   "outputs": [],
   "source": [
    "lista1 = [-1, 2, 0.0, 1, -2, 30, 40, -1]"
   ]
  },
  {
   "cell_type": "code",
   "execution_count": 5,
   "metadata": {},
   "outputs": [],
   "source": [
    "lista2 = [-1, -1, -2, -3, -4, 5, 4, 3, 1, 10]"
   ]
  },
  {
   "cell_type": "code",
   "execution_count": null,
   "metadata": {},
   "outputs": [],
   "source": [
    "# a) Retorne o maior elemento"
   ]
  },
  {
   "cell_type": "code",
   "execution_count": 6,
   "metadata": {},
   "outputs": [],
   "source": [
    "def maior_elemento(lista):\n",
    "    maior = lista[0]\n",
    "    for item in lista:\n",
    "        if item > maior:\n",
    "            maior = item\n",
    "    return maior"
   ]
  },
  {
   "cell_type": "code",
   "execution_count": 8,
   "metadata": {},
   "outputs": [
    {
     "data": {
      "text/plain": [
       "40"
      ]
     },
     "execution_count": 8,
     "metadata": {},
     "output_type": "execute_result"
    }
   ],
   "source": [
    "maior_elemento(lista1)"
   ]
  },
  {
   "cell_type": "code",
   "execution_count": null,
   "metadata": {},
   "outputs": [],
   "source": [
    "maior_elemento(lista2)"
   ]
  },
  {
   "cell_type": "code",
   "execution_count": null,
   "metadata": {},
   "outputs": [],
   "source": [
    "# b) Retorne a soma dos elementos"
   ]
  },
  {
   "cell_type": "code",
   "execution_count": null,
   "metadata": {},
   "outputs": [],
   "source": [
    "def soma(lista):\n",
    "    return sum(lista)"
   ]
  },
  {
   "cell_type": "code",
   "execution_count": null,
   "metadata": {},
   "outputs": [],
   "source": [
    "soma(lista1) # resultado esperado 69.0"
   ]
  },
  {
   "cell_type": "code",
   "execution_count": null,
   "metadata": {},
   "outputs": [],
   "source": [
    "soma(lista2) # resultado esperado 12"
   ]
  },
  {
   "cell_type": "code",
   "execution_count": null,
   "metadata": {},
   "outputs": [],
   "source": [
    "# c) Retorne a média dos elementos"
   ]
  },
  {
   "cell_type": "code",
   "execution_count": null,
   "metadata": {},
   "outputs": [],
   "source": [
    "def media(lista):\n",
    "    return sum(lista)/len(lista)"
   ]
  },
  {
   "cell_type": "code",
   "execution_count": null,
   "metadata": {},
   "outputs": [],
   "source": [
    "media(lista1) # resultado esperado 8.625"
   ]
  },
  {
   "cell_type": "code",
   "execution_count": null,
   "metadata": {},
   "outputs": [],
   "source": [
    "media(lista2) # resultado esperado 1.2"
   ]
  },
  {
   "cell_type": "code",
   "execution_count": null,
   "metadata": {},
   "outputs": [],
   "source": [
    "# d) Retorne a soma dos elementos com valor negativo"
   ]
  },
  {
   "cell_type": "code",
   "execution_count": 12,
   "metadata": {},
   "outputs": [],
   "source": [
    "def soma_negativos(lista):\n",
    "    total = 0\n",
    "    for item in lista:\n",
    "        if item < 0:\n",
    "            #total += item\n",
    "            total = total + item\n",
    "    return total"
   ]
  },
  {
   "cell_type": "code",
   "execution_count": 14,
   "metadata": {},
   "outputs": [
    {
     "data": {
      "text/plain": [
       "-4"
      ]
     },
     "execution_count": 14,
     "metadata": {},
     "output_type": "execute_result"
    }
   ],
   "source": [
    "soma_negativos(lista1) # resultado esperado -4"
   ]
  },
  {
   "cell_type": "code",
   "execution_count": 15,
   "metadata": {},
   "outputs": [
    {
     "data": {
      "text/plain": [
       "-11"
      ]
     },
     "execution_count": 15,
     "metadata": {},
     "output_type": "execute_result"
    }
   ],
   "source": [
    "soma_negativos(lista2) # resultado esperado -11"
   ]
  },
  {
   "cell_type": "markdown",
   "metadata": {},
   "source": [
    "#### Exercício 2\n",
    "\n",
    "Faça uma função que receba duas listas e retorna True se são iguais ou False caso contrário.\n",
    "\n",
    "Obs: Duas listas são iguais se ambas possuem os mesmos valores e na mesma ordem"
   ]
  },
  {
   "cell_type": "code",
   "execution_count": null,
   "metadata": {},
   "outputs": [],
   "source": [
    "lista3 = [1, 2, 3, 4]\n",
    "lista4 = [4, 3, 2, 1]\n",
    "lista5 = [1, 2, 3, 4]"
   ]
  },
  {
   "cell_type": "code",
   "execution_count": null,
   "metadata": {},
   "outputs": [],
   "source": [
    "def verificar_igualdade(lst1, lst2):\n",
    "    if lst1 == lst2:\n",
    "        return True\n",
    "    else:\n",
    "        return False"
   ]
  },
  {
   "cell_type": "code",
   "execution_count": null,
   "metadata": {},
   "outputs": [],
   "source": [
    "# Teste com a lista3 e lista4. Resultado esperado: False\n",
    "verificar_igualdade(lista3, lista4)"
   ]
  },
  {
   "cell_type": "code",
   "execution_count": null,
   "metadata": {},
   "outputs": [],
   "source": [
    "# Teste com a lista3 e lista5. Resultado esperado: True\n",
    "verificar_igualdade(lista3, lista5)"
   ]
  },
  {
   "cell_type": "code",
   "execution_count": null,
   "metadata": {},
   "outputs": [],
   "source": [
    "# Teste com a lista1 e lista2. Resultado esperado: False\n",
    "verificar_igualdade(lista1, lista2)"
   ]
  },
  {
   "cell_type": "markdown",
   "metadata": {
    "collapsed": true
   },
   "source": [
    "#### Exercício 3\n",
    "\n",
    "Faça uma função que receba uma lista de números armazenados de forma crescente, e dois valores (limite inferior e limite superior) e exiba a sua sublista cujos elementos são maiores ou iguais ao limite inferior e menores ou iguais ao limite superior.\n",
    "\n",
    "Regras:\n",
    "\n",
    "    1) Caso a lista passada não esteja de forma cresce a mesma deve ser ordenada.\n",
    "    2) Limite inferior é obrigatório\n",
    "    3) Limite superior é opcional, sendo 30 o valor padrão.\n",
    "    \n",
    "Utilize as listas abaixo para testar seu código:"
   ]
  },
  {
   "cell_type": "code",
   "execution_count": null,
   "metadata": {},
   "outputs": [],
   "source": [
    "lst_ini_1 = [12, 15, 18, 20, 21, 22, 24, 32, 33, 42, 50]\n",
    "lst_ini_2 = [40, 30, 25, 1, 2, 22, 24, 32, 33, 42, 43]"
   ]
  },
  {
   "cell_type": "code",
   "execution_count": null,
   "metadata": {},
   "outputs": [],
   "source": [
    "def sub_listas(lst_ini, limite_inf, limite_sup=30):\n",
    "    lst_ini.sort()\n",
    "    lst_final = []\n",
    "    for item in lst_ini:\n",
    "        if item >= limite_inf and item <= limite_sup:\n",
    "            lst_final.append(item)\n",
    "    return lst_final"
   ]
  },
  {
   "cell_type": "code",
   "execution_count": null,
   "metadata": {},
   "outputs": [],
   "source": [
    "# Teste com limite_inf = 14 para ambas as listas. \n",
    "# Resultado esperado: [15, 18, 20, 21, 22, 24]\n",
    "sub_listas(lst_ini_1, 14)"
   ]
  },
  {
   "cell_type": "code",
   "execution_count": null,
   "metadata": {},
   "outputs": [],
   "source": [
    "# Resultado esperado: [22, 24, 25, 30]\n",
    "sub_listas(lst_ini_2, 14)"
   ]
  },
  {
   "cell_type": "code",
   "execution_count": null,
   "metadata": {},
   "outputs": [],
   "source": [
    "# Teste com limite_inf = 14 e limite_sup = 43 para ambas as listas\n",
    "# Resultado esperado: [15, 18, 20, 21, 22, 24, 32, 33, 42]\n",
    "sub_listas(lst_ini_1, 14, 43)"
   ]
  },
  {
   "cell_type": "code",
   "execution_count": null,
   "metadata": {},
   "outputs": [],
   "source": [
    "# Resultado esperado: [22, 24, 25, 30, 32, 33, 40, 42, 43]\n",
    "sub_listas(lst_ini_2, 14, 43)"
   ]
  },
  {
   "cell_type": "code",
   "execution_count": null,
   "metadata": {},
   "outputs": [],
   "source": [
    "# Teste com limite_inf = 42 e limite_sup = 50 para ambas as listas"
   ]
  },
  {
   "cell_type": "code",
   "execution_count": null,
   "metadata": {},
   "outputs": [],
   "source": [
    "# Resultado esperado: [42, 50]\n",
    "sub_listas(lst_ini_1, 42, 50)"
   ]
  },
  {
   "cell_type": "code",
   "execution_count": null,
   "metadata": {},
   "outputs": [],
   "source": [
    "# Resultado esperado: [42, 43]\n",
    "sub_listas(lst_ini_2, 42, 50)"
   ]
  },
  {
   "cell_type": "code",
   "execution_count": null,
   "metadata": {},
   "outputs": [],
   "source": []
  }
 ],
 "metadata": {
  "kernelspec": {
   "display_name": "Python 3",
   "language": "python",
   "name": "python3"
  },
  "language_info": {
   "codemirror_mode": {
    "name": "ipython",
    "version": 3
   },
   "file_extension": ".py",
   "mimetype": "text/x-python",
   "name": "python",
   "nbconvert_exporter": "python",
   "pygments_lexer": "ipython3",
   "version": "3.7.3"
  }
 },
 "nbformat": 4,
 "nbformat_minor": 1
}
