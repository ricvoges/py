{
 "cells": [
  {
   "cell_type": "markdown",
   "metadata": {},
   "source": [
    "# Exercícios\n",
    "\n",
    "## Exercício 1\n",
    "1 - Escreva uma função chamada carregar_arquivo, que lê o conteúdo do arquivo dados.txt. Esse arquivo contém uma palavra em cada linha. Para cada linha lida, deve-se adicionar a palavra em uma lista. Ao final do código deve-se retornar a lista criada contendo todas as palavras. Lembre-se de remover o ```\\n```."
   ]
  },
  {
   "cell_type": "code",
   "execution_count": null,
   "metadata": {},
   "outputs": [],
   "source": [
    "def carregar_arquivo(nome_arquivo):\n",
    "    arq = open(nome_arquivo, 'r')\n",
    "    lst = arq.readlines()\n",
    "    arq.close()\n",
    "    aux_lst = []\n",
    "    for item in lst:\n",
    "        aux_lst.append(item[:-1])\n",
    "    return aux_lst"
   ]
  },
  {
   "cell_type": "markdown",
   "metadata": {},
   "source": [
    "A função acima também pode ser implementada da seguinte forma:"
   ]
  },
  {
   "cell_type": "code",
   "execution_count": null,
   "metadata": {},
   "outputs": [],
   "source": [
    "def carregar_arquivo2(nome_arquivo):\n",
    "    arq = open(nome_arquivo, 'r')\n",
    "    conteudo = arq.read() # arq.readlines()\n",
    "    arq.close()\n",
    "    dados = conteudo.split('\\n')\n",
    "    return dados"
   ]
  },
  {
   "cell_type": "code",
   "execution_count": null,
   "metadata": {},
   "outputs": [],
   "source": [
    "dados = carregar_arquivo('dados.txt')\n",
    "print(dados)"
   ]
  },
  {
   "cell_type": "markdown",
   "metadata": {},
   "source": [
    "## Exercício 2\n",
    "\n",
    "Crie uma função chamada remover_repetidos. Essa função deve receber uma lista como parâmetro. Deve-se remover todos as palavras repetidas. Utilize uma lista auxiliar para facilitar. Ao final retorne a lista."
   ]
  },
  {
   "cell_type": "code",
   "execution_count": null,
   "metadata": {},
   "outputs": [],
   "source": [
    "def remover_repetidos(dados):\n",
    "    aux = []\n",
    "    for item in dados:\n",
    "        if item not in aux:\n",
    "            aux.append(item)\n",
    "            \n",
    "    # Uma outra opção é utilizar o tipo de dados set.\n",
    "    # Esse tipo de dados remove os repetidos e salva com o tipo set.\n",
    "    # Depois é necessário converter novamente para lista.\n",
    "    #aux_lst = list(set(lista))\n",
    "    #print len(aux_lst)\n",
    "    return aux"
   ]
  },
  {
   "cell_type": "markdown",
   "metadata": {},
   "source": [
    "A função anterior poderia ser reescrita utilizando o set."
   ]
  },
  {
   "cell_type": "code",
   "execution_count": null,
   "metadata": {},
   "outputs": [],
   "source": [
    "def remover_repetidos2(dados):\n",
    "    return list(set(dados))"
   ]
  },
  {
   "cell_type": "code",
   "execution_count": null,
   "metadata": {},
   "outputs": [],
   "source": [
    "dados_unicos = remover_repetidos(dados)\n",
    "print(dados_unicos)"
   ]
  },
  {
   "cell_type": "markdown",
   "metadata": {},
   "source": [
    "## Exercício 3\n",
    "\n",
    "Agora, crie uma função chamada ```verificar_repetidos```. Essa função irá receber duas lista como parâmetro. Uma com todas as palavras lidas do arquivo e outra sem as palavras repetidas. Verifique a quantidade de vezes que as palavras aparecem. Ao final imprima a lista de palavras e a quantidade de vezes de cada palavra.\n",
    "\n",
    "    def verificar_repetidos(dados, dados_unicos):\n",
    "\n",
    "Exemplo de saída:\n",
    "\n",
    "    carro – 10\n",
    "    fia - 8\n",
    "    big data - 5\n"
   ]
  },
  {
   "cell_type": "code",
   "execution_count": null,
   "metadata": {},
   "outputs": [],
   "source": [
    "def verificar_repetidos(dados, dados_unicos):\n",
    "    for item in dados_unicos:\n",
    "        print(\"{} - {}\".format(item, dados.count(item)))"
   ]
  },
  {
   "cell_type": "code",
   "execution_count": null,
   "metadata": {},
   "outputs": [],
   "source": [
    "verificar_repetidos(dados, dados_unicos)"
   ]
  },
  {
   "cell_type": "markdown",
   "metadata": {},
   "source": [
    "## Exercício 4\n",
    "\n",
    "Modifique a classe pessoa vista em aula:\n",
    "\n",
    "    a) Crie um método para calcular a idade em meses, chamado calcular_meses.\n",
    "    b) Instancie a classe com os seguintes argumentos\n",
    "        Nome: 'João Silva'\n",
    "        Idade: 42\n",
    "    c) Imprima a seguinte frase:\n",
    "        \"Y tem X meses de vida\", onde Y é o nome e X é o calculo da idade em meses.\n"
   ]
  },
  {
   "cell_type": "code",
   "execution_count": null,
   "metadata": {},
   "outputs": [],
   "source": [
    "# Resposta a)\n",
    "class Pessoa(object):\n",
    "    def __init__(self, nome, idade):\n",
    "        self.nome = nome\n",
    "        self.idade = idade\n",
    "        \n",
    "    def calcular_meses(self):\n",
    "        self.total_meses = 12 * self.idade\n",
    "        return self.total_meses"
   ]
  },
  {
   "cell_type": "code",
   "execution_count": null,
   "metadata": {},
   "outputs": [],
   "source": [
    "# Resposta b)\n",
    "joao = Pessoa('João Silva', 42)"
   ]
  },
  {
   "cell_type": "code",
   "execution_count": null,
   "metadata": {},
   "outputs": [],
   "source": [
    "# Resposta c)\n",
    "print(\"{} tem {} meses de vida\".format(joao.nome, joao.calcular_meses()))"
   ]
  },
  {
   "cell_type": "markdown",
   "metadata": {},
   "source": [
    "## Exercício 5\n",
    "\n",
    "Implemente a classe `Funcionário`\n",
    "\n",
    "<img src=\"exercicio5.png\" width=\"300\"/>\n",
    "\n",
    "Exemplo de Uso:\n",
    "\n",
    "    >>> pedro = Funcionario(\"Pedro\", 7000)\n",
    "    >>> pedro.aumentar_salario(10)\n",
    "    >>> pedro.salario\n",
    "    7700"
   ]
  },
  {
   "cell_type": "code",
   "execution_count": null,
   "metadata": {},
   "outputs": [],
   "source": [
    "class Funcionario:\n",
    "    def __init__(self, nome, salario):\n",
    "        self.nome = nome\n",
    "        self.salario = salario\n",
    "        \n",
    "    def aumentar_salario(self, percentual):\n",
    "        self.salario = self.salario + (self.salario * (percentual/100))"
   ]
  },
  {
   "cell_type": "code",
   "execution_count": null,
   "metadata": {},
   "outputs": [],
   "source": [
    "pedro = Funcionario(\"Pedro\", 7000)"
   ]
  },
  {
   "cell_type": "code",
   "execution_count": null,
   "metadata": {},
   "outputs": [],
   "source": [
    "pedro.salario"
   ]
  },
  {
   "cell_type": "code",
   "execution_count": null,
   "metadata": {},
   "outputs": [],
   "source": [
    "pedro.aumentar_salario(10)"
   ]
  },
  {
   "cell_type": "code",
   "execution_count": null,
   "metadata": {},
   "outputs": [],
   "source": [
    "pedro.salario"
   ]
  },
  {
   "cell_type": "code",
   "execution_count": null,
   "metadata": {},
   "outputs": [],
   "source": [
    "pedro.aumentar_salario(-10)"
   ]
  },
  {
   "cell_type": "code",
   "execution_count": null,
   "metadata": {},
   "outputs": [],
   "source": [
    "pedro.salario"
   ]
  },
  {
   "cell_type": "markdown",
   "metadata": {},
   "source": [
    "## Exercício 6\n",
    "\n",
    "Implemente a classe Aluno. Regras:\n",
    "\n",
    "- Quando o método `estudar(qtde_horas)` for executado deve-se acresentar a `qtde_horas` no atributo `tempo_sem_dormir`)\n",
    "- Quando o método `dormir(qtde_horas)` for executado deve-se reduzir a `qtde_horas` do atributo `tempo_sem_dormir`)\n",
    "- Crie um código de teste da classe, criando um objeto da classe aluno e utilize os métodos estudar e dormir. Ao final dos testes, imprima a quantidade de horas que o aluno está sem dormir.\n",
    "\n",
    "<img src=\"exercicio5.png\" width=\"300\"/>"
   ]
  },
  {
   "cell_type": "code",
   "execution_count": null,
   "metadata": {},
   "outputs": [],
   "source": [
    "class Aluno:\n",
    "    def __init__(self, nome):\n",
    "        self.nome = nome\n",
    "        self.tempo_sem_dormir = 0\n",
    "        \n",
    "    def estudar(self, qtde_horas):\n",
    "        self.tempo_sem_dormir += qtde_horas\n",
    "        \n",
    "    def dormir(self, qtde_horas):\n",
    "        self.tempo_sem_dormir -= qtde_horas"
   ]
  },
  {
   "cell_type": "code",
   "execution_count": null,
   "metadata": {},
   "outputs": [],
   "source": [
    "mario = Aluno('Mario')"
   ]
  },
  {
   "cell_type": "code",
   "execution_count": null,
   "metadata": {},
   "outputs": [],
   "source": [
    "mario.estudar(10)"
   ]
  },
  {
   "cell_type": "code",
   "execution_count": null,
   "metadata": {},
   "outputs": [],
   "source": [
    "mario.estudar(14)"
   ]
  },
  {
   "cell_type": "code",
   "execution_count": null,
   "metadata": {},
   "outputs": [],
   "source": [
    "mario.estudar(30)"
   ]
  },
  {
   "cell_type": "code",
   "execution_count": null,
   "metadata": {},
   "outputs": [],
   "source": [
    "mario.dormir(5)"
   ]
  },
  {
   "cell_type": "code",
   "execution_count": null,
   "metadata": {},
   "outputs": [],
   "source": [
    "mario.dormir(7)"
   ]
  },
  {
   "cell_type": "code",
   "execution_count": null,
   "metadata": {},
   "outputs": [],
   "source": [
    "# Resultado esperado 42 horas sem dormir.\n",
    "print(f\"{mario.nome} está {mario.tempo_sem_dormir} horas sem dormir\")"
   ]
  },
  {
   "cell_type": "code",
   "execution_count": null,
   "metadata": {},
   "outputs": [],
   "source": []
  }
 ],
 "metadata": {
  "kernelspec": {
   "display_name": "Python 3",
   "language": "python",
   "name": "python3"
  },
  "language_info": {
   "codemirror_mode": {
    "name": "ipython",
    "version": 3
   },
   "file_extension": ".py",
   "mimetype": "text/x-python",
   "name": "python",
   "nbconvert_exporter": "python",
   "pygments_lexer": "ipython3",
   "version": "3.7.2"
  }
 },
 "nbformat": 4,
 "nbformat_minor": 1
}
