{
 "cells": [
  {
   "cell_type": "code",
   "execution_count": 1,
   "metadata": {},
   "outputs": [
    {
     "name": "stdout",
     "output_type": "stream",
     "text": [
      "Digite seu nome: \n",
      "ricardo\n"
     ]
    }
   ],
   "source": [
    "print(\"Digite seu nome: \")\n",
    "nome = input()\n"
   ]
  },
  {
   "cell_type": "markdown",
   "metadata": {},
   "source": [
    "1 - Crie um programa que irá perguntar ao usuário para digitar o nome e a idade. Imprima uma mensagem que diga qual é o ano em que ele irá fazer 100 anos."
   ]
  },
  {
   "cell_type": "code",
   "execution_count": 11,
   "metadata": {},
   "outputs": [
    {
     "name": "stdout",
     "output_type": "stream",
     "text": [
      "Digite sua idade: \n",
      "42\n",
      "quantas vezes voce quer ver esta mensagem? \n",
      "5\n"
     ]
    }
   ],
   "source": [
    "print(\"Digite sua idade: \")\n",
    "idade = int(input())\n",
    "print(\"quantas vezes voce quer ver esta mensagem? \")\n",
    "vezes = int (input())"
   ]
  },
  {
   "cell_type": "code",
   "execution_count": 14,
   "metadata": {},
   "outputs": [
    {
     "name": "stdout",
     "output_type": "stream",
     "text": [
      "2077\n",
      "2077\n",
      "2077\n",
      "2077\n",
      "2077\n"
     ]
    }
   ],
   "source": [
    "ano =  2019 + (100 - idade)\n",
    "\n",
    "for x in range(0,vezes):\n",
    "    print(ano)"
   ]
  },
  {
   "cell_type": "code",
   "execution_count": 25,
   "metadata": {},
   "outputs": [
    {
     "name": "stdout",
     "output_type": "stream",
     "text": [
      "Digite um numero: \n",
      "44\n",
      "Par\n"
     ]
    }
   ],
   "source": [
    "print(\"Digite um numero: \")\n",
    "nume = int(input())\n",
    "if nume % 2 == 0:\n",
    "    print(\"Par\")\n",
    "else:\n",
    "    print(\"Impar\")"
   ]
  },
  {
   "cell_type": "markdown",
   "metadata": {},
   "source": [
    "4 - Utilize a lista lst = [1, 1, 2, 3, 5, 8, 13, 21, 34, 55, 89].\n",
    "\n",
    "a) Escreva um programa que irá imprimir todos os elementos menor ou igual a 5.\n",
    "b) Ao invés de imprimir os elementos um a um, faça uma nova lista que tenha todos os elementos que são menor ou igual a 5. Imprima essa lista.\n",
    "c) Peça ao usuário para digitar um número e imprima todos os números menores que os elementos da lista l."
   ]
  },
  {
   "cell_type": "code",
   "execution_count": 40,
   "metadata": {},
   "outputs": [
    {
     "name": "stdout",
     "output_type": "stream",
     "text": [
      "[1, 1, 2, 3, 5]\n"
     ]
    }
   ],
   "source": [
    "lst = [1, 1, 2, 3, 5, 8, 13, 21, 34, 55, 89]\n",
    "lst1 = []\n",
    "for n in lst:\n",
    "    if n <= 5:\n",
    "        lst1.append(n)\n",
    "print (lst1)"
   ]
  },
  {
   "cell_type": "code",
   "execution_count": 2,
   "metadata": {},
   "outputs": [
    {
     "name": "stdout",
     "output_type": "stream",
     "text": [
      "insira um numero\n",
      "80\n",
      "[1, 1, 2, 3, 5, 8, 13, 21, 34, 55]\n"
     ]
    }
   ],
   "source": [
    "print('insira um numero')\n",
    "numer = int(input())\n",
    "lst = [1, 1, 2, 3, 5, 8, 13, 21, 34, 55, 89]\n",
    "lst1 = []\n",
    "for n in lst:\n",
    "    if n < numer:\n",
    "        lst1.append(n)\n",
    "print (lst1)"
   ]
  },
  {
   "cell_type": "markdown",
   "metadata": {},
   "source": [
    "5 - Utilize as duas listas abaixo:\n",
    "\n",
    "    l1 = [1, 1, 2, 3, 5, 8, 13, 21, 34, 55, 89]\n",
    "    l2 = [1, 2, 3, 4, 5, 6, 7, 8, 9, 10, 11, 12, 13]\n",
    "Escreva um programa que irá retornar uma lista que contém apenas os elementos que são comuns entre as listas (sem duplica-los). \n",
    "\n",
    "Tenha certeza que seu programa funcione com duas listas de tamanhos diferentes."
   ]
  },
  {
   "cell_type": "code",
   "execution_count": 6,
   "metadata": {},
   "outputs": [
    {
     "name": "stdout",
     "output_type": "stream",
     "text": [
      "[1, 1, 2, 3, 5, 8, 13]\n"
     ]
    }
   ],
   "source": [
    "l1 = [1, 1, 2, 3, 5, 8, 13, 21, 34, 55, 89]\n",
    "l2 = [1, 2, 3, 4, 5, 6, 7, 8, 9, 10, 11, 12, 13]\n",
    "\n",
    "lf = []\n",
    "for n in l1:\n",
    "    for o in l2:\n",
    "        if n == o :\n",
    "            lf.append(o)\n",
    "print (lf)\n"
   ]
  },
  {
   "cell_type": "code",
   "execution_count": null,
   "metadata": {},
   "outputs": [],
   "source": []
  }
 ],
 "metadata": {
  "kernelspec": {
   "display_name": "Python 3",
   "language": "python",
   "name": "python3"
  },
  "language_info": {
   "codemirror_mode": {
    "name": "ipython",
    "version": 3
   },
   "file_extension": ".py",
   "mimetype": "text/x-python",
   "name": "python",
   "nbconvert_exporter": "python",
   "pygments_lexer": "ipython3",
   "version": "3.7.3"
  }
 },
 "nbformat": 4,
 "nbformat_minor": 2
}
